{
 "cells": [
  {
   "cell_type": "markdown",
   "metadata": {},
   "source": [
    "# Case Study Unit 4 - Signal Frontier Analysis\n",
    "### Cory Adams, Chris Boomhower, Alexandra Fisher, Alex Frye\n",
    "### *MSDS 7333, September 23, 2017*"
   ]
  },
  {
   "cell_type": "markdown",
   "metadata": {},
   "source": [
    "Assignments:\n",
    "* Abstract - Chris\n",
    "* Intro - Chris\n",
    "* Methods - Chris\n",
    "* Results 1,2 - Frye\n",
    "* Results 3-6 Overview - Fisher\n",
    "* Results 3,4 - Fisher\n",
    "* Results 5,6 - Cory\n",
    "* Conclusion/Future Works - Chris"
   ]
  },
  {
   "cell_type": "markdown",
   "metadata": {},
   "source": [
    "## Abstract\n",
    "While the history of financial trade markets as we know them today spans centuries, the adoption of Python to study market trends has really only gained traction since 2005 [XXX XXX]. The language has been used to study everything from historical stock price trends to rolling correlation and linear regression. This case study is performed to demonstrate Python's effectiveness for studying stock cumulative returns and to test the principles of short, intermediate, and long term momentum. The dataset analyzed consists of a mock-up portfolio of five semiconductor industry stocks. Prices were pulled over a ten year timeframe and cumulative returns explored. Momentums were calculated for various lookback and holding periods with the expectation that short and long term periods would exhibit inverted outcomes and intermediate term periods would exhibit a continued trend over future periods of equivalent length. Finally, research's theory for best strategy being a lookback period of one year with a holding period of three months is tested using this portfolio data [XXX - <span style=\"color:red\">use reference from Youtube video</span>]. Next steps for using the R statistical language to replicate this analysis are finally discussed."
   ]
  },
  {
   "cell_type": "markdown",
   "metadata": {},
   "source": [
    "## Introduction\n",
    "Financial stock market data can be rather challenging to analyze without adequate tools. Fortunately, libraries such as Python's *pandas* module make working with financial and time-series data very straightforward. The *pandas* library efficiently indexes time-sensitive data, supports operations for time series of different frequencies, handles \"as of\" data imputation, and even provides functions conducive to stock value analysis with respect to time.\n",
    "\n",
    "To evaluate *pandas* capabilities, we put the toolset to work on momentum analysis. Existing research indicates three types of momentum: 1) Short (1 month), 2) Intermediate (6-12 months), and 3) Long (3-5 years) [XXX - <span style=\"color:red\">use references shared in Youtube video</span>]. This research reveals that both short and long term momentums exhibit reversal in short and long term future values. In contrast, intermediate term momentum demonstrates continued stock portfolio performance over intermediate future periods. Additionally, studies argue the best strategy is to use a lookback period of one year with a holding period of three months when determining when to buy or sell [XXX - <span style=\"color:red\">use references shared in Youtube video</span>]. These are interesting principles and their analysis using real, historical stock values make for a great case study to evaluate Python and *pandas* for financial data applications."
   ]
  },
  {
   "cell_type": "code",
   "execution_count": null,
   "metadata": {
    "collapsed": true
   },
   "outputs": [],
   "source": [
    "## Load necessary modules\n",
    "import pandas_datareader as web\n",
    "import pandas as pd\n",
    "import numpy as np\n",
    "import matplotlib as mpl\n",
    "import matplotlib.pyplot as plt\n",
    "from collections import defaultdict\n",
    "import datetime\n",
    "from IPython.display import display\n",
    "import missingno as msno\n",
    "\n",
    "%matplotlib inline\n",
    "\n",
    "pd.set_option('display.max_rows', 500)\n",
    "pd.set_option('display.max_columns', 500)\n",
    "pd.set_option('display.width', 1000)"
   ]
  },
  {
   "cell_type": "markdown",
   "metadata": {},
   "source": [
    "## Methods\n",
    "Methods here\n",
    "1. Pull 10 years worth of data, leaving enough buffer for lookback\n",
    "2. Exploratory - review cumulative returns (percent change day-to-day). Review 10 years in full but then also again for most recent quarter as well.\n",
    "3. Analyze Short\n",
    "4. Analyze Intermediate\n",
    "5. Analyze Long term momentum (Be sure to tie back to existing research since we are basically just testing the existing theories for momentum).\n",
    "6. Review results against theory that 12 month loopback with 3 month holding is best strategy\n",
    "\n",
    "\n",
    "\n",
    "\n",
    "* Describe momentum computation for simplified porfolio\n",
    "* Texas Instruments, ON Semiconductor, Nexperia, Diodes, and Maxim stocks identified for this case study\n",
    "\n",
    "* Note that code adopted from *Python for Data Analysis*, Chapter 11, pages 345-347\n",
    "\n",
    "\n"
   ]
  },
  {
   "cell_type": "markdown",
   "metadata": {},
   "source": [
    "## Results\n",
    "Results here\n",
    "\n",
    "* Number each step as outlined in Methods section\n",
    "* If some expounding is needed, feel free to add code chunks"
   ]
  },
  {
   "cell_type": "markdown",
   "metadata": {},
   "source": [
    "### 1) Loading the Data\n",
    "\n",
    "To begin our analysis, the first step is to load data for our target stocks. Utilizing the \"pandas_datareader\" python package, we are able to capture adjusted close data from yahoo finance. In order to account for momentum calculations, including prior year statistics, we have decided to pull a full 10 years of historical business day prices for this analysis from 6-30-2007 to 6-30-2017 as may be seen in rendered header and tail output below. "
   ]
  },
  {
   "cell_type": "code",
   "execution_count": null,
   "metadata": {
    "scrolled": true
   },
   "outputs": [],
   "source": [
    "## Note that if RemoteDataError received upon chunk run, rerun this chunk until data pulled successfully\n",
    "names = ['TXN', 'ON', 'NXPI', 'DIOD', 'MXIM']\n",
    "def get_px(stock, start, end):\n",
    "    return web.DataReader(stock, 'yahoo', start, end)\n",
    "\n",
    "s = datetime.datetime(2007, 6, 30)\n",
    "e = datetime.datetime(2017, 6, 29) #Offset by one day\n",
    "\n",
    "px = ''\n",
    "tryCnt = 1\n",
    "while(tryCnt >0):\n",
    "    try:\n",
    "        px = pd.DataFrame({n:get_px(n, s, e)['Adj Close'] for n in names})\n",
    "        print(\"Successful Data Load on attempt {0}.\".format(tryCnt))\n",
    "        tryCnt = -1\n",
    "    except:\n",
    "        print(\"Error Occurred on attempt\",tryCnt, \"... Trying again.\")\n",
    "        tryCnt+=1\n",
    "display(px.head())\n",
    "display(px.tail())"
   ]
  },
  {
   "cell_type": "markdown",
   "metadata": {},
   "source": [
    "**Missing Data** Upon our initial loading of the data we see that there are missing values for NXPI. To gain high level exposure to missing values within this dataset, we have produced a missing value plot below. In this plot, we identify that the only stock which we do not have the full 10 year date span, is NXPI. This is expected, as can be confirmed through NASDAQ**[XXX]**, NXPI began on the market on 8/6/2010. All data prior to this time for NXPI, has resulted in NaN values. "
   ]
  },
  {
   "cell_type": "code",
   "execution_count": null,
   "metadata": {},
   "outputs": [],
   "source": [
    "    #Plot for missing Data\n",
    "filtered_msnoData = msno.nullity_sort(msno.nullity_filter(px))\n",
    "msno.matrix(filtered_msnoData)\n",
    "\n",
    "del filtered_msnoData"
   ]
  },
  {
   "cell_type": "markdown",
   "metadata": {},
   "source": [
    "Shown below, we may confirm that this data has loaded properly, and missing values stop after 2010-08-05. This matches our findings on NASDAQ, and we may proceed with confidence that data has loaded successfully."
   ]
  },
  {
   "cell_type": "code",
   "execution_count": null,
   "metadata": {},
   "outputs": [],
   "source": [
    "display(pd.DataFrame(pd.concat([pd.Series(px[px[\"NXPI\"].isnull()].NXPI.tail()), pd.Series(px[px[\"NXPI\"].notnull()].NXPI.head())])).T)"
   ]
  },
  {
   "cell_type": "markdown",
   "metadata": {},
   "source": [
    "### 2) Exploratory Data Analysis - Stock Price and Cumulative Returns\n",
    "\n",
    "To explore these stocks, prior to further analysis, we have plotted both stock prices and cumulative returns across the most recent 3 Month, 1 Year, 3 Year, and 10 Year Periods. These plots are divided into 3 rows: 1) Stock Prices; 2) Cumulative Returns with Standardized Scale; 3) Cumulative Returns with Zoomed Scale. To provide a better picture of the data, cumulative returns are displayed with two different y scale ranges.\n",
    "\n",
    "**Stock Prices** While we do not have the NXPI data element prior to August 2010, it is definitely apparent that NXPI has had a tremendously successful time in the market since inception. With prices ranging from approximately \\$14 in 2010 all the way to approximately $110 in 2017, it is followed next by TXN with an ending price of only approximately \\$80 in 2017. Although NXPI has had the most successful upward trend in the long-term, it also appears the most volatile. We notice, especially in the 3 year range, that there are much larger peaks and valleys than in the other prices. This factor likely attributes NXPI as a higher risk stock option than others plotted at its side. \n",
    "\n",
    "**Cumulative Returns** The formula for cumulative returns is:\n",
    "\n",
    "<center> $\\frac{(Current Price of Security - Original Price of Security)}{(Original Price of Security)}$**[XXX]** </center>\n",
    "\n",
    "This computation allows us to assess aggregate gain or loss from an initialized starting date. These plots provided display return percentages in decimal form. The second row of cumulative return plots provide us context toward aggregate gains in the short term versus long term, showing the powerful plunge of NXPI in the early years of inception. However, what was difficult to understand in the stock price visualizations, is that NXPI does not actually take the win in the intermediate 1-3 year terms. As we dive into the scaled visuals of these same values we find that DIOD, second to last in cumulative returns over the 10 year period, takes the win by nearly 20\\% in the 1 year period. This goes to show, that buy and hold methodologies are very important to your overall investment strategy!"
   ]
  },
  {
   "cell_type": "code",
   "execution_count": null,
   "metadata": {},
   "outputs": [],
   "source": [
    "plt.rcParams['figure.figsize'] = (18, 9)\n",
    "fig = plt.figure()\n",
    "\n",
    "###### Stock Prices ######\n",
    "# 3 month\n",
    "ax = fig.add_subplot(3,4,1)\n",
    "ax.set_ylabel(\"Stock Price\")\n",
    "px.ix['2017-03-30':'2017-06-29'].plot(ax=ax, title = \"Stock Prices, 3 Month Lookback\")\n",
    "\n",
    "# 1 Year\n",
    "ax = fig.add_subplot(3,4,2)\n",
    "ax.set_ylabel(\"Stock Price\")\n",
    "px.ix['2016-06-30':'2017-06-29'].plot(ax=ax, title = \"Stock Prices, 1 Year Lookback\")\n",
    "\n",
    "# 3 Year\n",
    "ax = fig.add_subplot(3,4,3)\n",
    "ax.set_ylabel(\"Stock Price\")\n",
    "px.ix['2014-06-30':'2017-06-29'].plot(ax=ax, title = \"Stock Prices, 3 Year Lookback\")\n",
    "\n",
    "# 10 Year\n",
    "ax = fig.add_subplot(3,4,4)\n",
    "ax.set_ylabel(\"Stock Price\")\n",
    "px.plot(ax=ax, title = \"Stock Prices, 10 Year Lookback\")\n",
    "\n",
    "###### Cum Return ######\n",
    "# 3 month\n",
    "ax = fig.add_subplot(3,4,5)\n",
    "ax.set_ylabel(\"Cum. Returns\")\n",
    "px_pad = px.ix['2017-03-30':'2017-06-29'].asfreq('B').fillna(method='ffill') #Keep at business day freq and forward fill any missing values\n",
    "rets = px_pad.pct_change() #Plot day-to-day percent change in value\n",
    "((1 + rets).cumprod() - 1).plot(ax=ax, title = \"Cumulative Returns, 3 Month Lookback\", ylim=(-1,7),rot=45)\n",
    "\n",
    "# 1 Year\n",
    "ax = fig.add_subplot(3,4,6)\n",
    "ax.set_ylabel(\"Cum. Returns\")\n",
    "px_pad = px.ix['2016-06-30':'2017-06-29'].asfreq('B').fillna(method='ffill') #Keep at business day freq and forward fill any missing values\n",
    "rets = px_pad.pct_change() #Plot day-to-day percent change in value\n",
    "((1 + rets).cumprod() - 1).plot(ax=ax, title = \"Cumulative Returns, 1 Year Lookback\", ylim=(-1,7),rot=45)\n",
    "\n",
    "# 3 Year\n",
    "ax = fig.add_subplot(3,4,7)\n",
    "ax.set_ylabel(\"Cum. Returns\")\n",
    "px_pad = px.ix['2014-06-30':'2017-06-29'].asfreq('B').fillna(method='ffill') #Keep at business day freq and forward fill any missing values\n",
    "rets = px_pad.pct_change() #Plot day-to-day percent change in value\n",
    "((1 + rets).cumprod() - 1).plot(ax=ax, title = \"Cumulative Returns, 3 Year Lookback\", ylim=(-1,7),rot=45)\n",
    "\n",
    "# 10 Year\n",
    "ax = fig.add_subplot(3,4,8)\n",
    "ax.set_ylabel(\"Cum. Returns\")\n",
    "px_pad = px.asfreq('B').fillna(method='ffill') #Keep at business day freq and forward fill any missing values\n",
    "rets = px_pad.pct_change() #Plot day-to-day percent change in value\n",
    "((1 + rets).cumprod() - 1).plot(ax=ax, title = \"Cumulative Returns, 10 Year Lookback\", ylim=(-1,7),rot=45)\n",
    "\n",
    "\n",
    "###### Cum Return ZOOM ######\n",
    "# 3 month\n",
    "ax = fig.add_subplot(3,4,9)\n",
    "ax.set_ylabel(\"Cum. Returns\")\n",
    "px_pad = px.ix['2017-03-30':'2017-06-29'].asfreq('B').fillna(method='ffill') #Keep at business day freq and forward fill any missing values\n",
    "rets = px_pad.pct_change() #Plot day-to-day percent change in value\n",
    "((1 + rets).cumprod() - 1).plot(ax=ax, title = \"Cum. Returns, 3 Month Lookback-Scaled\",rot=45)\n",
    "\n",
    "# 1 Year\n",
    "ax = fig.add_subplot(3,4,10)\n",
    "ax.set_ylabel(\"Cum. Returns\")\n",
    "px_pad = px.ix['2016-06-30':'2017-06-29'].asfreq('B').fillna(method='ffill') #Keep at business day freq and forward fill any missing values\n",
    "rets = px_pad.pct_change() #Plot day-to-day percent change in value\n",
    "((1 + rets).cumprod() - 1).plot(ax=ax, title = \"Cum. Returns, 1 Year Lookback-Scaled\",rot=45)\n",
    "\n",
    "# 3 Year\n",
    "ax = fig.add_subplot(3,4,11)\n",
    "ax.set_ylabel(\"Cum. Returns\")\n",
    "px_pad = px.ix['2014-06-30':'2017-06-29'].asfreq('B').fillna(method='ffill') #Keep at business day freq and forward fill any missing values\n",
    "rets = px_pad.pct_change() #Plot day-to-day percent change in value\n",
    "((1 + rets).cumprod() - 1).plot(ax=ax, title = \"Cum. Returns, 3 Year Lookback-Scaled\",rot=45)\n",
    "\n",
    "# 10 Year\n",
    "ax = fig.add_subplot(3,4,12)\n",
    "ax.set_ylabel(\"Cum. Returns\")\n",
    "px_pad = px.asfreq('B').fillna(method='ffill') #Keep at business day freq and forward fill any missing values\n",
    "rets = px_pad.pct_change() #Plot day-to-day percent change in value\n",
    "((1 + rets).cumprod() - 1).plot(ax=ax, title = \"Cum. Returns, 10 Year Lookback-Scaled\",rot=45)\n",
    "\n",
    "fig.subplots_adjust(top = 0.99, bottom=0.01, hspace=.5, wspace=0.2)"
   ]
  },
  {
   "cell_type": "markdown",
   "metadata": {},
   "source": [
    "### 3-6 Overview"
   ]
  },
  {
   "cell_type": "code",
   "execution_count": null,
   "metadata": {
    "collapsed": true
   },
   "outputs": [],
   "source": [
    "def calc_mom(price, lookback, lag):\n",
    "    mom_ret = price.shift(lag).pct_change(lookback)\n",
    "    ranks = mom_ret.rank(axis=1, ascending=False)\n",
    "    demeaned = ranks.subtract(ranks.mean(axis=1), axis=0)\n",
    "    return demeaned.divide(demeaned.std(axis=1), axis=0)"
   ]
  },
  {
   "cell_type": "code",
   "execution_count": null,
   "metadata": {
    "collapsed": true
   },
   "outputs": [],
   "source": [
    "compound = lambda x : (1 + x).prod() - 1\n",
    "daily_sr = lambda x: x.mean() / x.std()\n",
    "\n",
    "def strat_sr(prices, lb, hold):\n",
    "    # Compute portfolio weights\n",
    "    freq = '%dB' % hold\n",
    "    port = calc_mom(prices, lb, lag=1)\n",
    "\n",
    "    daily_rets = prices.pct_change()\n",
    "\n",
    "    # Compute portfolio returns\n",
    "    port = port.shift(1).resample(freq).first()\n",
    "    returns = daily_rets.resample(freq).apply(compound)\n",
    "    port_rets = (port * returns).sum(axis=1)\n",
    "\n",
    "    return daily_sr(port_rets) * np.sqrt(252 / hold)"
   ]
  },
  {
   "cell_type": "markdown",
   "metadata": {},
   "source": [
    "Compute Sharpe Ratio values for various combinations of lookback and holding periods.\n",
    "\n",
    "* **Analyze Short, Intermediate, and Long term momentum (as described in youtube video referenced in References section.**\n",
    "* Existing research indicates best strategy is lookback of 12 months and holding period of 3 months"
   ]
  },
  {
   "cell_type": "code",
   "execution_count": null,
   "metadata": {},
   "outputs": [],
   "source": [
    "%%time\n",
    "def sr_combos(startLB, endLB, stepLB, startHD, endHD, stepHD):\n",
    "    lookbacks = range(startLB, endLB, stepLB)\n",
    "    holdings = range(startHD, endHD, stepHD)\n",
    "    dd = defaultdict(dict)\n",
    "    for lb in lookbacks:\n",
    "        for hold in holdings:\n",
    "            dd[lb][hold] = strat_sr(px, lb, hold)\n",
    "\n",
    "    ddf = pd.DataFrame(dd)\n",
    "    ddf.index.name = 'Holding Period'\n",
    "    ddf.columns.name = 'Lookback Period'\n",
    "    \n",
    "    return ddf"
   ]
  },
  {
   "cell_type": "code",
   "execution_count": null,
   "metadata": {
    "collapsed": true
   },
   "outputs": [],
   "source": [
    "def heatmap(df, normalize, cmap=plt.cm.bwr):\n",
    "    fig = plt.figure()\n",
    "    ax = fig.add_subplot(111)\n",
    "    axim = ax.imshow(df.values, cmap=cmap, interpolation='nearest', norm=normalize)\n",
    "    ax.set_xlabel(df.columns.name)\n",
    "    ax.set_xticks(np.arange(len(df.columns)))\n",
    "    ax.set_xticklabels(list(df.columns))\n",
    "    ax.set_ylabel(df.index.name)\n",
    "    ax.set_yticks(np.arange(len(df.index)))\n",
    "    ax.set_yticklabels(list(df.index))\n",
    "    for tick in ax.xaxis.get_major_ticks():\n",
    "        tick.label.set_fontsize(9) \n",
    "        tick.label.set_rotation('vertical')\n",
    "    for tick in ax.yaxis.get_major_ticks():\n",
    "        tick.label.set_fontsize(9)\n",
    "    plt.colorbar(axim)"
   ]
  },
  {
   "cell_type": "markdown",
   "metadata": {},
   "source": [
    "### 3"
   ]
  },
  {
   "cell_type": "code",
   "execution_count": null,
   "metadata": {
    "collapsed": true
   },
   "outputs": [],
   "source": [
    "%time short = sr_combos(1, 31, 1, 1, 62, 2)"
   ]
  },
  {
   "cell_type": "code",
   "execution_count": null,
   "metadata": {
    "collapsed": true,
    "scrolled": true
   },
   "outputs": [],
   "source": [
    "normalize = mpl.colors.Normalize(vmin=-5, vmax=5)\n",
    "heatmap(short, normalize)"
   ]
  },
  {
   "cell_type": "markdown",
   "metadata": {},
   "source": [
    "### 4"
   ]
  },
  {
   "cell_type": "markdown",
   "metadata": {},
   "source": [
    "<div class=\"alert alert-block alert-info\">\n",
    "\n",
    "Fisher, be sure to leave majority of 'best strategy' discussions to Cory in step 6 (he will be discussing 12 month lookback and 3 month holding there in greater detail)."
   ]
  },
  {
   "cell_type": "code",
   "execution_count": null,
   "metadata": {
    "collapsed": true
   },
   "outputs": [],
   "source": [
    "%time intermediate = sr_combos(1, 365, 14, 1, 730, 30)"
   ]
  },
  {
   "cell_type": "code",
   "execution_count": null,
   "metadata": {
    "collapsed": true,
    "scrolled": false
   },
   "outputs": [],
   "source": [
    "normalize = mpl.colors.Normalize(vmin=-5, vmax=5)\n",
    "heatmap(intermediate, normalize)"
   ]
  },
  {
   "cell_type": "markdown",
   "metadata": {},
   "source": [
    "### 5"
   ]
  },
  {
   "cell_type": "code",
   "execution_count": null,
   "metadata": {
    "collapsed": true
   },
   "outputs": [],
   "source": [
    "%time long = sr_combos(1, 1095, 60, 1, 2190, 120)"
   ]
  },
  {
   "cell_type": "code",
   "execution_count": null,
   "metadata": {
    "collapsed": true
   },
   "outputs": [],
   "source": [
    "max(long.max(axis=1))"
   ]
  },
  {
   "cell_type": "code",
   "execution_count": null,
   "metadata": {
    "collapsed": true
   },
   "outputs": [],
   "source": [
    "#normalize = mpl.colors.Normalize(vmin=min(long.min(axis=1)), vmax=-min(long.min(axis=1)))\n",
    "normalize = mpl.colors.Normalize(vmin=-5, vmax=5)\n",
    "heatmap(long, normalize)"
   ]
  },
  {
   "cell_type": "markdown",
   "metadata": {},
   "source": [
    "### 6\n",
    "\n",
    "Portfolio example Sharpe Ratio for 1 year lookback and 3 month holding."
   ]
  },
  {
   "cell_type": "markdown",
   "metadata": {},
   "source": [
    "<div class=\"alert alert-block alert-info\">\n",
    "\n",
    "Cory, feel free to expound in terms of code as needed. Much of this section will likely be discussing the intermediate momentum heatmap for 3 month holdings, but if you think it would be helpful to visualize anything or output any other specific values, please do so."
   ]
  },
  {
   "cell_type": "code",
   "execution_count": null,
   "metadata": {
    "collapsed": true
   },
   "outputs": [],
   "source": [
    "strat_sr(px, 365, 90)"
   ]
  },
  {
   "cell_type": "markdown",
   "metadata": {},
   "source": [
    "## Discussion and Future Work\n",
    "Discussion, conclusions and future work here"
   ]
  },
  {
   "cell_type": "markdown",
   "metadata": {},
   "source": [
    "## References\n",
    "W. McKinney, Python for Data Analysis. Beijing: OReilly, 2014.\n",
    "\n",
    "I. Staff, “Momentum,” Investopedia, 29-Jul-2015. [Online]. Available: http://www.investopedia.com/terms/m/momentum.asp. [Accessed: 23-Sep-2017].\n",
    "\n",
    "YouTube, 11-Sep-2017. [Online]. Available: https://www.youtube.com/watch?v=KQJYb5YFIoE. [Accessed: 24-Sep-2017].\n",
    "\n",
    "[1] Enter<br>\n",
    "\n",
    "J. Hur, “History of The Stock Market,” BeBusinessEd, 05-Sep-2017. [Online]. Available: https://bebusinessed.com/history/history-of-the-stock-market/. [Accessed: 25-Sep-2017]."
   ]
  },
  {
   "cell_type": "code",
   "execution_count": null,
   "metadata": {
    "collapsed": true
   },
   "outputs": [],
   "source": []
  }
 ],
 "metadata": {
  "anaconda-cloud": {},
  "kernelspec": {
   "display_name": "Python 3",
   "language": "python",
   "name": "python3"
  },
  "language_info": {
   "codemirror_mode": {
    "name": "ipython",
    "version": 3
   },
   "file_extension": ".py",
   "mimetype": "text/x-python",
   "name": "python",
   "nbconvert_exporter": "python",
   "pygments_lexer": "ipython3",
   "version": "3.5.2"
  }
 },
 "nbformat": 4,
 "nbformat_minor": 2
}
