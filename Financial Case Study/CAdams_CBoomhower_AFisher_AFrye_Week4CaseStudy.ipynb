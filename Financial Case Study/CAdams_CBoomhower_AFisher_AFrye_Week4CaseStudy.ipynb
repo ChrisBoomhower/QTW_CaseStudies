{
 "cells": [
  {
   "cell_type": "markdown",
   "metadata": {},
   "source": [
    "# Case Study Unit 4 - Signal Frontier Analysis\n",
    "### Cory Adams, Chris Boomhower, Alexandra Fisher, Alex Frye\n",
    "### *MSDS 7333, September 23, 2017*"
   ]
  },
  {
   "cell_type": "markdown",
   "metadata": {},
   "source": [
    "Assignments:\n",
    "* Abstract - Chris\n",
    "* Intro - Chris\n",
    "* Methods - Chris\n",
    "* Results 1,2 - Frye\n",
    "* Results 3-6 Overview - Fisher\n",
    "* Results 3,4 - Fisher\n",
    "* Results 5,6 - Cory\n",
    "* Conclusion/Future Works - Chris"
   ]
  },
  {
   "cell_type": "markdown",
   "metadata": {},
   "source": [
    "## Abstract\n",
    "Abstract here"
   ]
  },
  {
   "cell_type": "markdown",
   "metadata": {},
   "source": [
    "## Introduction\n",
    "Intro here\n",
    "* Discuss Pandas financial and time-series functionality\n",
    "* Discuss existing research in momentum types (see Youtube video but reference the references directly as shared in the video)\n",
    "* Existing research indicates best strategy is lookback of 12 months and holding period of 3 months (see Youtube video in References)\n",
    "* Note that code adopted from *Python for Data Analysis*, Chapter 11, pages 345-347"
   ]
  },
  {
   "cell_type": "code",
   "execution_count": null,
   "metadata": {
    "collapsed": true
   },
   "outputs": [],
   "source": [
    "## Load necessary modules\n",
    "import pandas_datareader as web\n",
    "import pandas as pd\n",
    "import numpy as np\n",
    "import matplotlib as mpl\n",
    "import matplotlib.pyplot as plt\n",
    "from collections import defaultdict\n",
    "import datetime\n",
    "%matplotlib inline"
   ]
  },
  {
   "cell_type": "markdown",
   "metadata": {},
   "source": [
    "## Methods\n",
    "Methods here\n",
    "1. Pull 10 years worth of data, leaving enough buffer for lookback\n",
    "2. Exploratory - review cumulative returns (percent change day-to-day). Review 10 years in full but then also again for most recent quarter as well.\n",
    "3. Analyze Short\n",
    "4. Analyze Intermediate\n",
    "5. Analyze Long term momentum (Be sure to tie back to existing research since we are basically just testing the existing theories for momentum).\n",
    "6. Review results against theory that 12 month loopback with 3 month holding is best strategy\n",
    "\n",
    "\n",
    "\n",
    "\n",
    "* Describe momentum computation for simplified porfolio\n",
    "* Texas Instruments, ON Semiconductor, Nexperia, Diodes, and Maxim stocks identified for this case study\n",
    "\n",
    "* Note that code adopted from *Python for Data Analysis*, Chapter 11, pages 345-347\n",
    "\n",
    "\n"
   ]
  },
  {
   "cell_type": "markdown",
   "metadata": {},
   "source": [
    "## Results\n",
    "Results here\n",
    "\n",
    "* Number each step as outlined in Methods section\n",
    "* If some expounding is needed, feel free to add code chunks"
   ]
  },
  {
   "cell_type": "markdown",
   "metadata": {},
   "source": [
    "### 1\n",
    "\n",
    "Pull adjusted close data for all business days during 4 year period spanning 6-30-2007 to 6-30-2017"
   ]
  },
  {
   "cell_type": "code",
   "execution_count": null,
   "metadata": {
    "collapsed": false,
    "scrolled": true
   },
   "outputs": [],
   "source": [
    "## Note that if RemoteDataError received upon chunk run, rerun this chunk until data pulled successfully\n",
    "names = ['TXN', 'ON', 'NXPI', 'DIOD', 'MXIM']\n",
    "def get_px(stock, start, end):\n",
    "    return web.DataReader(stock, 'yahoo', start, end)\n",
    "\n",
    "s = datetime.datetime(2007, 6, 30)\n",
    "e = datetime.datetime(2017, 6, 29) #Offset by one day\n",
    "\n",
    "px = ''\n",
    "tryCnt = 1\n",
    "while(tryCnt >0):\n",
    "    try:\n",
    "        px = pd.DataFrame({n:get_px(n, s, e)['Adj Close'] for n in names})\n",
    "        tryCnt = -1\n",
    "    except:\n",
    "        print(\"Error Occurred on attempt\",tryCnt, \"... Trying again.\")\n",
    "        tryCnt+=1\n",
    "px.head()"
   ]
  },
  {
   "cell_type": "markdown",
   "metadata": {},
   "source": [
    "Plot values over past 4 years"
   ]
  },
  {
   "cell_type": "code",
   "execution_count": null,
   "metadata": {
    "collapsed": false
   },
   "outputs": [],
   "source": [
    "px.plot()"
   ]
  },
  {
   "cell_type": "markdown",
   "metadata": {},
   "source": [
    "Plot cumulative returns"
   ]
  },
  {
   "cell_type": "markdown",
   "metadata": {},
   "source": [
    "### 2"
   ]
  },
  {
   "cell_type": "code",
   "execution_count": null,
   "metadata": {
    "collapsed": false
   },
   "outputs": [],
   "source": [
    "px_pad = px.asfreq('B').fillna(method='ffill') #Keep at business day freq and forward fill any missing values\n",
    "rets = px_pad.pct_change() #Plot day-to-day percent change in value\n",
    "((1 + rets).cumprod() - 1).plot()"
   ]
  },
  {
   "cell_type": "markdown",
   "metadata": {},
   "source": [
    "Compute momentum and evaluate Sharpe Ratios"
   ]
  },
  {
   "cell_type": "markdown",
   "metadata": {},
   "source": [
    "### 3-6 Overview"
   ]
  },
  {
   "cell_type": "code",
   "execution_count": null,
   "metadata": {
    "collapsed": true
   },
   "outputs": [],
   "source": [
    "def calc_mom(price, lookback, lag):\n",
    "    mom_ret = price.shift(lag).pct_change(lookback)\n",
    "    ranks = mom_ret.rank(axis=1, ascending=False)\n",
    "    demeaned = ranks.subtract(ranks.mean(axis=1), axis=0)\n",
    "    return demeaned.divide(demeaned.std(axis=1), axis=0)"
   ]
  },
  {
   "cell_type": "code",
   "execution_count": null,
   "metadata": {
    "collapsed": true
   },
   "outputs": [],
   "source": [
    "compound = lambda x : (1 + x).prod() - 1\n",
    "daily_sr = lambda x: x.mean() / x.std()\n",
    "\n",
    "def strat_sr(prices, lb, hold):\n",
    "    # Compute portfolio weights\n",
    "    freq = '%dB' % hold\n",
    "    port = calc_mom(prices, lb, lag=1)\n",
    "\n",
    "    daily_rets = prices.pct_change()\n",
    "\n",
    "    # Compute portfolio returns\n",
    "    port = port.shift(1).resample(freq).first()\n",
    "    returns = daily_rets.resample(freq).apply(compound)\n",
    "    port_rets = (port * returns).sum(axis=1)\n",
    "\n",
    "    return daily_sr(port_rets) * np.sqrt(252 / hold)"
   ]
  },
  {
   "cell_type": "markdown",
   "metadata": {},
   "source": [
    "Compute Sharpe Ratio values for various combinations of lookback and holding periods.\n",
    "\n",
    "* **Analyze Short, Intermediate, and Long term momentum (as described in youtube video referenced in References section.**\n",
    "* Existing research indicates best strategy is lookback of 12 months and holding period of 3 months"
   ]
  },
  {
   "cell_type": "code",
   "execution_count": null,
   "metadata": {
    "collapsed": false
   },
   "outputs": [],
   "source": [
    "%%time\n",
    "def sr_combos(startLB, endLB, stepLB, startHD, endHD, stepHD):\n",
    "    lookbacks = range(startLB, endLB, stepLB)\n",
    "    holdings = range(startHD, endHD, stepHD)\n",
    "    dd = defaultdict(dict)\n",
    "    for lb in lookbacks:\n",
    "        for hold in holdings:\n",
    "            dd[lb][hold] = strat_sr(px, lb, hold)\n",
    "\n",
    "    ddf = pd.DataFrame(dd)\n",
    "    ddf.index.name = 'Holding Period'\n",
    "    ddf.columns.name = 'Lookback Period'\n",
    "    \n",
    "    return ddf"
   ]
  },
  {
   "cell_type": "code",
   "execution_count": null,
   "metadata": {
    "collapsed": false
   },
   "outputs": [],
   "source": [
    "def heatmap(df, normalize, cmap=plt.cm.bwr):\n",
    "    fig = plt.figure()\n",
    "    ax = fig.add_subplot(111)\n",
    "    axim = ax.imshow(df.values, cmap=cmap, interpolation='nearest', norm=normalize)\n",
    "    ax.set_xlabel(df.columns.name)\n",
    "    ax.set_xticks(np.arange(len(df.columns)))\n",
    "    ax.set_xticklabels(list(df.columns))\n",
    "    ax.set_ylabel(df.index.name)\n",
    "    ax.set_yticks(np.arange(len(df.index)))\n",
    "    ax.set_yticklabels(list(df.index))\n",
    "    for tick in ax.xaxis.get_major_ticks():\n",
    "        tick.label.set_fontsize(9) \n",
    "        tick.label.set_rotation('vertical')\n",
    "    for tick in ax.yaxis.get_major_ticks():\n",
    "        tick.label.set_fontsize(9)\n",
    "    plt.colorbar(axim)"
   ]
  },
  {
   "cell_type": "markdown",
   "metadata": {},
   "source": [
    "### 3"
   ]
  },
  {
   "cell_type": "code",
   "execution_count": null,
   "metadata": {
    "collapsed": false
   },
   "outputs": [],
   "source": [
    "%time short = sr_combos(1, 31, 1, 1, 62, 2)"
   ]
  },
  {
   "cell_type": "code",
   "execution_count": null,
   "metadata": {
    "collapsed": false,
    "scrolled": true
   },
   "outputs": [],
   "source": [
    "normalize = mpl.colors.Normalize(vmin=-5, vmax=5)\n",
    "heatmap(short, normalize)"
   ]
  },
  {
   "cell_type": "markdown",
   "metadata": {},
   "source": [
    "### 4"
   ]
  },
  {
   "cell_type": "markdown",
   "metadata": {},
   "source": [
    "<div class=\"alert alert-block alert-info\">\n",
    "\n",
    "Fisher, be sure to leave majority of 'best strategy' discussions to Cory in step 6 (he will be discussing 12 month lookback and 3 month holding there in greater detail)."
   ]
  },
  {
   "cell_type": "code",
   "execution_count": null,
   "metadata": {
    "collapsed": false
   },
   "outputs": [],
   "source": [
    "%time intermediate = sr_combos(1, 365, 14, 1, 730, 30)"
   ]
  },
  {
   "cell_type": "code",
   "execution_count": null,
   "metadata": {
    "collapsed": false,
    "scrolled": false
   },
   "outputs": [],
   "source": [
    "normalize = mpl.colors.Normalize(vmin=-5, vmax=5)\n",
    "heatmap(intermediate, normalize)"
   ]
  },
  {
   "cell_type": "markdown",
   "metadata": {},
   "source": [
    "### 5"
   ]
  },
  {
   "cell_type": "code",
   "execution_count": null,
   "metadata": {
    "collapsed": false
   },
   "outputs": [],
   "source": [
    "%time long = sr_combos(1, 1095, 60, 1, 2190, 120)"
   ]
  },
  {
   "cell_type": "code",
   "execution_count": null,
   "metadata": {
    "collapsed": false
   },
   "outputs": [],
   "source": [
    "max(long.max(axis=1))"
   ]
  },
  {
   "cell_type": "code",
   "execution_count": null,
   "metadata": {
    "collapsed": false
   },
   "outputs": [],
   "source": [
    "#normalize = mpl.colors.Normalize(vmin=min(long.min(axis=1)), vmax=-min(long.min(axis=1)))\n",
    "normalize = mpl.colors.Normalize(vmin=-5, vmax=5)\n",
    "heatmap(long, normalize)"
   ]
  },
  {
   "cell_type": "markdown",
   "metadata": {},
   "source": [
    "### 6\n",
    "\n",
    "Portfolio example Sharpe Ratio for 1 year lookback and 3 month holding."
   ]
  },
  {
   "cell_type": "markdown",
   "metadata": {},
   "source": [
    "<div class=\"alert alert-block alert-info\">\n",
    "\n",
    "Cory, feel free to expound in terms of code as needed. Much of this section will likely be discussing the intermediate momentum heatmap for 3 month holdings, but if you think it would be helpful to visualize anything or output any other specific values, please do so."
   ]
  },
  {
   "cell_type": "code",
   "execution_count": null,
   "metadata": {
    "collapsed": false
   },
   "outputs": [],
   "source": [
    "strat_sr(px, 365, 90)"
   ]
  },
  {
   "cell_type": "markdown",
   "metadata": {},
   "source": [
    "## Discussion and Future Work\n",
    "Discussion, conclusions and future work here"
   ]
  },
  {
   "cell_type": "markdown",
   "metadata": {},
   "source": [
    "## References\n",
    "W. McKinney, Python for data analysis. Beijing: OReilly, 2014.\n",
    "\n",
    "I. Staff, “Momentum,” Investopedia, 29-Jul-2015. [Online]. Available: http://www.investopedia.com/terms/m/momentum.asp. [Accessed: 23-Sep-2017].\n",
    "\n",
    "YouTube, 11-Sep-2017. [Online]. Available: https://www.youtube.com/watch?v=KQJYb5YFIoE. [Accessed: 24-Sep-2017]."
   ]
  },
  {
   "cell_type": "code",
   "execution_count": null,
   "metadata": {
    "collapsed": true
   },
   "outputs": [],
   "source": []
  }
 ],
 "metadata": {
  "anaconda-cloud": {},
  "kernelspec": {
   "display_name": "Python [conda env:Py3]",
   "language": "python",
   "name": "conda-env-Py3-py"
  },
  "language_info": {
   "codemirror_mode": {
    "name": "ipython",
    "version": 3
   },
   "file_extension": ".py",
   "mimetype": "text/x-python",
   "name": "python",
   "nbconvert_exporter": "python",
   "pygments_lexer": "ipython3",
   "version": "3.5.2"
  }
 },
 "nbformat": 4,
 "nbformat_minor": 2
}
