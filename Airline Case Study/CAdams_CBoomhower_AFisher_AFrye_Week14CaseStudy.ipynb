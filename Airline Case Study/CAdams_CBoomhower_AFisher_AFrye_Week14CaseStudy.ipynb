{
 "cells": [
  {
   "cell_type": "markdown",
   "metadata": {},
   "source": [
    "#### title: \"Strategies for Analyzing a 12-Gigabyte Data Set: Airline Flight Delays - Case Study Unit 14\n",
    "\n",
    "output: html_notebook\n"
   ]
  },
  {
   "cell_type": "markdown",
   "metadata": {},
   "source": [
    "#### Cory Adams, Chris Boomhower, Alexandra Fisher, Alex Frye\n",
    "#### MSDS 7333, December 10, 2017"
   ]
  },
  {
   "cell_type": "markdown",
   "metadata": {},
   "source": [
    "## Abstract"
   ]
  },
  {
   "cell_type": "markdown",
   "metadata": {},
   "source": [
    "## Introduction"
   ]
  },
  {
   "cell_type": "markdown",
   "metadata": {},
   "source": [
    "## Background"
   ]
  },
  {
   "cell_type": "markdown",
   "metadata": {},
   "source": [
    "## Methods"
   ]
  },
  {
   "cell_type": "markdown",
   "metadata": {},
   "source": [
    "## Results"
   ]
  },
  {
   "cell_type": "markdown",
   "metadata": {},
   "source": [
    "# Batch Processing in R and Python\n",
    "This is meant as a companion notebook for the the SMU MSDS program. Specifically, we will build off of chapter five in the text \"Data Science in R\", http://www.amazon.com/Data-Science-Approach-Computational-Reasoning/dp/1482234815.\n",
    "\n",
    "In this notebook we will look at ways for loading and analyzing data out-of-core using a batch processing method. Specifically, we will be using the split-apply-combine approach with a few different APIs. In R, we will use:\n",
    "- `bigmemory` for memory mapping the variables: https://cran.r-project.org/web/packages/bigmemory/index.html \n",
    "- `bigtabulate`\n",
    "- `biganalytics`\n",
    "- `doMC`\n",
    "\n",
    "In python, we will also be using a number of different libraries \n",
    "- `pandas`\n",
    "- `numpy`\n",
    "- `graphlab-create`\n",
    "\n",
    "___\n",
    "# 1.0 Downloading the dataset (using python)\n",
    "You can access descriptions of the data files from here: http://stat-computing.org/dataexpo/2009/the-data.html. You can manually download each of the zipped files OR run the following script to download the files into a folder in the same directory as this notebook called \"Data\".\n",
    "\n",
    "In the following blocks of code, we download the data and then decompress the files into .csv files. Each csv contains data for one year of airline flights. \n",
    "\n",
    "\n",
    "Note: If you want an alternative R version for performing the download operations, see:\n",
    "- http://www.cybaea.net/journal/2010/08/05/Big-data-for-R/"
   ]
  },
  {
   "cell_type": "code",
   "execution_count": 2,
   "metadata": {
    "collapsed": false
   },
   "outputs": [
    {
     "name": "stdout",
     "output_type": "stream",
     "text": [
      "/Airline/\n"
     ]
    }
   ],
   "source": [
    "import os, sys\n",
    "# create a Data directory if not done already\n",
    "path = \"/Airline/\"\n",
    "if not os.path.exists(path):\n",
    "    os.mkdir( path, 0755 )\n",
    "print(path)"
   ]
  },
  {
   "cell_type": "code",
   "execution_count": null,
   "metadata": {
    "collapsed": false,
    "scrolled": true
   },
   "outputs": [],
   "source": [
    "import urllib # this is part of the standard library for python\n",
    "#from urllib.request import urlretrieve\n",
    "\n",
    "years_to_download = range(1987,2009) # get the years 1987 through 2008\n",
    "baseurl = 'http://stat-computing.org/dataexpo/2009/%d.csv.bz2' \n",
    "\n",
    "files = []\n",
    "for year in years_to_download:\n",
    "    # prepare strings\n",
    "    url_of_data_file = baseurl%(year) # get the URL for the data file\n",
    "    save_as_filename = path + '%d.csv.bz2'%(year) \n",
    "    # save as this\n",
    "    files += [save_as_filename] # save name of the compressed file\n",
    "    \n",
    "    # download file\n",
    "    print('Downloading %s to %s' % (url_of_data_file, save_as_filename)) # progress update\n",
    "    urllib.urlretrieve(url_of_data_file, save_as_filename) #execute download\n",
    "    \n",
    "print(files)"
   ]
  },
  {
   "cell_type": "code",
   "execution_count": null,
   "metadata": {
    "collapsed": false
   },
   "outputs": [],
   "source": [
    "import bz2 # this is also part of the python standard library\n",
    "\n",
    "# Now lets decompress all the files\n",
    "for filename in files:#[path+'2006.csv.bz2',path+'2007.csv.bz2',path+'2008.csv.bz2']:\n",
    "    # get file names\n",
    "    filepath = filename\n",
    "    newfilepath = filename[:-4]\n",
    "    print('Decompressing', filepath,'to', newfilepath)\n",
    "    \n",
    "    # go through the decompressed chunks and write out to a decompressed file\n",
    "    with open(newfilepath, 'wb') as new_file, bz2.BZ2File(filepath, 'rb') as file:\n",
    "        for data in iter(lambda : file.read(100 * 1024), b''):\n",
    "            new_file.write(data)"
   ]
  },
  {
   "cell_type": "markdown",
   "metadata": {},
   "source": [
    "### If you want to delete the compressed files\n",
    "Run the following block ONLY if you want to delets the compressed bz2 files from your system. "
   ]
  },
  {
   "cell_type": "code",
   "execution_count": null,
   "metadata": {
    "collapsed": true
   },
   "outputs": [],
   "source": [
    "#!rm '/Users/darrenho/MSDSairline/'*.bz2"
   ]
  },
  {
   "cell_type": "markdown",
   "metadata": {},
   "source": [
    "___\n",
    "# 2.0 Loading data into memory\n",
    "Now that the data has downloaded and been decompressed, we can load a single file into memory to ensure that everything decompressed correctly. For each file, we could load it into memory and then save the length of the file. Let's do this in both python and in R for two files (to keep runtime at a minimum). "
   ]
  },
  {
   "cell_type": "code",
   "execution_count": 3,
   "metadata": {
    "collapsed": false
   },
   "outputs": [
    {
     "name": "stdout",
     "output_type": "stream",
     "text": [
      "('loading', '/Airline//1987.csv')\n",
      "CPU times: user 3.94 s, sys: 367 ms, total: 4.31 s\n",
      "Wall time: 4.31 s\n",
      "('loading', '/Airline//1988.csv')\n",
      "CPU times: user 15.4 s, sys: 1.4 s, total: 16.8 s\n",
      "Wall time: 16.8 s\n",
      "('Answer from python:', 6513922)\n"
     ]
    },
    {
     "data": {
      "text/html": [
       "<div>\n",
       "<table border=\"1\" class=\"dataframe\">\n",
       "  <thead>\n",
       "    <tr style=\"text-align: right;\">\n",
       "      <th></th>\n",
       "      <th>Year</th>\n",
       "      <th>Month</th>\n",
       "      <th>DayofMonth</th>\n",
       "      <th>DayOfWeek</th>\n",
       "      <th>DepTime</th>\n",
       "      <th>CRSDepTime</th>\n",
       "      <th>ArrTime</th>\n",
       "      <th>CRSArrTime</th>\n",
       "      <th>UniqueCarrier</th>\n",
       "      <th>FlightNum</th>\n",
       "      <th>...</th>\n",
       "      <th>TaxiIn</th>\n",
       "      <th>TaxiOut</th>\n",
       "      <th>Cancelled</th>\n",
       "      <th>CancellationCode</th>\n",
       "      <th>Diverted</th>\n",
       "      <th>CarrierDelay</th>\n",
       "      <th>WeatherDelay</th>\n",
       "      <th>NASDelay</th>\n",
       "      <th>SecurityDelay</th>\n",
       "      <th>LateAircraftDelay</th>\n",
       "    </tr>\n",
       "  </thead>\n",
       "  <tbody>\n",
       "    <tr>\n",
       "      <th>0</th>\n",
       "      <td>1988</td>\n",
       "      <td>1</td>\n",
       "      <td>9</td>\n",
       "      <td>6</td>\n",
       "      <td>1348.0</td>\n",
       "      <td>1331</td>\n",
       "      <td>1458.0</td>\n",
       "      <td>1435</td>\n",
       "      <td>PI</td>\n",
       "      <td>942</td>\n",
       "      <td>...</td>\n",
       "      <td>NaN</td>\n",
       "      <td>NaN</td>\n",
       "      <td>0</td>\n",
       "      <td>NaN</td>\n",
       "      <td>0</td>\n",
       "      <td>NaN</td>\n",
       "      <td>NaN</td>\n",
       "      <td>NaN</td>\n",
       "      <td>NaN</td>\n",
       "      <td>NaN</td>\n",
       "    </tr>\n",
       "    <tr>\n",
       "      <th>1</th>\n",
       "      <td>1988</td>\n",
       "      <td>1</td>\n",
       "      <td>10</td>\n",
       "      <td>7</td>\n",
       "      <td>1334.0</td>\n",
       "      <td>1331</td>\n",
       "      <td>1443.0</td>\n",
       "      <td>1435</td>\n",
       "      <td>PI</td>\n",
       "      <td>942</td>\n",
       "      <td>...</td>\n",
       "      <td>NaN</td>\n",
       "      <td>NaN</td>\n",
       "      <td>0</td>\n",
       "      <td>NaN</td>\n",
       "      <td>0</td>\n",
       "      <td>NaN</td>\n",
       "      <td>NaN</td>\n",
       "      <td>NaN</td>\n",
       "      <td>NaN</td>\n",
       "      <td>NaN</td>\n",
       "    </tr>\n",
       "    <tr>\n",
       "      <th>2</th>\n",
       "      <td>1988</td>\n",
       "      <td>1</td>\n",
       "      <td>11</td>\n",
       "      <td>1</td>\n",
       "      <td>1446.0</td>\n",
       "      <td>1331</td>\n",
       "      <td>1553.0</td>\n",
       "      <td>1435</td>\n",
       "      <td>PI</td>\n",
       "      <td>942</td>\n",
       "      <td>...</td>\n",
       "      <td>NaN</td>\n",
       "      <td>NaN</td>\n",
       "      <td>0</td>\n",
       "      <td>NaN</td>\n",
       "      <td>0</td>\n",
       "      <td>NaN</td>\n",
       "      <td>NaN</td>\n",
       "      <td>NaN</td>\n",
       "      <td>NaN</td>\n",
       "      <td>NaN</td>\n",
       "    </tr>\n",
       "    <tr>\n",
       "      <th>3</th>\n",
       "      <td>1988</td>\n",
       "      <td>1</td>\n",
       "      <td>12</td>\n",
       "      <td>2</td>\n",
       "      <td>1334.0</td>\n",
       "      <td>1331</td>\n",
       "      <td>1438.0</td>\n",
       "      <td>1435</td>\n",
       "      <td>PI</td>\n",
       "      <td>942</td>\n",
       "      <td>...</td>\n",
       "      <td>NaN</td>\n",
       "      <td>NaN</td>\n",
       "      <td>0</td>\n",
       "      <td>NaN</td>\n",
       "      <td>0</td>\n",
       "      <td>NaN</td>\n",
       "      <td>NaN</td>\n",
       "      <td>NaN</td>\n",
       "      <td>NaN</td>\n",
       "      <td>NaN</td>\n",
       "    </tr>\n",
       "    <tr>\n",
       "      <th>4</th>\n",
       "      <td>1988</td>\n",
       "      <td>1</td>\n",
       "      <td>13</td>\n",
       "      <td>3</td>\n",
       "      <td>1341.0</td>\n",
       "      <td>1331</td>\n",
       "      <td>1503.0</td>\n",
       "      <td>1435</td>\n",
       "      <td>PI</td>\n",
       "      <td>942</td>\n",
       "      <td>...</td>\n",
       "      <td>NaN</td>\n",
       "      <td>NaN</td>\n",
       "      <td>0</td>\n",
       "      <td>NaN</td>\n",
       "      <td>0</td>\n",
       "      <td>NaN</td>\n",
       "      <td>NaN</td>\n",
       "      <td>NaN</td>\n",
       "      <td>NaN</td>\n",
       "      <td>NaN</td>\n",
       "    </tr>\n",
       "  </tbody>\n",
       "</table>\n",
       "<p>5 rows × 29 columns</p>\n",
       "</div>"
      ],
      "text/plain": [
       "   Year  Month  DayofMonth  DayOfWeek  DepTime  CRSDepTime  ArrTime  \\\n",
       "0  1988      1           9          6   1348.0        1331   1458.0   \n",
       "1  1988      1          10          7   1334.0        1331   1443.0   \n",
       "2  1988      1          11          1   1446.0        1331   1553.0   \n",
       "3  1988      1          12          2   1334.0        1331   1438.0   \n",
       "4  1988      1          13          3   1341.0        1331   1503.0   \n",
       "\n",
       "   CRSArrTime UniqueCarrier  FlightNum        ...          TaxiIn  TaxiOut  \\\n",
       "0        1435            PI        942        ...             NaN      NaN   \n",
       "1        1435            PI        942        ...             NaN      NaN   \n",
       "2        1435            PI        942        ...             NaN      NaN   \n",
       "3        1435            PI        942        ...             NaN      NaN   \n",
       "4        1435            PI        942        ...             NaN      NaN   \n",
       "\n",
       "   Cancelled  CancellationCode  Diverted  CarrierDelay WeatherDelay NASDelay  \\\n",
       "0          0               NaN         0           NaN          NaN      NaN   \n",
       "1          0               NaN         0           NaN          NaN      NaN   \n",
       "2          0               NaN         0           NaN          NaN      NaN   \n",
       "3          0               NaN         0           NaN          NaN      NaN   \n",
       "4          0               NaN         0           NaN          NaN      NaN   \n",
       "\n",
       "   SecurityDelay  LateAircraftDelay  \n",
       "0            NaN                NaN  \n",
       "1            NaN                NaN  \n",
       "2            NaN                NaN  \n",
       "3            NaN                NaN  \n",
       "4            NaN                NaN  \n",
       "\n",
       "[5 rows x 29 columns]"
      ]
     },
     "execution_count": 3,
     "metadata": {},
     "output_type": "execute_result"
    }
   ],
   "source": [
    "# Loading individual files in python\n",
    "import pandas as pd\n",
    "import numpy as np\n",
    "import sys\n",
    "\n",
    "total_length = 0\n",
    "\n",
    "for year in [1987,1988]:\n",
    "    # get file name of the csv\n",
    "    # note that we can also load in the raw .bz2 file in python (or R) \n",
    "    # but the decompression step for these files sizes takes a huge performance hit\n",
    "    csvfile = path+'/%d.csv'%(year)\n",
    "    print('loading', csvfile)\n",
    "    sys.stdout.flush()\n",
    "    \n",
    "    # read the file and increment the lines count\n",
    "    %time df = pd.read_csv(csvfile) # note that this is a big operation, especially since we just want the length\n",
    "    # one way of making this shorter is to filter which columns we are loading\n",
    "    \n",
    "    total_length += len(df)\n",
    "\n",
    "print('Answer from python:', total_length)\n",
    "df.head()"
   ]
  },
  {
   "cell_type": "code",
   "execution_count": 4,
   "metadata": {
    "collapsed": false
   },
   "outputs": [
    {
     "name": "stdout",
     "output_type": "stream",
     "text": [
      "CSV File Format\n",
      "Year,Month,DayofMonth,DayOfWeek,DepTime,CRSDepTime,ArrTime,CRSArrTime,UniqueCarrier,FlightNum,TailNum,ActualElapsedTime,CRSElapsedTime,AirTime,ArrDelay,DepDelay,Origin,Dest,Distance,TaxiIn,TaxiOut,Cancelled,CancellationCode,Diverted,CarrierDelay,WeatherDelay,NASDelay,SecurityDelay,LateAircraftDelay\r\n",
      "1987,10,14,3,741,730,912,849,PS,1451,NA,91,79,NA,23,11,SAN,SFO,447,NA,NA,0,NA,0,NA,NA,NA,NA,NA\r\n",
      "1987,10,15,4,729,730,903,849,PS,1451,NA,94,79,NA,14,-1,SAN,SFO,447,NA,NA,0,NA,0,NA,NA,NA,NA,NA\r\n",
      "1987,10,17,6,741,730,918,849,PS,1451,NA,97,79,NA,29,11,SAN,SFO,447,NA,NA,0,NA,0,NA,NA,NA,NA,NA\r\n",
      "1987,10,18,7,729,730,847,849,PS,1451,NA,78,79,NA,-2,-1,SAN,SFO,447,NA,NA,0,NA,0,NA,NA,NA,NA,NA\r\n",
      "1987,10,19,1,749,730,922,849,PS,1451,NA,93,79,NA,33,19,SAN,SFO,447,NA,NA,0,NA,0,NA,NA,NA,NA,NA\r\n",
      "1987,10,21,3,728,730,848,849,PS,1451,NA,80,79,NA,-1,-2,SAN,SFO,447,NA,NA,0,NA,0,NA,NA,NA,NA,NA\r\n",
      "1987,10,22,4,728,730,852,849,PS,1451,NA,84,79,NA,3,-2,SAN,SFO,447,NA,NA,0,NA,0,NA,NA,NA,NA,NA\r\n",
      "1987,10,23,5,731,730,902,849,PS,1451,NA,91,79,NA,13,1,SAN,SFO,447,NA,NA,0,NA,0,NA,NA,NA,NA,NA\r\n",
      "1987,10,24,6,744,730,908,849,PS,1451,NA,84,79,NA,19,14,SAN,SFO,447,NA,NA,0,NA,0,NA,NA,NA,NA,NA\r\n"
     ]
    }
   ],
   "source": [
    "print('CSV File Format')\n",
    "!head '/Airline/1987.csv'"
   ]
  },
  {
   "cell_type": "markdown",
   "metadata": {},
   "source": [
    "___\n",
    "So now we can see that there were about 6.5M different entries in the years 1987 and 1988. However, we really want to be working with one really large descriptor of all years, rather than loading up each year from disc each time. Actually, the operations we had above are much more appropriate for a SQL query, but they are not quite as scalable for some of the other analyses that we want to do later on. \n",
    "\n",
    "The python code is noticeably faster at loading in the data, so let's use python to pre-process the csv files and make sure all the data is an integer. All the text data must be coded as numeric (an integer) when we use R's big memory package, so lets go file by file and make sure its ready to use with R.\n",
    "\n",
    "\n",
    "## 2.1 Preprocessing Data in Chunks\n",
    "In order to replace all the strings in the data frame, we first need to know exactly all the unique strings contained in each column. The first block takes a pass on all the data and finds all the unique string entries in the entire dataset. This means loading all the data files in one pass and concatenating the unique entries into a data structure. I have chosen to use a dictionary as the data structure with the name of each key in the dictionary being the column name of the variable we want to convert to an integer. The value of the key is a `set` of strings. \n",
    "\n",
    "Once we have this dataset, we can then replace the unique values properly (we will need to load the data files again!!). We can then replace the values with an integer. After replacing them, we can resave the data frame as a csv. Phew!\n",
    "\n",
    "Please note that the runtime of these blocks aggregates to ~60 minutes (or more) depending on your system. If you want an alternative implementation using R only, please see:\n",
    "- http://www.cybaea.net/journal/2010/08/05/Big-data-for-R/"
   ]
  },
  {
   "cell_type": "code",
   "execution_count": 6,
   "metadata": {
    "collapsed": false
   },
   "outputs": [
    {
     "name": "stdout",
     "output_type": "stream",
     "text": [
      "('loading', '/Airline/1987.csv')\n",
      "('...finding unique values',)\n",
      "UniqueCarrier\n",
      "TailNum\n",
      "Origin\n",
      "Dest\n",
      "CancellationCode\n",
      "...finished, 2.82 seconds\n",
      "('loading', '/Airline/1988.csv')\n",
      "('...finding unique values',)\n",
      "UniqueCarrier\n",
      "TailNum\n",
      "Origin\n",
      "Dest\n",
      "CancellationCode\n",
      "...finished, 11.24 seconds\n",
      "('loading', '/Airline/1989.csv')\n",
      "('...finding unique values',)\n",
      "UniqueCarrier\n",
      "TailNum\n",
      "Origin\n",
      "Dest\n",
      "CancellationCode\n",
      "...finished, 10.19 seconds\n",
      "('loading', '/Airline/1990.csv')\n",
      "('...finding unique values',)\n",
      "UniqueCarrier\n",
      "TailNum\n",
      "Origin\n",
      "Dest\n",
      "CancellationCode\n",
      "...finished, 10.59 seconds\n",
      "('loading', '/Airline/1991.csv')\n",
      "('...finding unique values',)\n",
      "UniqueCarrier\n",
      "TailNum\n",
      "Origin\n",
      "Dest\n",
      "CancellationCode\n",
      "...finished, 10.25 seconds\n",
      "('loading', '/Airline/1992.csv')\n",
      "('...finding unique values',)\n",
      "UniqueCarrier\n",
      "TailNum\n",
      "Origin\n",
      "Dest\n",
      "CancellationCode\n",
      "...finished, 10.29 seconds\n",
      "('loading', '/Airline/1993.csv')\n",
      "('...finding unique values',)\n",
      "UniqueCarrier\n",
      "TailNum\n",
      "Origin\n",
      "Dest\n",
      "CancellationCode\n",
      "...finished, 10.10 seconds\n",
      "('loading', '/Airline/1994.csv')\n",
      "('...finding unique values',)\n",
      "UniqueCarrier\n",
      "TailNum\n",
      "Origin\n",
      "Dest\n",
      "CancellationCode\n",
      "...finished, 10.31 seconds\n",
      "('loading', '/Airline/1995.csv')\n",
      "('...finding unique values',)\n",
      "UniqueCarrier\n",
      "TailNum\n",
      "Origin\n",
      "Dest\n",
      "CancellationCode\n",
      "...finished, 10.53 seconds\n",
      "('loading', '/Airline/1996.csv')\n",
      "('...finding unique values',)\n",
      "UniqueCarrier\n",
      "TailNum\n",
      "Origin\n",
      "Dest\n",
      "CancellationCode\n",
      "...finished, 10.61 seconds\n",
      "('loading', '/Airline/1997.csv')\n",
      "('...finding unique values',)\n",
      "UniqueCarrier\n",
      "TailNum\n",
      "Origin\n",
      "Dest\n",
      "CancellationCode\n",
      "...finished, 11.43 seconds\n",
      "('loading', '/Airline/1998.csv')\n",
      "('...finding unique values',)\n",
      "UniqueCarrier\n",
      "TailNum\n",
      "Origin\n",
      "Dest\n",
      "CancellationCode\n",
      "...finished, 10.72 seconds\n",
      "('loading', '/Airline/1999.csv')\n",
      "('...finding unique values',)\n",
      "UniqueCarrier\n",
      "TailNum\n",
      "Origin\n",
      "Dest\n",
      "CancellationCode\n",
      "...finished, 11.04 seconds\n",
      "('loading', '/Airline/2000.csv')\n",
      "('...finding unique values',)\n",
      "UniqueCarrier\n",
      "TailNum\n",
      "Origin\n",
      "Dest\n",
      "CancellationCode\n",
      "...finished, 11.27 seconds\n",
      "('loading', '/Airline/2001.csv')\n",
      "('...finding unique values',)\n",
      "UniqueCarrier\n",
      "TailNum\n",
      "Origin\n",
      "Dest\n",
      "CancellationCode\n",
      "...finished, 11.66 seconds\n",
      "('loading', '/Airline/2002.csv')\n",
      "('...finding unique values',)\n",
      "UniqueCarrier\n",
      "TailNum\n",
      "Origin\n",
      "Dest\n",
      "CancellationCode\n",
      "...finished, 10.54 seconds\n",
      "('loading', '/Airline/2003.csv')\n",
      "('...finding unique values',)\n",
      "UniqueCarrier\n",
      "TailNum\n",
      "Origin\n",
      "Dest\n",
      "CancellationCode\n",
      "...finished, 13.63 seconds\n"
     ]
    },
    {
     "name": "stderr",
     "output_type": "stream",
     "text": [
      "/Users/coryadams/anaconda/envs/gl-env/lib/python2.7/site-packages/IPython/core/interactiveshell.py:2723: DtypeWarning: Columns (22) have mixed types. Specify dtype option on import or set low_memory=False.\n",
      "  interactivity=interactivity, compiler=compiler, result=result)\n"
     ]
    },
    {
     "name": "stdout",
     "output_type": "stream",
     "text": [
      "('loading', '/Airline/2004.csv')\n",
      "('...finding unique values',)\n",
      "UniqueCarrier\n",
      "TailNum\n",
      "Origin\n",
      "Dest\n",
      "CancellationCode\n",
      "...finished, 14.45 seconds\n",
      "('loading', '/Airline/2005.csv')\n",
      "('...finding unique values',)\n",
      "UniqueCarrier\n",
      "TailNum\n",
      "Origin\n",
      "Dest\n",
      "CancellationCode\n",
      "...finished, 15.96 seconds\n",
      "('loading', '/Airline/2006.csv')\n",
      "('...finding unique values',)\n",
      "UniqueCarrier\n",
      "TailNum\n",
      "Origin\n",
      "Dest\n",
      "CancellationCode\n",
      "...finished, 14.80 seconds\n",
      "('loading', '/Airline/2007.csv')\n",
      "('...finding unique values',)\n",
      "UniqueCarrier\n",
      "TailNum\n",
      "Origin\n",
      "Dest\n",
      "CancellationCode\n",
      "...finished, 15.24 seconds\n",
      "('loading', '/Airline/2008.csv')\n",
      "('...finding unique values',)\n",
      "UniqueCarrier\n",
      "TailNum\n",
      "Origin\n",
      "Dest\n",
      "CancellationCode\n",
      "...finished, 14.52 seconds\n"
     ]
    }
   ],
   "source": [
    "# In this data, there are multiple variables that are objects\n",
    "# these need to be appropriately converted to numbers (integers) \n",
    "# To do this, we must know the unique values in each of the columns, let's do this first\n",
    "import pandas as pd\n",
    "import numpy as np\n",
    "import sys\n",
    "import time\n",
    "# cPickle is standard on 2.x\n",
    "import cPickle as pickle\n",
    "# _pickle works on Python 3.x\n",
    "#import _pickle as pickle\n",
    "\n",
    "unique_values = {} # create an empty dictionary of the column name an the unique values in it\n",
    "for year in range(1987,2009):\n",
    "    t = time.time()\n",
    "    # get file name of the csv\n",
    "    csvfile = path+'%d.csv'%(year)\n",
    "    print('loading',csvfile,)\n",
    "    sys.stdout.flush()\n",
    "    \n",
    "    # read the file\n",
    "    df = pd.read_csv(csvfile,usecols=['Origin', 'Dest', 'UniqueCarrier','TailNum','CancellationCode']) \n",
    "    #df = df.select_dtypes(exclude=['float64','int64']) # grab only the non-numeric data\n",
    "    \n",
    "    print('...finding unique values',)\n",
    "    sys.stdout.flush()\n",
    "    \n",
    "    for col in df.columns:\n",
    "        print(col)\n",
    "        # check to see if we have seen this column before\n",
    "        s = set(df[col].values.astype(np.str))\n",
    "        if col not in unique_values:\n",
    "            # if not, then create a key with the unique values for that column in it\n",
    "            unique_values[col] = s\n",
    "        else:\n",
    "            # otherwise make sure that the remaining columns are unique\n",
    "            unique_values[col] |= s\n",
    "            \n",
    "    print('...finished, %.2f seconds'%(time.time()-t))\n",
    "    sys.stdout.flush()\n",
    "    del df\n",
    "\n",
    "# Save out the dictionary for later use\n",
    "pickle.dump( unique_values, open( path+'unique_mapping.p', \"wb\" ) )"
   ]
  },
  {
   "cell_type": "code",
   "execution_count": 7,
   "metadata": {
    "collapsed": false
   },
   "outputs": [
    {
     "name": "stdout",
     "output_type": "stream",
     "text": [
      "['Origin', 'TailNum', 'UniqueCarrier', 'Dest', 'CancellationCode']\n",
      "('Cancellation Code:', set(['A', 'C', 'B', 'D', 'nan']))\n",
      "('UniqueCarrier:', set(['DL', 'DH', 'WN', 'HP', 'HA', 'FL', 'YV', 'PS', 'TZ', 'TW', '9E', 'PA (1)', 'PI', 'NW', 'AA', 'CO', 'EA', 'XE', 'AQ', 'AS', 'EV', 'ML (1)', 'OO', 'OH', 'F9', 'US', 'B6', 'MQ', 'UA']))\n"
     ]
    }
   ],
   "source": [
    "# let's take a look at the dictionary\n",
    "print(unique_values.keys())\n",
    "print('Cancellation Code:',unique_values['CancellationCode'])\n",
    "print('UniqueCarrier:',unique_values['UniqueCarrier'])"
   ]
  },
  {
   "cell_type": "code",
   "execution_count": 13,
   "metadata": {
    "collapsed": false
   },
   "outputs": [
    {
     "name": "stdout",
     "output_type": "stream",
     "text": [
      "\u001b[33mThe directory '/Users/coryadams/Library/Caches/pip/http' or its parent directory is not owned by the current user and the cache has been disabled. Please check the permissions and owner of that directory. If executing pip with sudo, you may want sudo's -H flag.\u001b[0m\n",
      "\u001b[33mThe directory '/Users/coryadams/Library/Caches/pip' or its parent directory is not owned by the current user and caching wheels has been disabled. check the permissions and owner of that directory. If executing pip with sudo, you may want sudo's -H flag.\u001b[0m\n",
      "Requirement already up-to-date: numpy in /Users/coryadams/anaconda/envs/gl-env/lib/python2.7/site-packages\n",
      "\u001b[33mThe directory '/Users/coryadams/Library/Caches/pip/http' or its parent directory is not owned by the current user and the cache has been disabled. Please check the permissions and owner of that directory. If executing pip with sudo, you may want sudo's -H flag.\u001b[0m\n",
      "\u001b[33mThe directory '/Users/coryadams/Library/Caches/pip' or its parent directory is not owned by the current user and caching wheels has been disabled. check the permissions and owner of that directory. If executing pip with sudo, you may want sudo's -H flag.\u001b[0m\n",
      "Requirement already up-to-date: pandas in /Users/coryadams/anaconda/envs/gl-env/lib/python2.7/site-packages\n",
      "Requirement already up-to-date: pytz>=2011k in /Users/coryadams/anaconda/envs/gl-env/lib/python2.7/site-packages (from pandas)\n",
      "Requirement already up-to-date: numpy>=1.9.0 in /Users/coryadams/anaconda/envs/gl-env/lib/python2.7/site-packages (from pandas)\n",
      "Requirement already up-to-date: python-dateutil in /Users/coryadams/anaconda/envs/gl-env/lib/python2.7/site-packages (from pandas)\n",
      "Requirement already up-to-date: six>=1.5 in /Users/coryadams/anaconda/envs/gl-env/lib/python2.7/site-packages (from python-dateutil->pandas)\n"
     ]
    }
   ],
   "source": [
    "!pip install numpy --upgrade\n",
    "!pip install pandas --upgrade"
   ]
  },
  {
   "cell_type": "code",
   "execution_count": 17,
   "metadata": {
    "collapsed": false
   },
   "outputs": [
    {
     "name": "stdout",
     "output_type": "stream",
     "text": [
      "('Running...', '/Airline/1987.csv')\n",
      "('loaded, ...replacing values',)\n",
      "('Orig',)\n",
      "('Tail',)\n",
      "('Uniq',)\n",
      "('Dest',)\n",
      "('Canc',)\n",
      "('...',)\n",
      "('writing',)\n",
      ", 54.20 sec.\n",
      "('Running...', '/Airline/1988.csv')\n",
      "('loaded, ...replacing values',)\n",
      "('Orig',)\n",
      "('Tail',)\n",
      "('Uniq',)\n",
      "('Dest',)\n",
      "('Canc',)\n",
      "('...',)\n",
      "('writing',)\n",
      ", 210.25 sec.\n",
      "('Running...', '/Airline/1989.csv')\n",
      "('loaded, ...replacing values',)\n",
      "('Orig',)\n",
      "('Tail',)\n",
      "('Uniq',)\n",
      "('Dest',)\n",
      "('Canc',)\n",
      "('...',)\n",
      "('writing',)\n",
      ", 201.28 sec.\n",
      "('Running...', '/Airline/1990.csv')\n",
      "('loaded, ...replacing values',)\n",
      "('Orig',)\n",
      "('Tail',)\n",
      "('Uniq',)\n",
      "('Dest',)\n",
      "('Canc',)\n",
      "('...',)\n",
      "('writing',)\n",
      ", 210.23 sec.\n",
      "('Running...', '/Airline/1991.csv')\n",
      "('loaded, ...replacing values',)\n",
      "('Orig',)\n",
      "('Tail',)\n",
      "('Uniq',)\n",
      "('Dest',)\n",
      "('Canc',)\n",
      "('...',)\n",
      "('writing',)\n",
      ", 201.80 sec.\n",
      "('Running...', '/Airline/1992.csv')\n",
      "('loaded, ...replacing values',)\n",
      "('Orig',)\n",
      "('Tail',)\n",
      "('Uniq',)\n",
      "('Dest',)\n",
      "('Canc',)\n",
      "('...',)\n",
      "('writing',)\n",
      ", 202.20 sec.\n",
      "('Running...', '/Airline/1993.csv')\n",
      "('loaded, ...replacing values',)\n",
      "('Orig',)\n",
      "('Tail',)\n",
      "('Uniq',)\n",
      "('Dest',)\n",
      "('Canc',)\n",
      "('...',)\n",
      "('writing',)\n",
      ", 200.86 sec.\n",
      "('Running...', '/Airline/1994.csv')\n",
      "('loaded, ...replacing values',)\n",
      "('Orig',)\n",
      "('Tail',)\n",
      "('Uniq',)\n",
      "('Dest',)\n",
      "('Canc',)\n",
      "('...',)\n",
      "('writing',)\n",
      ", 206.53 sec.\n",
      "('Running...', '/Airline/1995.csv')\n",
      "('loaded, ...replacing values',)\n",
      "('Orig',)\n",
      "('Tail',)\n",
      "('Uniq',)\n",
      "('Dest',)\n",
      "('Canc',)\n",
      "('...',)\n",
      "('writing',)\n",
      ", 253.99 sec.\n",
      "('Running...', '/Airline/1996.csv')\n",
      "('loaded, ...replacing values',)\n",
      "('Orig',)\n",
      "('Tail',)\n",
      "('Uniq',)\n",
      "('Dest',)\n",
      "('Canc',)\n",
      "('...',)\n",
      "('writing',)\n",
      ", 254.93 sec.\n",
      "('Running...', '/Airline/1997.csv')\n",
      "('loaded, ...replacing values',)\n",
      "('Orig',)\n",
      "('Tail',)\n",
      "('Uniq',)\n",
      "('Dest',)\n",
      "('Canc',)\n",
      "('...',)\n",
      "('writing',)\n",
      ", 257.67 sec.\n",
      "('Running...', '/Airline/1998.csv')\n",
      "('loaded, ...replacing values',)\n",
      "('Orig',)\n",
      "('Tail',)\n",
      "('Uniq',)\n",
      "('Dest',)\n",
      "('Canc',)\n",
      "('...',)\n",
      "('writing',)\n",
      ", 257.26 sec.\n",
      "('Running...', '/Airline/1999.csv')\n",
      "('loaded, ...replacing values',)\n",
      "('Orig',)\n",
      "('Tail',)\n",
      "('Uniq',)\n",
      "('Dest',)\n",
      "('Canc',)\n",
      "('...',)\n",
      "('writing',)\n",
      ", 267.47 sec.\n",
      "('Running...', '/Airline/2000.csv')\n",
      "('loaded, ...replacing values',)\n",
      "('Orig',)\n",
      "('Tail',)\n",
      "('Uniq',)\n",
      "('Dest',)\n",
      "('Canc',)\n",
      "('...',)\n",
      "('writing',)\n",
      ", 271.99 sec.\n",
      "('Running...', '/Airline/2001.csv')\n",
      "('loaded, ...replacing values',)\n",
      "('Orig',)\n",
      "('Tail',)\n",
      "('Uniq',)\n",
      "('Dest',)\n",
      "('Canc',)\n",
      "('...',)\n",
      "('writing',)\n",
      ", 294.90 sec.\n",
      "('Running...', '/Airline/2002.csv')\n",
      "('loaded, ...replacing values',)\n",
      "('Orig',)\n",
      "('Tail',)\n",
      "('Uniq',)\n",
      "('Dest',)\n",
      "('Canc',)\n",
      "('...',)\n",
      "('writing',)\n",
      ", 280.80 sec.\n",
      "('Running...', '/Airline/2003.csv')\n",
      "('loaded, ...replacing values',)\n",
      "('Orig',)\n",
      "('Tail',)\n",
      "('Uniq',)\n",
      "('Dest',)\n",
      "('Canc',)\n",
      "('...',)\n",
      "('writing',)\n",
      ", 348.21 sec.\n",
      "('Running...', '/Airline/2004.csv')\n",
      "('loaded, ...replacing values',)\n",
      "('Orig',)\n",
      "('Tail',)\n",
      "('Uniq',)\n",
      "('Dest',)\n",
      "('Canc',)\n",
      "('...',)\n",
      "('writing',)\n",
      ", 403.95 sec.\n",
      "('Running...', '/Airline/2005.csv')\n",
      "('loaded, ...replacing values',)\n",
      "('Orig',)\n",
      "('Tail',)\n",
      "('Uniq',)\n",
      "('Dest',)\n",
      "('Canc',)\n",
      "('...',)\n",
      "('writing',)\n",
      ", 402.51 sec.\n",
      "('Running...', '/Airline/2006.csv')\n",
      "('loaded, ...replacing values',)\n",
      "('Orig',)\n",
      "('Tail',)\n",
      "('Uniq',)\n",
      "('Dest',)\n",
      "('Canc',)\n",
      "('...',)\n",
      "('writing',)\n",
      ", 403.90 sec.\n",
      "('Running...', '/Airline/2007.csv')\n",
      "('loaded, ...replacing values',)\n",
      "('Orig',)\n",
      "('Tail',)\n",
      "('Uniq',)\n",
      "('Dest',)\n",
      "('Canc',)\n",
      "('...',)\n",
      "('writing',)\n",
      ", 425.11 sec.\n",
      "('Running...', '/Airline/2008.csv')\n",
      "('loaded, ...replacing values',)\n",
      "('Orig',)\n",
      "('Tail',)\n",
      "('Uniq',)\n",
      "('Dest',)\n",
      "('Canc',)\n",
      "('...',)\n",
      "('writing',)\n",
      ", 358.39 sec.\n",
      "('closing file',)\n",
      "...Done\n"
     ]
    }
   ],
   "source": [
    "def fast_numpy_replace(np_vector,replace_set):\n",
    "    # you can look at this function at your leisure, but essentially we use fast set \n",
    "    # comparison to try and speed up the analysis\n",
    "    replace_set = np.array(list(replace_set)) # get \"possible values\" as a numpy array\n",
    "    n = np.ndarray(np_vector.shape).astype(np.float64) # fill in this matrix\n",
    "    \n",
    "    vector_as_set,idx_back = np.unique(np_vector,return_inverse=True) # get the unique indices and locations\n",
    "    \n",
    "    # now loop through the unique values for this dataset\n",
    "    for idx,val in enumerate(vector_as_set):\n",
    "        # find what number this should be (like a hash)\n",
    "        category_num = np.nonzero(replace_set == val)[0][0]\n",
    "        n[idx_back==idx] = category_num # set the values as this category, vectorize for speed\n",
    "        \n",
    "    return n.astype(np.float64)\n",
    "    \n",
    "fileHandle = open(path+'AirlineDataAll.csv', 'w') # open and replace if needed\n",
    "years = range(1987,2009)\n",
    "for year in years:\n",
    "    t = time.time()\n",
    "    \n",
    "    # get file name of the csv\n",
    "    csvfile = path+'%d.csv'%(year)\n",
    "    print('Running...',csvfile,)\n",
    "    sys.stdout.flush()\n",
    "    \n",
    "    # read the file\n",
    "    df = pd.read_csv(csvfile) \n",
    "    \n",
    "    print('loaded, ...replacing values',)\n",
    "    sys.stdout.flush()\n",
    "        \n",
    "    # now replace the matching columnar data with the proper number category\n",
    "    for key in unique_values.keys():\n",
    "        if key in df:\n",
    "            print(key[0:4],)\n",
    "            sys.stdout.flush()\n",
    "            tmp = df[key].values.astype(np.str)\n",
    "            df[key] = fast_numpy_replace(tmp,unique_values[key])\n",
    "     \n",
    "    print('...',)\n",
    "    sys.stdout.flush()\n",
    "    \n",
    "    for col in df:\n",
    "        #df[col] = np.round(df[col].astype(np.float64)) # use floats to keep the nan's inline with numpy representation\n",
    "        df[col] = df[col].astype(np.float64).round(2) \n",
    "\n",
    "    print('writing',)\n",
    "    sys.stdout.flush()\n",
    "    \n",
    "    # these lines make one large file with the numeric data\n",
    "    # it also solves a problem with pandas closing the file that takes an inordinate amount of time\n",
    "    # NOTE: using binary here would be a huge speedup, but I am not sure about the binary structure of the \n",
    "    # backing file for bigmatrix, so we stick with CSV\n",
    "    # TODO: find out if the backing file is just a dump of the c struct to file\n",
    "    if year==years[0]:\n",
    "        df.to_csv(fileHandle,index=False, index_label=False, na_rep=\"NA\",float_format='%.0f')\n",
    "    else:\n",
    "        df.to_csv(fileHandle, mode='a', header=False, index=False, index_label=False,  na_rep=\"NA\", float_format='%.0f')\n",
    "        \n",
    "    print(', %.2f sec.'%(time.time()-t))\n",
    "    del df\n",
    "\n",
    "print('closing file',)\n",
    "sys.stdout.flush()\n",
    "\n",
    "fileHandle.close()\n",
    "print('...Done')"
   ]
  },
  {
   "cell_type": "code",
   "execution_count": 19,
   "metadata": {
    "collapsed": false
   },
   "outputs": [
    {
     "name": "stdout",
     "output_type": "stream",
     "text": [
      "New File Format:\n",
      "Year,Month,DayofMonth,DayOfWeek,DepTime,CRSDepTime,ArrTime,CRSArrTime,UniqueCarrier,FlightNum,TailNum,ActualElapsedTime,CRSElapsedTime,AirTime,ArrDelay,DepDelay,Origin,Dest,Distance,TaxiIn,TaxiOut,Cancelled,CancellationCode,Diverted,CarrierDelay,WeatherDelay,NASDelay,SecurityDelay,LateAircraftDelay\n",
      "1987,10,14,3,741,730,912,849,7,1451,9719,91,79,NA,23,11,172,202,447,NA,NA,0,4,0,NA,NA,NA,NA,NA\n",
      "1987,10,15,4,729,730,903,849,7,1451,9719,94,79,NA,14,-1,172,202,447,NA,NA,0,4,0,NA,NA,NA,NA,NA\n",
      "1987,10,17,6,741,730,918,849,7,1451,9719,97,79,NA,29,11,172,202,447,NA,NA,0,4,0,NA,NA,NA,NA,NA\n",
      "1987,10,18,7,729,730,847,849,7,1451,9719,78,79,NA,-2,-1,172,202,447,NA,NA,0,4,0,NA,NA,NA,NA,NA\n",
      "1987,10,19,1,749,730,922,849,7,1451,9719,93,79,NA,33,19,172,202,447,NA,NA,0,4,0,NA,NA,NA,NA,NA\n",
      "1987,10,21,3,728,730,848,849,7,1451,9719,80,79,NA,-1,-2,172,202,447,NA,NA,0,4,0,NA,NA,NA,NA,NA\n",
      "1987,10,22,4,728,730,852,849,7,1451,9719,84,79,NA,3,-2,172,202,447,NA,NA,0,4,0,NA,NA,NA,NA,NA\n",
      "1987,10,23,5,731,730,902,849,7,1451,9719,91,79,NA,13,1,172,202,447,NA,NA,0,4,0,NA,NA,NA,NA,NA\n",
      "1987,10,24,6,744,730,908,849,7,1451,9719,84,79,NA,19,14,172,202,447,NA,NA,0,4,0,NA,NA,NA,NA,NA\n",
      "\n",
      "Old File Format\n",
      "Year,Month,DayofMonth,DayOfWeek,DepTime,CRSDepTime,ArrTime,CRSArrTime,UniqueCarrier,FlightNum,TailNum,ActualElapsedTime,CRSElapsedTime,AirTime,ArrDelay,DepDelay,Origin,Dest,Distance,TaxiIn,TaxiOut,Cancelled,CancellationCode,Diverted,CarrierDelay,WeatherDelay,NASDelay,SecurityDelay,LateAircraftDelay\n",
      "2008,1,3,4,2003,1955,2211,2225,WN,335,N712SW,128,150,116,-14,8,IAD,TPA,810,4,8,0,,0,NA,NA,NA,NA,NA\n",
      "2008,1,3,4,754,735,1002,1000,WN,3231,N772SW,128,145,113,2,19,IAD,TPA,810,5,10,0,,0,NA,NA,NA,NA,NA\n",
      "2008,1,3,4,628,620,804,750,WN,448,N428WN,96,90,76,14,8,IND,BWI,515,3,17,0,,0,NA,NA,NA,NA,NA\n",
      "2008,1,3,4,926,930,1054,1100,WN,1746,N612SW,88,90,78,-6,-4,IND,BWI,515,3,7,0,,0,NA,NA,NA,NA,NA\n",
      "2008,1,3,4,1829,1755,1959,1925,WN,3920,N464WN,90,90,77,34,34,IND,BWI,515,3,10,0,,0,2,0,0,0,32\n",
      "2008,1,3,4,1940,1915,2121,2110,WN,378,N726SW,101,115,87,11,25,IND,JAX,688,4,10,0,,0,NA,NA,NA,NA,NA\n",
      "2008,1,3,4,1937,1830,2037,1940,WN,509,N763SW,240,250,230,57,67,IND,LAS,1591,3,7,0,,0,10,0,0,0,47\n",
      "2008,1,3,4,1039,1040,1132,1150,WN,535,N428WN,233,250,219,-18,-1,IND,LAS,1591,7,7,0,,0,NA,NA,NA,NA,NA\n",
      "2008,1,3,4,617,615,652,650,WN,11,N689SW,95,95,70,2,2,IND,MCI,451,6,19,0,,0,NA,NA,NA,NA,NA\n"
     ]
    }
   ],
   "source": [
    "# now lets take a look to see what has actually changed in the file\n",
    "# let's load the head of 1987 and the big CSV file to see how they compare\n",
    "\n",
    "#this will fail for Windows, not supported\n",
    "print('New File Format:')\n",
    "!head '/Airline/AirlineDataAll.csv'\n",
    "print('')\n",
    "print('Old File Format')\n",
    "!head '/Airline/2008.csv'"
   ]
  },
  {
   "cell_type": "code",
   "execution_count": 20,
   "metadata": {
    "collapsed": false
   },
   "outputs": [
    {
     "name": "stdout",
     "output_type": "stream",
     "text": [
      "New File Format:\n",
      "2008,12,13,6,1007,847,1149,1010,0,1631,2497,162,143,122,99,80,251,20,689,8,32,0,4,0,1,0,19,0,79\n",
      "2008,12,13,6,638,640,808,753,0,1632,10676,90,73,50,15,-2,130,255,270,14,26,0,4,0,0,0,15,0,0\n",
      "2008,12,13,6,756,800,1032,1026,0,1633,959,96,86,56,6,-4,304,255,425,23,17,0,4,0,NA,NA,NA,NA,NA\n",
      "2008,12,13,6,612,615,923,907,0,1635,2826,131,112,103,16,-3,53,272,546,5,23,0,4,0,0,0,16,0,0\n",
      "2008,12,13,6,749,750,901,859,0,1636,9994,72,69,41,2,-1,180,255,215,20,11,0,4,0,NA,NA,NA,NA,NA\n",
      "2008,12,13,6,1002,959,1204,1150,0,1636,9994,122,111,71,14,3,251,21,533,6,45,0,4,0,NA,NA,NA,NA,NA\n",
      "2008,12,13,6,834,835,1021,1023,0,1637,10045,167,168,139,-2,-1,251,185,874,5,23,0,4,0,NA,NA,NA,NA,NA\n",
      "2008,12,13,6,655,700,856,856,0,1638,12867,121,116,85,0,-5,235,255,545,24,12,0,4,0,NA,NA,NA,NA,NA\n",
      "2008,12,13,6,1251,1240,1446,1437,0,1639,9994,115,117,89,9,11,21,255,533,13,13,0,4,0,NA,NA,NA,NA,NA\n",
      "2008,12,13,6,1110,1103,1413,1418,0,1641,10045,123,135,104,-5,7,181,255,874,8,11,0,4,0,NA,NA,NA,NA,NA\n",
      "\n",
      "Old File Format:\n",
      "2008,12,13,6,1007,847,1149,1010,DL,1631,N909DA,162,143,122,99,80,ATL,IAH,689,8,32,0,,0,1,0,19,0,79\n",
      "2008,12,13,6,638,640,808,753,DL,1632,N604DL,90,73,50,15,-2,JAX,ATL,270,14,26,0,,0,0,0,15,0,0\n",
      "2008,12,13,6,756,800,1032,1026,DL,1633,N642DL,96,86,56,6,-4,MSY,ATL,425,23,17,0,,0,NA,NA,NA,NA,NA\n",
      "2008,12,13,6,612,615,923,907,DL,1635,N907DA,131,112,103,16,-3,GEG,SLC,546,5,23,0,,0,0,0,16,0,0\n",
      "2008,12,13,6,749,750,901,859,DL,1636,N646DL,72,69,41,2,-1,SAV,ATL,215,20,11,0,,0,NA,NA,NA,NA,NA\n",
      "2008,12,13,6,1002,959,1204,1150,DL,1636,N646DL,122,111,71,14,3,ATL,IAD,533,6,45,0,,0,NA,NA,NA,NA,NA\n",
      "2008,12,13,6,834,835,1021,1023,DL,1637,N908DL,167,168,139,-2,-1,ATL,SAT,874,5,23,0,,0,NA,NA,NA,NA,NA\n",
      "2008,12,13,6,655,700,856,856,DL,1638,N671DN,121,116,85,0,-5,PBI,ATL,545,24,12,0,,0,NA,NA,NA,NA,NA\n",
      "2008,12,13,6,1251,1240,1446,1437,DL,1639,N646DL,115,117,89,9,11,IAD,ATL,533,13,13,0,,0,NA,NA,NA,NA,NA\n",
      "2008,12,13,6,1110,1103,1413,1418,DL,1641,N908DL,123,135,104,-5,7,SAT,ATL,874,8,11,0,,0,NA,NA,NA,NA,NA\n"
     ]
    }
   ],
   "source": [
    "# let's now look at the tail of our big dataset and the tail of the 2008 file\n",
    "# do they compare nicely?\n",
    "\n",
    "#this will fail for Windows, not supported\n",
    "print('New File Format:')\n",
    "!tail '/Airline/AirlineDataAll.csv'\n",
    "print('')\n",
    "print('Old File Format:')\n",
    "!tail '/Airline/2008.csv'"
   ]
  },
  {
   "cell_type": "markdown",
   "metadata": {},
   "source": [
    "___\n",
    "In the above code, we also created a large file with all the data from every year inside of it. This is now saved as `AirlineDataAll`. Let's take a look at it."
   ]
  },
  {
   "cell_type": "code",
   "execution_count": 22,
   "metadata": {
    "collapsed": false
   },
   "outputs": [
    {
     "name": "stdout",
     "output_type": "stream",
     "text": [
      "ls: *All.csv: No such file or directory\r\n",
      "/Airline/:\r\n",
      "total 49754984\r\n",
      "drwxr-xr-x  48 root  wheel         1632 Dec  7 16:44 \u001b[34m.\u001b[m\u001b[m\r\n",
      "drwxr-xr-x  33 root  wheel         1190 Dec  7 16:02 \u001b[34m..\u001b[m\u001b[m\r\n",
      "-rw-r--r--   1 root  wheel    127162942 Dec  7 16:10 1987.csv\r\n",
      "-rw-r--r--   1 root  wheel     12652442 Dec  7 16:02 1987.csv.bz2\r\n",
      "-rw-r--r--   1 root  wheel    501039472 Dec  7 16:10 1988.csv\r\n",
      "-rw-r--r--   1 root  wheel     49499025 Dec  7 16:03 1988.csv.bz2\r\n",
      "-rw-r--r--   1 root  wheel    486518821 Dec  7 16:11 1989.csv\r\n",
      "-rw-r--r--   1 root  wheel     49202298 Dec  7 16:03 1989.csv.bz2\r\n",
      "-rw-r--r--   1 root  wheel    509194687 Dec  7 16:11 1990.csv\r\n",
      "-rw-r--r--   1 root  wheel     52041322 Dec  7 16:03 1990.csv.bz2\r\n",
      "-rw-r--r--   1 root  wheel    491210093 Dec  7 16:11 1991.csv\r\n",
      "-rw-r--r--   1 root  wheel     49877448 Dec  7 16:03 1991.csv.bz2\r\n",
      "-rw-r--r--   1 root  wheel    492313731 Dec  7 16:12 1992.csv\r\n",
      "-rw-r--r--   1 root  wheel     50040946 Dec  7 16:03 1992.csv.bz2\r\n",
      "-rw-r--r--   1 root  wheel    490753652 Dec  7 16:12 1993.csv\r\n",
      "-rw-r--r--   1 root  wheel     50111774 Dec  7 16:03 1993.csv.bz2\r\n",
      "-rw-r--r--   1 root  wheel    501558665 Dec  7 16:12 1994.csv\r\n",
      "-rw-r--r--   1 root  wheel     51123887 Dec  7 16:04 1994.csv.bz2\r\n",
      "-rw-r--r--   1 root  wheel    530751568 Dec  7 16:13 1995.csv\r\n",
      "-rw-r--r--   1 root  wheel     74881752 Dec  7 16:04 1995.csv.bz2\r\n",
      "-rw-r--r--   1 root  wheel    533922363 Dec  7 16:13 1996.csv\r\n",
      "-rw-r--r--   1 root  wheel     75887707 Dec  7 16:04 1996.csv.bz2\r\n",
      "-rw-r--r--   1 root  wheel    540347861 Dec  7 16:14 1997.csv\r\n",
      "-rw-r--r--   1 root  wheel     76705687 Dec  7 16:04 1997.csv.bz2\r\n",
      "-rw-r--r--   1 root  wheel    538432875 Dec  7 16:14 1998.csv\r\n",
      "-rw-r--r--   1 root  wheel     76683506 Dec  7 16:04 1998.csv.bz2\r\n",
      "-rw-r--r--   1 root  wheel    552926022 Dec  7 16:15 1999.csv\r\n",
      "-rw-r--r--   1 root  wheel     79449438 Dec  7 16:05 1999.csv.bz2\r\n",
      "-rw-r--r--   1 root  wheel    570151613 Dec  7 16:15 2000.csv\r\n",
      "-rw-r--r--   1 root  wheel     82537924 Dec  7 16:05 2000.csv.bz2\r\n",
      "-rw-r--r--   1 root  wheel    600411462 Dec  7 16:16 2001.csv\r\n",
      "-rw-r--r--   1 root  wheel     83478700 Dec  7 16:05 2001.csv.bz2\r\n",
      "-rw-r--r--   1 root  wheel    530507013 Dec  7 16:16 2002.csv\r\n",
      "-rw-r--r--   1 root  wheel     75907218 Dec  7 16:05 2002.csv.bz2\r\n",
      "-rw-r--r--   1 root  wheel    626745242 Dec  7 16:17 2003.csv\r\n",
      "-rw-r--r--   1 root  wheel     95326801 Dec  7 16:05 2003.csv.bz2\r\n",
      "-rw-r--r--   1 root  wheel    669879113 Dec  7 16:17 2004.csv\r\n",
      "-rw-r--r--   1 root  wheel    110825331 Dec  7 16:06 2004.csv.bz2\r\n",
      "-rw-r--r--   1 root  wheel    671027265 Dec  7 16:18 2005.csv\r\n",
      "-rw-r--r--   1 root  wheel    112450321 Dec  7 16:06 2005.csv.bz2\r\n",
      "-rw-r--r--   1 root  wheel    672068096 Dec  7 16:18 2006.csv\r\n",
      "-rw-r--r--   1 root  wheel    115019195 Dec  7 16:06 2006.csv.bz2\r\n",
      "-rw-r--r--   1 root  wheel    702878193 Dec  7 16:19 2007.csv\r\n",
      "-rw-r--r--   1 root  wheel    121249243 Dec  7 16:07 2007.csv.bz2\r\n",
      "-rw-r--r--   1 root  wheel    689413344 Dec  7 16:20 2008.csv\r\n",
      "-rw-r--r--   1 root  wheel    113753229 Dec  7 16:07 2008.csv.bz2\r\n",
      "-rw-r--r--   1 root  wheel  11785518426 Dec  7 18:42 AirlineDataAll.csv\r\n",
      "-rw-r--r--   1 root  wheel      1022787 Dec  7 16:43 unique_mapping.p\r\n"
     ]
    }
   ],
   "source": [
    "#Windows does't have ls command\n",
    "!ls -all '/Airline/' *All.csv "
   ]
  },
  {
   "cell_type": "markdown",
   "metadata": {},
   "source": [
    "\n",
    "___\n",
    "# 4.0 Analyzing the data using only Python\n",
    "Now let's analyze the data using graphlab create (from the company Dato). As you have seen before, the graphlab-create API uses something called a scalable data frame (or SFrame) that handles all of the out-of-core memory management for you. It is by far one of the most optimized tools for handling table data out-of-core. Really. With that said, lets also give a list of what to expect:\n",
    "- Loading and saving large amounts of data will be very fast\n",
    "- Manipulating and adding columns is not much overhead, as everything is saved piece meal\n",
    "- Parallelization is mostly handled for you in the background\n",
    "- Operations are 'queued up' before execution, so that they can be simplified and parallelized (if possible and easy)\n",
    "- However, there will be slightly less flexibility in the split-apply-combine technique\n",
    " - We need to use premade aggregation function from Dato's API \n",
    " - That means we can't just write a custom function to work in parallel on the different groups (like in R)\n",
    " - But we can concatenate operations to perform rich analysis (albeit not using standard python syntax)\n",
    " - In my opinion, this is the biggest downside (that custom aggregators cannot be built), but future version of graphlab might start to support this\n",
    "- Grouping and applying cannot be separated from each other \n",
    " - This is because of the queueing of operations, grouping does not happen until absolutely neccessary \n",
    " - This also optimizes the memory management, which can be a huge time savings\n",
    "- We CAN write custom apply functions that work on each row of data (just not the grouped splits)\n",
    "- At the time of writing this, graphlab is only supported for python 2.7 (ouch!)\n",
    " - This is unfortunate because graphlab is the only reason I am not updating to python 3 ...\n",
    "- Support on windows is really good, but mac/linux is slightly better.\n",
    " - This is especially true when using Dato's numpy extensions (which only works on mac/linux)\n",
    " - And the extensions make numpy operations completely usable out-of-core, with many operations optimized for sequential access (slightly more optimized than Numpy's builtin memmap)\n",
    "\n",
    "\n",
    "## 4.1 Loading 12GB of Data in Python\n",
    "Alright, then. Let's load up graphlab in order to get an idea about the power of this tool and what the syntax looks like."
   ]
  },
  {
   "cell_type": "code",
   "execution_count": 23,
   "metadata": {
    "collapsed": false
   },
   "outputs": [],
   "source": [
    "#pip install graphlab-create\n",
    "#pip install graphlab-create --upgrade\n",
    "#conda install -c graphlab-create\n",
    "\n",
    "import graphlab as gl"
   ]
  },
  {
   "cell_type": "code",
   "execution_count": 25,
   "metadata": {
    "collapsed": false
   },
   "outputs": [
    {
     "data": {
      "text/html": [
       "<pre>Finished parsing file /Airline/AirlineDataAll.csv</pre>"
      ],
      "text/plain": [
       "Finished parsing file /Airline/AirlineDataAll.csv"
      ]
     },
     "metadata": {},
     "output_type": "display_data"
    },
    {
     "data": {
      "text/html": [
       "<pre>Parsing completed. Parsed 100 lines in 0.807712 secs.</pre>"
      ],
      "text/plain": [
       "Parsing completed. Parsed 100 lines in 0.807712 secs."
      ]
     },
     "metadata": {},
     "output_type": "display_data"
    },
    {
     "name": "stdout",
     "output_type": "stream",
     "text": [
      "------------------------------------------------------\n",
      "Inferred types from first 100 line(s) of file as \n",
      "column_type_hints=[int,int,int,int,int,int,int,int,int,int,int,int,int,str,int,int,int,int,int,str,str,int,int,int,str,str,str,str,str]\n",
      "If parsing fails due to incorrect types, you can correct\n",
      "the inferred type list above and pass it to read_csv in\n",
      "the column_type_hints argument\n",
      "------------------------------------------------------\n"
     ]
    },
    {
     "data": {
      "text/html": [
       "<pre>Read 541148 lines. Lines per second: 333682</pre>"
      ],
      "text/plain": [
       "Read 541148 lines. Lines per second: 333682"
      ]
     },
     "metadata": {},
     "output_type": "display_data"
    },
    {
     "data": {
      "text/html": [
       "<pre>Read 4357653 lines. Lines per second: 588776</pre>"
      ],
      "text/plain": [
       "Read 4357653 lines. Lines per second: 588776"
      ]
     },
     "metadata": {},
     "output_type": "display_data"
    },
    {
     "data": {
      "text/html": [
       "<pre>Read 8162533 lines. Lines per second: 628658</pre>"
      ],
      "text/plain": [
       "Read 8162533 lines. Lines per second: 628658"
      ]
     },
     "metadata": {},
     "output_type": "display_data"
    },
    {
     "data": {
      "text/html": [
       "<pre>Read 11965516 lines. Lines per second: 645030</pre>"
      ],
      "text/plain": [
       "Read 11965516 lines. Lines per second: 645030"
      ]
     },
     "metadata": {},
     "output_type": "display_data"
    },
    {
     "data": {
      "text/html": [
       "<pre>Read 15775671 lines. Lines per second: 653052</pre>"
      ],
      "text/plain": [
       "Read 15775671 lines. Lines per second: 653052"
      ]
     },
     "metadata": {},
     "output_type": "display_data"
    },
    {
     "data": {
      "text/html": [
       "<pre>Read 19574723 lines. Lines per second: 658704</pre>"
      ],
      "text/plain": [
       "Read 19574723 lines. Lines per second: 658704"
      ]
     },
     "metadata": {},
     "output_type": "display_data"
    },
    {
     "data": {
      "text/html": [
       "<pre>Read 23371994 lines. Lines per second: 662025</pre>"
      ],
      "text/plain": [
       "Read 23371994 lines. Lines per second: 662025"
      ]
     },
     "metadata": {},
     "output_type": "display_data"
    },
    {
     "data": {
      "text/html": [
       "<pre>Read 27169062 lines. Lines per second: 664968</pre>"
      ],
      "text/plain": [
       "Read 27169062 lines. Lines per second: 664968"
      ]
     },
     "metadata": {},
     "output_type": "display_data"
    },
    {
     "data": {
      "text/html": [
       "<pre>Read 30973522 lines. Lines per second: 667075</pre>"
      ],
      "text/plain": [
       "Read 30973522 lines. Lines per second: 667075"
      ]
     },
     "metadata": {},
     "output_type": "display_data"
    },
    {
     "data": {
      "text/html": [
       "<pre>Read 34767102 lines. Lines per second: 669078</pre>"
      ],
      "text/plain": [
       "Read 34767102 lines. Lines per second: 669078"
      ]
     },
     "metadata": {},
     "output_type": "display_data"
    },
    {
     "data": {
      "text/html": [
       "<pre>Read 38566409 lines. Lines per second: 669317</pre>"
      ],
      "text/plain": [
       "Read 38566409 lines. Lines per second: 669317"
      ]
     },
     "metadata": {},
     "output_type": "display_data"
    },
    {
     "data": {
      "text/html": [
       "<pre>Read 42387282 lines. Lines per second: 669480</pre>"
      ],
      "text/plain": [
       "Read 42387282 lines. Lines per second: 669480"
      ]
     },
     "metadata": {},
     "output_type": "display_data"
    },
    {
     "data": {
      "text/html": [
       "<pre>Read 45668789 lines. Lines per second: 668071</pre>"
      ],
      "text/plain": [
       "Read 45668789 lines. Lines per second: 668071"
      ]
     },
     "metadata": {},
     "output_type": "display_data"
    },
    {
     "data": {
      "text/html": [
       "<pre>Read 48935611 lines. Lines per second: 664851</pre>"
      ],
      "text/plain": [
       "Read 48935611 lines. Lines per second: 664851"
      ]
     },
     "metadata": {},
     "output_type": "display_data"
    },
    {
     "data": {
      "text/html": [
       "<pre>Read 52207736 lines. Lines per second: 660885</pre>"
      ],
      "text/plain": [
       "Read 52207736 lines. Lines per second: 660885"
      ]
     },
     "metadata": {},
     "output_type": "display_data"
    },
    {
     "data": {
      "text/html": [
       "<pre>Read 55473493 lines. Lines per second: 657791</pre>"
      ],
      "text/plain": [
       "Read 55473493 lines. Lines per second: 657791"
      ]
     },
     "metadata": {},
     "output_type": "display_data"
    },
    {
     "data": {
      "text/html": [
       "<pre>Read 58732103 lines. Lines per second: 653998</pre>"
      ],
      "text/plain": [
       "Read 58732103 lines. Lines per second: 653998"
      ]
     },
     "metadata": {},
     "output_type": "display_data"
    },
    {
     "data": {
      "text/html": [
       "<pre>Read 62004894 lines. Lines per second: 650823</pre>"
      ],
      "text/plain": [
       "Read 62004894 lines. Lines per second: 650823"
      ]
     },
     "metadata": {},
     "output_type": "display_data"
    },
    {
     "data": {
      "text/html": [
       "<pre>Read 65260703 lines. Lines per second: 647234</pre>"
      ],
      "text/plain": [
       "Read 65260703 lines. Lines per second: 647234"
      ]
     },
     "metadata": {},
     "output_type": "display_data"
    },
    {
     "data": {
      "text/html": [
       "<pre>Read 68523240 lines. Lines per second: 643935</pre>"
      ],
      "text/plain": [
       "Read 68523240 lines. Lines per second: 643935"
      ]
     },
     "metadata": {},
     "output_type": "display_data"
    },
    {
     "data": {
      "text/html": [
       "<pre>Read 71771543 lines. Lines per second: 640753</pre>"
      ],
      "text/plain": [
       "Read 71771543 lines. Lines per second: 640753"
      ]
     },
     "metadata": {},
     "output_type": "display_data"
    },
    {
     "data": {
      "text/html": [
       "<pre>Read 75030942 lines. Lines per second: 637481</pre>"
      ],
      "text/plain": [
       "Read 75030942 lines. Lines per second: 637481"
      ]
     },
     "metadata": {},
     "output_type": "display_data"
    },
    {
     "data": {
      "text/html": [
       "<pre>Read 77736095 lines. Lines per second: 631842</pre>"
      ],
      "text/plain": [
       "Read 77736095 lines. Lines per second: 631842"
      ]
     },
     "metadata": {},
     "output_type": "display_data"
    },
    {
     "data": {
      "text/html": [
       "<pre>Read 80438119 lines. Lines per second: 625627</pre>"
      ],
      "text/plain": [
       "Read 80438119 lines. Lines per second: 625627"
      ]
     },
     "metadata": {},
     "output_type": "display_data"
    },
    {
     "data": {
      "text/html": [
       "<pre>Read 83681517 lines. Lines per second: 623170</pre>"
      ],
      "text/plain": [
       "Read 83681517 lines. Lines per second: 623170"
      ]
     },
     "metadata": {},
     "output_type": "display_data"
    },
    {
     "data": {
      "text/html": [
       "<pre>Read 86517396 lines. Lines per second: 616182</pre>"
      ],
      "text/plain": [
       "Read 86517396 lines. Lines per second: 616182"
      ]
     },
     "metadata": {},
     "output_type": "display_data"
    },
    {
     "data": {
      "text/html": [
       "<pre>Read 89353845 lines. Lines per second: 610017</pre>"
      ],
      "text/plain": [
       "Read 89353845 lines. Lines per second: 610017"
      ]
     },
     "metadata": {},
     "output_type": "display_data"
    },
    {
     "data": {
      "text/html": [
       "<pre>Read 91633751 lines. Lines per second: 604895</pre>"
      ],
      "text/plain": [
       "Read 91633751 lines. Lines per second: 604895"
      ]
     },
     "metadata": {},
     "output_type": "display_data"
    },
    {
     "data": {
      "text/html": [
       "<pre>Read 93904667 lines. Lines per second: 600173</pre>"
      ],
      "text/plain": [
       "Read 93904667 lines. Lines per second: 600173"
      ]
     },
     "metadata": {},
     "output_type": "display_data"
    },
    {
     "data": {
      "text/html": [
       "<pre>Read 96744114 lines. Lines per second: 594669</pre>"
      ],
      "text/plain": [
       "Read 96744114 lines. Lines per second: 594669"
      ]
     },
     "metadata": {},
     "output_type": "display_data"
    },
    {
     "data": {
      "text/html": [
       "<pre>Read 99589820 lines. Lines per second: 589964</pre>"
      ],
      "text/plain": [
       "Read 99589820 lines. Lines per second: 589964"
      ]
     },
     "metadata": {},
     "output_type": "display_data"
    },
    {
     "data": {
      "text/html": [
       "<pre>Read 102418299 lines. Lines per second: 585216</pre>"
      ],
      "text/plain": [
       "Read 102418299 lines. Lines per second: 585216"
      ]
     },
     "metadata": {},
     "output_type": "display_data"
    },
    {
     "data": {
      "text/html": [
       "<pre>Read 104694628 lines. Lines per second: 581483</pre>"
      ],
      "text/plain": [
       "Read 104694628 lines. Lines per second: 581483"
      ]
     },
     "metadata": {},
     "output_type": "display_data"
    },
    {
     "data": {
      "text/html": [
       "<pre>Read 106969613 lines. Lines per second: 577975</pre>"
      ],
      "text/plain": [
       "Read 106969613 lines. Lines per second: 577975"
      ]
     },
     "metadata": {},
     "output_type": "display_data"
    },
    {
     "data": {
      "text/html": [
       "<pre>Read 109791760 lines. Lines per second: 574193</pre>"
      ],
      "text/plain": [
       "Read 109791760 lines. Lines per second: 574193"
      ]
     },
     "metadata": {},
     "output_type": "display_data"
    },
    {
     "data": {
      "text/html": [
       "<pre>Read 112065457 lines. Lines per second: 571041</pre>"
      ],
      "text/plain": [
       "Read 112065457 lines. Lines per second: 571041"
      ]
     },
     "metadata": {},
     "output_type": "display_data"
    },
    {
     "data": {
      "text/html": [
       "<pre>Read 114339392 lines. Lines per second: 568200</pre>"
      ],
      "text/plain": [
       "Read 114339392 lines. Lines per second: 568200"
      ]
     },
     "metadata": {},
     "output_type": "display_data"
    },
    {
     "data": {
      "text/html": [
       "<pre>Read 117132141 lines. Lines per second: 565173</pre>"
      ],
      "text/plain": [
       "Read 117132141 lines. Lines per second: 565173"
      ]
     },
     "metadata": {},
     "output_type": "display_data"
    },
    {
     "data": {
      "text/html": [
       "<pre>Read 119858906 lines. Lines per second: 562516</pre>"
      ],
      "text/plain": [
       "Read 119858906 lines. Lines per second: 562516"
      ]
     },
     "metadata": {},
     "output_type": "display_data"
    },
    {
     "data": {
      "text/html": [
       "<pre>Read 122571182 lines. Lines per second: 560117</pre>"
      ],
      "text/plain": [
       "Read 122571182 lines. Lines per second: 560117"
      ]
     },
     "metadata": {},
     "output_type": "display_data"
    },
    {
     "data": {
      "text/html": [
       "<pre>Finished parsing file /Airline/AirlineDataAll.csv</pre>"
      ],
      "text/plain": [
       "Finished parsing file /Airline/AirlineDataAll.csv"
      ]
     },
     "metadata": {},
     "output_type": "display_data"
    },
    {
     "data": {
      "text/html": [
       "<pre>Parsing completed. Parsed 123534969 lines in 220.785 secs.</pre>"
      ],
      "text/plain": [
       "Parsing completed. Parsed 123534969 lines in 220.785 secs."
      ]
     },
     "metadata": {},
     "output_type": "display_data"
    }
   ],
   "source": [
    "#Here I needed to register (https://turi.com/register) and upgrade my graphlab using a free, academic-use-only product key: \n",
    "\n",
    "# pip install --upgrade --trusted-host pypi.python.org graphlab-create \n",
    "# pip install --upgrade --no-cache-dir --trusted-host get.graphlab.com https://get.graphlab.com/GraphLab-Create/2.1/dhomrighausen@smu.edu/A6C0-BEA7-AEF2-0822-AC94-D968-B66F-5B74/GraphLab-Create-License.tar.gz\n",
    "sf = gl.SFrame('/Airline/AirlineDataAll.csv')"
   ]
  },
  {
   "cell_type": "markdown",
   "metadata": {},
   "source": [
    "Wow! That was really fast to read the entire csv structure! On my system, it took about 6 minutes to prepare the SFrame. But--is it really the same length as the data we saw above? How could this be 5 times faster than the R code for loading and parsing the data? Let's check the dimensions."
   ]
  },
  {
   "cell_type": "code",
   "execution_count": 26,
   "metadata": {
    "collapsed": false
   },
   "outputs": [
    {
     "data": {
      "text/plain": [
       "(123534969, 29)"
      ]
     },
     "execution_count": 26,
     "metadata": {},
     "output_type": "execute_result"
    }
   ],
   "source": [
    "sf.shape"
   ]
  },
  {
   "cell_type": "markdown",
   "metadata": {},
   "source": [
    "...Yes. It is the same size! And if we dump this to file, it will be compressed to under 2GB and be written in about a minute to disk (and almost instantaneously when read--just like R). That's a really great advantage when working with large data like this. The space/time tradeoffs have really been optimized for this package. \n",
    "\n",
    "It also means that file access is quicker because the DiskIO has to load fewer bytes. It needs to decompress the bytes, but it does so typically much quicker than it would be to read them from disk. Impressive!\n",
    "\n",
    "If you wanted to save it, you could say:\n",
    "- ```sf.save('/Users/darrenho/MSDSairline/airline_data_sframe_directory') # write out as binary compressed file (very compressed)```\n",
    "- Then to load it back up:\n",
    " - ```gl.load_sframe('/Users/darrenho/MSDSairline/airline_data_sframe_directory')```\n",
    " \n",
    "___\n",
    "\n",
    "## 4.2 Preprocessing the CSV data in Python with Graphlab\n",
    "So great, we can load up the same file as R did. It still took forever to preprocess that file and get it ready. So, we really want to answer this question:\n",
    "**Is there an easier way to preprocess and concatenate all the files into one memory map using SFrames?** \n",
    "\n",
    "SFrames are more forgiving in terms of the data types that they can hold. Moreover, they load much more quickly than the parser used by `pandas`. Maybe we should try to read in each of the original CSV files as SFrames and concatenate them together into one SFrame. Would this be a quicker way to create the memory mapped file than all the preprocessing we did above?\n",
    "\n",
    "The answer is, in fact, **yes**. It is much faster and the code is much easier to understand than what we performed earlier. And because `graphlab` supports more than one data type, we do not need to preprocess any of the data. Plus, when we write out to file, it happens more quickly and in a compressed version (on disk it will be compressed to about 2GB). \n",
    "\n",
    "Here is the code to perform all the concatenation we did earlier. I am also supplying graphlab with the data type for each column to ensure that the data is consistent. However, if I did not, Graphlab would try and guess the data type based on the first 100 lines of the csv file."
   ]
  },
  {
   "cell_type": "code",
   "execution_count": 28,
   "metadata": {
    "collapsed": false,
    "scrolled": false
   },
   "outputs": [
    {
     "name": "stdout",
     "output_type": "stream",
     "text": [
      "read 0 lines, reading next file 1987.csv\n"
     ]
    },
    {
     "data": {
      "text/html": [
       "<pre>Read 540959 lines. Lines per second: 332933</pre>"
      ],
      "text/plain": [
       "Read 540959 lines. Lines per second: 332933"
      ]
     },
     "metadata": {},
     "output_type": "display_data"
    },
    {
     "data": {
      "text/html": [
       "<pre>Finished parsing file /Airline/1987.csv</pre>"
      ],
      "text/plain": [
       "Finished parsing file /Airline/1987.csv"
      ]
     },
     "metadata": {},
     "output_type": "display_data"
    },
    {
     "data": {
      "text/html": [
       "<pre>Parsing completed. Parsed 1311826 lines in 2.60295 secs.</pre>"
      ],
      "text/plain": [
       "Parsing completed. Parsed 1311826 lines in 2.60295 secs."
      ]
     },
     "metadata": {},
     "output_type": "display_data"
    },
    {
     "name": "stdout",
     "output_type": "stream",
     "text": [
      "read 1311826 lines, reading next file 1988.csv\n"
     ]
    },
    {
     "data": {
      "text/html": [
       "<pre>Read 1638298 lines. Lines per second: 475948</pre>"
      ],
      "text/plain": [
       "Read 1638298 lines. Lines per second: 475948"
      ]
     },
     "metadata": {},
     "output_type": "display_data"
    },
    {
     "data": {
      "text/html": [
       "<pre>Read 4902327 lines. Lines per second: 577168</pre>"
      ],
      "text/plain": [
       "Read 4902327 lines. Lines per second: 577168"
      ]
     },
     "metadata": {},
     "output_type": "display_data"
    },
    {
     "data": {
      "text/html": [
       "<pre>Finished parsing file /Airline/1988.csv</pre>"
      ],
      "text/plain": [
       "Finished parsing file /Airline/1988.csv"
      ]
     },
     "metadata": {},
     "output_type": "display_data"
    },
    {
     "data": {
      "text/html": [
       "<pre>Parsing completed. Parsed 5202096 lines in 8.83243 secs.</pre>"
      ],
      "text/plain": [
       "Parsing completed. Parsed 5202096 lines in 8.83243 secs."
      ]
     },
     "metadata": {},
     "output_type": "display_data"
    },
    {
     "name": "stdout",
     "output_type": "stream",
     "text": [
      "read 6513922 lines, reading next file 1989.csv\n"
     ]
    },
    {
     "data": {
      "text/html": [
       "<pre>Read 2179541 lines. Lines per second: 531293</pre>"
      ],
      "text/plain": [
       "Read 2179541 lines. Lines per second: 531293"
      ]
     },
     "metadata": {},
     "output_type": "display_data"
    },
    {
     "data": {
      "text/html": [
       "<pre>Finished parsing file /Airline/1989.csv</pre>"
      ],
      "text/plain": [
       "Finished parsing file /Airline/1989.csv"
      ]
     },
     "metadata": {},
     "output_type": "display_data"
    },
    {
     "data": {
      "text/html": [
       "<pre>Parsing completed. Parsed 5041200 lines in 8.3878 secs.</pre>"
      ],
      "text/plain": [
       "Parsing completed. Parsed 5041200 lines in 8.3878 secs."
      ]
     },
     "metadata": {},
     "output_type": "display_data"
    },
    {
     "name": "stdout",
     "output_type": "stream",
     "text": [
      "read 11555122 lines, reading next file 1990.csv\n"
     ]
    },
    {
     "data": {
      "text/html": [
       "<pre>Read 545116 lines. Lines per second: 330162</pre>"
      ],
      "text/plain": [
       "Read 545116 lines. Lines per second: 330162"
      ]
     },
     "metadata": {},
     "output_type": "display_data"
    },
    {
     "data": {
      "text/html": [
       "<pre>Read 3810010 lines. Lines per second: 553675</pre>"
      ],
      "text/plain": [
       "Read 3810010 lines. Lines per second: 553675"
      ]
     },
     "metadata": {},
     "output_type": "display_data"
    },
    {
     "data": {
      "text/html": [
       "<pre>Finished parsing file /Airline/1990.csv</pre>"
      ],
      "text/plain": [
       "Finished parsing file /Airline/1990.csv"
      ]
     },
     "metadata": {},
     "output_type": "display_data"
    },
    {
     "data": {
      "text/html": [
       "<pre>Parsing completed. Parsed 5270893 lines in 9.4512 secs.</pre>"
      ],
      "text/plain": [
       "Parsing completed. Parsed 5270893 lines in 9.4512 secs."
      ]
     },
     "metadata": {},
     "output_type": "display_data"
    },
    {
     "name": "stdout",
     "output_type": "stream",
     "text": [
      "read 16826015 lines, reading next file 1991.csv\n"
     ]
    },
    {
     "data": {
      "text/html": [
       "<pre>Read 543797 lines. Lines per second: 264490</pre>"
      ],
      "text/plain": [
       "Read 543797 lines. Lines per second: 264490"
      ]
     },
     "metadata": {},
     "output_type": "display_data"
    },
    {
     "data": {
      "text/html": [
       "<pre>Read 3259409 lines. Lines per second: 442544</pre>"
      ],
      "text/plain": [
       "Read 3259409 lines. Lines per second: 442544"
      ]
     },
     "metadata": {},
     "output_type": "display_data"
    },
    {
     "data": {
      "text/html": [
       "<pre>Finished parsing file /Airline/1991.csv</pre>"
      ],
      "text/plain": [
       "Finished parsing file /Airline/1991.csv"
      ]
     },
     "metadata": {},
     "output_type": "display_data"
    },
    {
     "data": {
      "text/html": [
       "<pre>Parsing completed. Parsed 5076925 lines in 10.3717 secs.</pre>"
      ],
      "text/plain": [
       "Parsing completed. Parsed 5076925 lines in 10.3717 secs."
      ]
     },
     "metadata": {},
     "output_type": "display_data"
    },
    {
     "name": "stdout",
     "output_type": "stream",
     "text": [
      "read 21902940 lines, reading next file 1992.csv\n"
     ]
    },
    {
     "data": {
      "text/html": [
       "<pre>Read 544035 lines. Lines per second: 261772</pre>"
      ],
      "text/plain": [
       "Read 544035 lines. Lines per second: 261772"
      ]
     },
     "metadata": {},
     "output_type": "display_data"
    },
    {
     "data": {
      "text/html": [
       "<pre>Read 3806600 lines. Lines per second: 476606</pre>"
      ],
      "text/plain": [
       "Read 3806600 lines. Lines per second: 476606"
      ]
     },
     "metadata": {},
     "output_type": "display_data"
    },
    {
     "data": {
      "text/html": [
       "<pre>Finished parsing file /Airline/1992.csv</pre>"
      ],
      "text/plain": [
       "Finished parsing file /Airline/1992.csv"
      ]
     },
     "metadata": {},
     "output_type": "display_data"
    },
    {
     "data": {
      "text/html": [
       "<pre>Parsing completed. Parsed 5092157 lines in 10.1228 secs.</pre>"
      ],
      "text/plain": [
       "Parsing completed. Parsed 5092157 lines in 10.1228 secs."
      ]
     },
     "metadata": {},
     "output_type": "display_data"
    },
    {
     "name": "stdout",
     "output_type": "stream",
     "text": [
      "read 26995097 lines, reading next file 1993.csv\n"
     ]
    },
    {
     "data": {
      "text/html": [
       "<pre>Read 1086617 lines. Lines per second: 463179</pre>"
      ],
      "text/plain": [
       "Read 1086617 lines. Lines per second: 463179"
      ]
     },
     "metadata": {},
     "output_type": "display_data"
    },
    {
     "data": {
      "text/html": [
       "<pre>Read 4877507 lines. Lines per second: 630122</pre>"
      ],
      "text/plain": [
       "Read 4877507 lines. Lines per second: 630122"
      ]
     },
     "metadata": {},
     "output_type": "display_data"
    },
    {
     "data": {
      "text/html": [
       "<pre>Finished parsing file /Airline/1993.csv</pre>"
      ],
      "text/plain": [
       "Finished parsing file /Airline/1993.csv"
      ]
     },
     "metadata": {},
     "output_type": "display_data"
    },
    {
     "data": {
      "text/html": [
       "<pre>Parsing completed. Parsed 5070501 lines in 7.96171 secs.</pre>"
      ],
      "text/plain": [
       "Parsing completed. Parsed 5070501 lines in 7.96171 secs."
      ]
     },
     "metadata": {},
     "output_type": "display_data"
    },
    {
     "name": "stdout",
     "output_type": "stream",
     "text": [
      "read 32065598 lines, reading next file 1994.csv\n"
     ]
    },
    {
     "data": {
      "text/html": [
       "<pre>Read 2715338 lines. Lines per second: 565023</pre>"
      ],
      "text/plain": [
       "Read 2715338 lines. Lines per second: 565023"
      ]
     },
     "metadata": {},
     "output_type": "display_data"
    },
    {
     "data": {
      "text/html": [
       "<pre>Finished parsing file /Airline/1994.csv</pre>"
      ],
      "text/plain": [
       "Finished parsing file /Airline/1994.csv"
      ]
     },
     "metadata": {},
     "output_type": "display_data"
    },
    {
     "data": {
      "text/html": [
       "<pre>Parsing completed. Parsed 5180048 lines in 8.24416 secs.</pre>"
      ],
      "text/plain": [
       "Parsing completed. Parsed 5180048 lines in 8.24416 secs."
      ]
     },
     "metadata": {},
     "output_type": "display_data"
    },
    {
     "name": "stdout",
     "output_type": "stream",
     "text": [
      "read 37245646 lines, reading next file 1995.csv\n"
     ]
    },
    {
     "data": {
      "text/html": [
       "<pre>Read 527246 lines. Lines per second: 306141</pre>"
      ],
      "text/plain": [
       "Read 527246 lines. Lines per second: 306141"
      ]
     },
     "metadata": {},
     "output_type": "display_data"
    },
    {
     "data": {
      "text/html": [
       "<pre>Read 3692144 lines. Lines per second: 528988</pre>"
      ],
      "text/plain": [
       "Read 3692144 lines. Lines per second: 528988"
      ]
     },
     "metadata": {},
     "output_type": "display_data"
    },
    {
     "data": {
      "text/html": [
       "<pre>Finished parsing file /Airline/1995.csv</pre>"
      ],
      "text/plain": [
       "Finished parsing file /Airline/1995.csv"
      ]
     },
     "metadata": {},
     "output_type": "display_data"
    },
    {
     "data": {
      "text/html": [
       "<pre>Parsing completed. Parsed 5327435 lines in 9.5181 secs.</pre>"
      ],
      "text/plain": [
       "Parsing completed. Parsed 5327435 lines in 9.5181 secs."
      ]
     },
     "metadata": {},
     "output_type": "display_data"
    },
    {
     "name": "stdout",
     "output_type": "stream",
     "text": [
      "read 42573081 lines, reading next file 1996.csv\n"
     ]
    },
    {
     "data": {
      "text/html": [
       "<pre>Read 530202 lines. Lines per second: 309433</pre>"
      ],
      "text/plain": [
       "Read 530202 lines. Lines per second: 309433"
      ]
     },
     "metadata": {},
     "output_type": "display_data"
    },
    {
     "data": {
      "text/html": [
       "<pre>Read 3689352 lines. Lines per second: 523890</pre>"
      ],
      "text/plain": [
       "Read 3689352 lines. Lines per second: 523890"
      ]
     },
     "metadata": {},
     "output_type": "display_data"
    },
    {
     "data": {
      "text/html": [
       "<pre>Finished parsing file /Airline/1996.csv</pre>"
      ],
      "text/plain": [
       "Finished parsing file /Airline/1996.csv"
      ]
     },
     "metadata": {},
     "output_type": "display_data"
    },
    {
     "data": {
      "text/html": [
       "<pre>Parsing completed. Parsed 5351983 lines in 10.22 secs.</pre>"
      ],
      "text/plain": [
       "Parsing completed. Parsed 5351983 lines in 10.22 secs."
      ]
     },
     "metadata": {},
     "output_type": "display_data"
    },
    {
     "name": "stdout",
     "output_type": "stream",
     "text": [
      "read 47925064 lines, reading next file 1997.csv\n"
     ]
    },
    {
     "data": {
      "text/html": [
       "<pre>Read 529207 lines. Lines per second: 281422</pre>"
      ],
      "text/plain": [
       "Read 529207 lines. Lines per second: 281422"
      ]
     },
     "metadata": {},
     "output_type": "display_data"
    },
    {
     "data": {
      "text/html": [
       "<pre>Read 3684987 lines. Lines per second: 517054</pre>"
      ],
      "text/plain": [
       "Read 3684987 lines. Lines per second: 517054"
      ]
     },
     "metadata": {},
     "output_type": "display_data"
    },
    {
     "data": {
      "text/html": [
       "<pre>Finished parsing file /Airline/1997.csv</pre>"
      ],
      "text/plain": [
       "Finished parsing file /Airline/1997.csv"
      ]
     },
     "metadata": {},
     "output_type": "display_data"
    },
    {
     "data": {
      "text/html": [
       "<pre>Parsing completed. Parsed 5411843 lines in 9.83493 secs.</pre>"
      ],
      "text/plain": [
       "Parsing completed. Parsed 5411843 lines in 9.83493 secs."
      ]
     },
     "metadata": {},
     "output_type": "display_data"
    },
    {
     "name": "stdout",
     "output_type": "stream",
     "text": [
      "read 53336907 lines, reading next file 1998.csv\n"
     ]
    },
    {
     "data": {
      "text/html": [
       "<pre>Read 528414 lines. Lines per second: 315416</pre>"
      ],
      "text/plain": [
       "Read 528414 lines. Lines per second: 315416"
      ]
     },
     "metadata": {},
     "output_type": "display_data"
    },
    {
     "data": {
      "text/html": [
       "<pre>Read 3680636 lines. Lines per second: 534637</pre>"
      ],
      "text/plain": [
       "Read 3680636 lines. Lines per second: 534637"
      ]
     },
     "metadata": {},
     "output_type": "display_data"
    },
    {
     "data": {
      "text/html": [
       "<pre>Finished parsing file /Airline/1998.csv</pre>"
      ],
      "text/plain": [
       "Finished parsing file /Airline/1998.csv"
      ]
     },
     "metadata": {},
     "output_type": "display_data"
    },
    {
     "data": {
      "text/html": [
       "<pre>Parsing completed. Parsed 5384721 lines in 9.84999 secs.</pre>"
      ],
      "text/plain": [
       "Parsing completed. Parsed 5384721 lines in 9.84999 secs."
      ]
     },
     "metadata": {},
     "output_type": "display_data"
    },
    {
     "name": "stdout",
     "output_type": "stream",
     "text": [
      "read 58721628 lines, reading next file 1999.csv\n"
     ]
    },
    {
     "data": {
      "text/html": [
       "<pre>Read 524911 lines. Lines per second: 308576</pre>"
      ],
      "text/plain": [
       "Read 524911 lines. Lines per second: 308576"
      ]
     },
     "metadata": {},
     "output_type": "display_data"
    },
    {
     "data": {
      "text/html": [
       "<pre>Read 3677577 lines. Lines per second: 528797</pre>"
      ],
      "text/plain": [
       "Read 3677577 lines. Lines per second: 528797"
      ]
     },
     "metadata": {},
     "output_type": "display_data"
    },
    {
     "data": {
      "text/html": [
       "<pre>Finished parsing file /Airline/1999.csv</pre>"
      ],
      "text/plain": [
       "Finished parsing file /Airline/1999.csv"
      ]
     },
     "metadata": {},
     "output_type": "display_data"
    },
    {
     "data": {
      "text/html": [
       "<pre>Parsing completed. Parsed 5527884 lines in 9.85906 secs.</pre>"
      ],
      "text/plain": [
       "Parsing completed. Parsed 5527884 lines in 9.85906 secs."
      ]
     },
     "metadata": {},
     "output_type": "display_data"
    },
    {
     "name": "stdout",
     "output_type": "stream",
     "text": [
      "read 64249512 lines, reading next file 2000.csv\n"
     ]
    },
    {
     "data": {
      "text/html": [
       "<pre>Read 524495 lines. Lines per second: 301173</pre>"
      ],
      "text/plain": [
       "Read 524495 lines. Lines per second: 301173"
      ]
     },
     "metadata": {},
     "output_type": "display_data"
    },
    {
     "data": {
      "text/html": [
       "<pre>Read 3143838 lines. Lines per second: 471044</pre>"
      ],
      "text/plain": [
       "Read 3143838 lines. Lines per second: 471044"
      ]
     },
     "metadata": {},
     "output_type": "display_data"
    },
    {
     "data": {
      "text/html": [
       "<pre>Finished parsing file /Airline/2000.csv</pre>"
      ],
      "text/plain": [
       "Finished parsing file /Airline/2000.csv"
      ]
     },
     "metadata": {},
     "output_type": "display_data"
    },
    {
     "data": {
      "text/html": [
       "<pre>Parsing completed. Parsed 5683047 lines in 10.9961 secs.</pre>"
      ],
      "text/plain": [
       "Parsing completed. Parsed 5683047 lines in 10.9961 secs."
      ]
     },
     "metadata": {},
     "output_type": "display_data"
    },
    {
     "name": "stdout",
     "output_type": "stream",
     "text": [
      "read 69932559 lines, reading next file 2001.csv\n"
     ]
    },
    {
     "data": {
      "text/html": [
       "<pre>Read 522034 lines. Lines per second: 269870</pre>"
      ],
      "text/plain": [
       "Read 522034 lines. Lines per second: 269870"
      ]
     },
     "metadata": {},
     "output_type": "display_data"
    },
    {
     "data": {
      "text/html": [
       "<pre>Read 3132289 lines. Lines per second: 450710</pre>"
      ],
      "text/plain": [
       "Read 3132289 lines. Lines per second: 450710"
      ]
     },
     "metadata": {},
     "output_type": "display_data"
    },
    {
     "data": {
      "text/html": [
       "<pre>Read 5735547 lines. Lines per second: 480259</pre>"
      ],
      "text/plain": [
       "Read 5735547 lines. Lines per second: 480259"
      ]
     },
     "metadata": {},
     "output_type": "display_data"
    },
    {
     "data": {
      "text/html": [
       "<pre>Finished parsing file /Airline/2001.csv</pre>"
      ],
      "text/plain": [
       "Finished parsing file /Airline/2001.csv"
      ]
     },
     "metadata": {},
     "output_type": "display_data"
    },
    {
     "data": {
      "text/html": [
       "<pre>Parsing completed. Parsed 5967780 lines in 12.2727 secs.</pre>"
      ],
      "text/plain": [
       "Parsing completed. Parsed 5967780 lines in 12.2727 secs."
      ]
     },
     "metadata": {},
     "output_type": "display_data"
    },
    {
     "name": "stdout",
     "output_type": "stream",
     "text": [
      "read 75900339 lines, reading next file 2002.csv\n"
     ]
    },
    {
     "data": {
      "text/html": [
       "<pre>Read 2089436 lines. Lines per second: 499428</pre>"
      ],
      "text/plain": [
       "Read 2089436 lines. Lines per second: 499428"
      ]
     },
     "metadata": {},
     "output_type": "display_data"
    },
    {
     "data": {
      "text/html": [
       "<pre>Finished parsing file /Airline/2002.csv</pre>"
      ],
      "text/plain": [
       "Finished parsing file /Airline/2002.csv"
      ]
     },
     "metadata": {},
     "output_type": "display_data"
    },
    {
     "data": {
      "text/html": [
       "<pre>Parsing completed. Parsed 5271359 lines in 9.14194 secs.</pre>"
      ],
      "text/plain": [
       "Parsing completed. Parsed 5271359 lines in 9.14194 secs."
      ]
     },
     "metadata": {},
     "output_type": "display_data"
    },
    {
     "name": "stdout",
     "output_type": "stream",
     "text": [
      "read 81171698 lines, reading next file 2003.csv\n"
     ]
    },
    {
     "data": {
      "text/html": [
       "<pre>Read 522593 lines. Lines per second: 323950</pre>"
      ],
      "text/plain": [
       "Read 522593 lines. Lines per second: 323950"
      ]
     },
     "metadata": {},
     "output_type": "display_data"
    },
    {
     "data": {
      "text/html": [
       "<pre>Read 3730099 lines. Lines per second: 534804</pre>"
      ],
      "text/plain": [
       "Read 3730099 lines. Lines per second: 534804"
      ]
     },
     "metadata": {},
     "output_type": "display_data"
    },
    {
     "data": {
      "text/html": [
       "<pre>Finished parsing file /Airline/2003.csv</pre>"
      ],
      "text/plain": [
       "Finished parsing file /Airline/2003.csv"
      ]
     },
     "metadata": {},
     "output_type": "display_data"
    },
    {
     "data": {
      "text/html": [
       "<pre>Parsing completed. Parsed 6488540 lines in 11.7168 secs.</pre>"
      ],
      "text/plain": [
       "Parsing completed. Parsed 6488540 lines in 11.7168 secs."
      ]
     },
     "metadata": {},
     "output_type": "display_data"
    },
    {
     "name": "stdout",
     "output_type": "stream",
     "text": [
      "read 87660238 lines, reading next file 2004.csv\n"
     ]
    },
    {
     "data": {
      "text/html": [
       "<pre>Read 560245 lines. Lines per second: 304504</pre>"
      ],
      "text/plain": [
       "Read 560245 lines. Lines per second: 304504"
      ]
     },
     "metadata": {},
     "output_type": "display_data"
    },
    {
     "data": {
      "text/html": [
       "<pre>Read 3357994 lines. Lines per second: 466208</pre>"
      ],
      "text/plain": [
       "Read 3357994 lines. Lines per second: 466208"
      ]
     },
     "metadata": {},
     "output_type": "display_data"
    },
    {
     "data": {
      "text/html": [
       "<pre>Read 6147859 lines. Lines per second: 481717</pre>"
      ],
      "text/plain": [
       "Read 6147859 lines. Lines per second: 481717"
      ]
     },
     "metadata": {},
     "output_type": "display_data"
    },
    {
     "data": {
      "text/html": [
       "<pre>Finished parsing file /Airline/2004.csv</pre>"
      ],
      "text/plain": [
       "Finished parsing file /Airline/2004.csv"
      ]
     },
     "metadata": {},
     "output_type": "display_data"
    },
    {
     "data": {
      "text/html": [
       "<pre>Parsing completed. Parsed 7129270 lines in 14.5416 secs.</pre>"
      ],
      "text/plain": [
       "Parsing completed. Parsed 7129270 lines in 14.5416 secs."
      ]
     },
     "metadata": {},
     "output_type": "display_data"
    },
    {
     "name": "stdout",
     "output_type": "stream",
     "text": [
      "read 94789508 lines, reading next file 2005.csv\n"
     ]
    },
    {
     "data": {
      "text/html": [
       "<pre>Read 1119468 lines. Lines per second: 390843</pre>"
      ],
      "text/plain": [
       "Read 1119468 lines. Lines per second: 390843"
      ]
     },
     "metadata": {},
     "output_type": "display_data"
    },
    {
     "data": {
      "text/html": [
       "<pre>Read 3917795 lines. Lines per second: 471778</pre>"
      ],
      "text/plain": [
       "Read 3917795 lines. Lines per second: 471778"
      ]
     },
     "metadata": {},
     "output_type": "display_data"
    },
    {
     "data": {
      "text/html": [
       "<pre>Read 6700868 lines. Lines per second: 485725</pre>"
      ],
      "text/plain": [
       "Read 6700868 lines. Lines per second: 485725"
      ]
     },
     "metadata": {},
     "output_type": "display_data"
    },
    {
     "data": {
      "text/html": [
       "<pre>Finished parsing file /Airline/2005.csv</pre>"
      ],
      "text/plain": [
       "Finished parsing file /Airline/2005.csv"
      ]
     },
     "metadata": {},
     "output_type": "display_data"
    },
    {
     "data": {
      "text/html": [
       "<pre>Parsing completed. Parsed 7140596 lines in 14.5356 secs.</pre>"
      ],
      "text/plain": [
       "Parsing completed. Parsed 7140596 lines in 14.5356 secs."
      ]
     },
     "metadata": {},
     "output_type": "display_data"
    },
    {
     "name": "stdout",
     "output_type": "stream",
     "text": [
      "read 101930104 lines, reading next file 2006.csv\n"
     ]
    },
    {
     "data": {
      "text/html": [
       "<pre>Read 1676459 lines. Lines per second: 429510</pre>"
      ],
      "text/plain": [
       "Read 1676459 lines. Lines per second: 429510"
      ]
     },
     "metadata": {},
     "output_type": "display_data"
    },
    {
     "data": {
      "text/html": [
       "<pre>Read 4471997 lines. Lines per second: 476900</pre>"
      ],
      "text/plain": [
       "Read 4471997 lines. Lines per second: 476900"
      ]
     },
     "metadata": {},
     "output_type": "display_data"
    },
    {
     "data": {
      "text/html": [
       "<pre>Finished parsing file /Airline/2006.csv</pre>"
      ],
      "text/plain": [
       "Finished parsing file /Airline/2006.csv"
      ]
     },
     "metadata": {},
     "output_type": "display_data"
    },
    {
     "data": {
      "text/html": [
       "<pre>Parsing completed. Parsed 7141922 lines in 14.546 secs.</pre>"
      ],
      "text/plain": [
       "Parsing completed. Parsed 7141922 lines in 14.546 secs."
      ]
     },
     "metadata": {},
     "output_type": "display_data"
    },
    {
     "name": "stdout",
     "output_type": "stream",
     "text": [
      "read 109072026 lines, reading next file 2007.csv\n"
     ]
    },
    {
     "data": {
      "text/html": [
       "<pre>Read 559204 lines. Lines per second: 299573</pre>"
      ],
      "text/plain": [
       "Read 559204 lines. Lines per second: 299573"
      ]
     },
     "metadata": {},
     "output_type": "display_data"
    },
    {
     "data": {
      "text/html": [
       "<pre>Read 3348410 lines. Lines per second: 457478</pre>"
      ],
      "text/plain": [
       "Read 3348410 lines. Lines per second: 457478"
      ]
     },
     "metadata": {},
     "output_type": "display_data"
    },
    {
     "data": {
      "text/html": [
       "<pre>Read 6128354 lines. Lines per second: 473887</pre>"
      ],
      "text/plain": [
       "Read 6128354 lines. Lines per second: 473887"
      ]
     },
     "metadata": {},
     "output_type": "display_data"
    },
    {
     "data": {
      "text/html": [
       "<pre>Finished parsing file /Airline/2007.csv</pre>"
      ],
      "text/plain": [
       "Finished parsing file /Airline/2007.csv"
      ]
     },
     "metadata": {},
     "output_type": "display_data"
    },
    {
     "data": {
      "text/html": [
       "<pre>Parsing completed. Parsed 7453215 lines in 15.4832 secs.</pre>"
      ],
      "text/plain": [
       "Parsing completed. Parsed 7453215 lines in 15.4832 secs."
      ]
     },
     "metadata": {},
     "output_type": "display_data"
    },
    {
     "name": "stdout",
     "output_type": "stream",
     "text": [
      "read 116525241 lines, reading next file 2008.csv\n"
     ]
    },
    {
     "data": {
      "text/html": [
       "<pre>Read 535634 lines. Lines per second: 301666</pre>"
      ],
      "text/plain": [
       "Read 535634 lines. Lines per second: 301666"
      ]
     },
     "metadata": {},
     "output_type": "display_data"
    },
    {
     "data": {
      "text/html": [
       "<pre>Read 3211046 lines. Lines per second: 458880</pre>"
      ],
      "text/plain": [
       "Read 3211046 lines. Lines per second: 458880"
      ]
     },
     "metadata": {},
     "output_type": "display_data"
    },
    {
     "data": {
      "text/html": [
       "<pre>Read 5874437 lines. Lines per second: 477085</pre>"
      ],
      "text/plain": [
       "Read 5874437 lines. Lines per second: 477085"
      ]
     },
     "metadata": {},
     "output_type": "display_data"
    },
    {
     "data": {
      "text/html": [
       "<pre>Finished parsing file /Airline/2008.csv</pre>"
      ],
      "text/plain": [
       "Finished parsing file /Airline/2008.csv"
      ]
     },
     "metadata": {},
     "output_type": "display_data"
    },
    {
     "data": {
      "text/html": [
       "<pre>Parsing completed. Parsed 7009728 lines in 14.5605 secs.</pre>"
      ],
      "text/plain": [
       "Parsing completed. Parsed 7009728 lines in 14.5605 secs."
      ]
     },
     "metadata": {},
     "output_type": "display_data"
    },
    {
     "name": "stdout",
     "output_type": "stream",
     "text": [
      "It took 253.66 seconds to concatenate the memory mapped file\n",
      "Saving... took 49.35 seconds Shape of SFrame is (123534969, 29)\n"
     ]
    }
   ],
   "source": [
    "del sf # get rid of the old thing\n",
    "# What about just loading up all the data using the SFrame Utility for loading CSV files?\n",
    "# We will need to make sure that the SFrame has consistent datatypes, so we will give the value for each header\n",
    "column_hints=[int,int,int,int,int,int,int,int,str,int,str,int,int,int,int,int,str,str,int,int,int,int,str,int,int,int,int,int,int]\n",
    "\n",
    "t = time.time()\n",
    "# now load the first SFrame\n",
    "sf = gl.SFrame() #.read_csv('Data/1987.csv',column_type_hints=column_hints)\n",
    "\n",
    "# and then append each SFrame in a for loop\n",
    "for year in range(1987,2009):\n",
    "    print 'read %d lines, reading next file %d.csv'%(sf.shape[0],year)\n",
    "    sys.stdout.flush()\n",
    "    sftmp = gl.SFrame.read_csv('/Airline/%d.csv'%(year),column_type_hints=column_hints)\n",
    "    sf = sf.append(sftmp)\n",
    "\n",
    "print 'It took %.2f seconds to concatenate the memory mapped file'%(time.time()-t)\n",
    "\n",
    "t = time.time()\n",
    "print 'Saving...',\n",
    "sf.save('/Airline/airline_data_sframe_directory') # save a compressed version of this SFrame\n",
    "print 'took %.2f seconds'%(time.time()-t),'Shape of SFrame is',sf.shape"
   ]
  },
  {
   "cell_type": "markdown",
   "metadata": {},
   "source": [
    "So yeah, we concatenated and loaded the file in ~320 seconds and saved a compressed binary version in about 1 minute (on my machine). That's quite a speedup. \n",
    "\n",
    "But can we perform operations upon it? Let's check how versatile these data structures are. Let's first try to replicate the functionality of finding the most popular airports to fly out of, like we did with `bigmemory`. "
   ]
  },
  {
   "cell_type": "code",
   "execution_count": 31,
   "metadata": {
    "collapsed": false
   },
   "outputs": [],
   "source": [
    "# CONVENIENCE BLOCK FOR THOSE LOADING FROM DISK HERE\n",
    "\n",
    "# If you have already run the notebook above and just want to load up the data\n",
    "# then you can reload the SFrame here\n",
    "import graphlab as gl\n",
    "\n",
    "sf = gl.load_sframe('/Airline/airline_data_sframe_directory')"
   ]
  },
  {
   "cell_type": "markdown",
   "metadata": {},
   "source": [
    "## 4.3 Analyzing popular Airports to fly from in Python\n",
    "We now need to perform some operations using the split-apply-combine technique. However, in graphlab this all happens via one syntax (the `groupby` function). Let's see how it works. "
   ]
  },
  {
   "cell_type": "code",
   "execution_count": 32,
   "metadata": {
    "collapsed": false
   },
   "outputs": [
    {
     "name": "stdout",
     "output_type": "stream",
     "text": [
      "CPU times: user 56.4 s, sys: 590 ms, total: 57 s\n",
      "Wall time: 7.79 s\n"
     ]
    },
    {
     "data": {
      "text/html": [
       "<div style=\"max-height:1000px;max-width:1500px;overflow:auto;\"><table frame=\"box\" rules=\"cols\">\n",
       "    <tr>\n",
       "        <th style=\"padding-left: 1em; padding-right: 1em; text-align: center\">Origin</th>\n",
       "        <th style=\"padding-left: 1em; padding-right: 1em; text-align: center\">num_flights</th>\n",
       "    </tr>\n",
       "    <tr>\n",
       "        <td style=\"padding-left: 1em; padding-right: 1em; text-align: center; vertical-align: top\">ABY</td>\n",
       "        <td style=\"padding-left: 1em; padding-right: 1em; text-align: center; vertical-align: top\">8035</td>\n",
       "    </tr>\n",
       "    <tr>\n",
       "        <td style=\"padding-left: 1em; padding-right: 1em; text-align: center; vertical-align: top\">ATL</td>\n",
       "        <td style=\"padding-left: 1em; padding-right: 1em; text-align: center; vertical-align: top\">6100953</td>\n",
       "    </tr>\n",
       "    <tr>\n",
       "        <td style=\"padding-left: 1em; padding-right: 1em; text-align: center; vertical-align: top\">TEX</td>\n",
       "        <td style=\"padding-left: 1em; padding-right: 1em; text-align: center; vertical-align: top\">683</td>\n",
       "    </tr>\n",
       "    <tr>\n",
       "        <td style=\"padding-left: 1em; padding-right: 1em; text-align: center; vertical-align: top\">VLD</td>\n",
       "        <td style=\"padding-left: 1em; padding-right: 1em; text-align: center; vertical-align: top\">7300</td>\n",
       "    </tr>\n",
       "    <tr>\n",
       "        <td style=\"padding-left: 1em; padding-right: 1em; text-align: center; vertical-align: top\">CHS</td>\n",
       "        <td style=\"padding-left: 1em; padding-right: 1em; text-align: center; vertical-align: top\">222491</td>\n",
       "    </tr>\n",
       "    <tr>\n",
       "        <td style=\"padding-left: 1em; padding-right: 1em; text-align: center; vertical-align: top\">MKK</td>\n",
       "        <td style=\"padding-left: 1em; padding-right: 1em; text-align: center; vertical-align: top\">289</td>\n",
       "    </tr>\n",
       "    <tr>\n",
       "        <td style=\"padding-left: 1em; padding-right: 1em; text-align: center; vertical-align: top\">ROR</td>\n",
       "        <td style=\"padding-left: 1em; padding-right: 1em; text-align: center; vertical-align: top\">2228</td>\n",
       "    </tr>\n",
       "    <tr>\n",
       "        <td style=\"padding-left: 1em; padding-right: 1em; text-align: center; vertical-align: top\">VCT</td>\n",
       "        <td style=\"padding-left: 1em; padding-right: 1em; text-align: center; vertical-align: top\">2445</td>\n",
       "    </tr>\n",
       "    <tr>\n",
       "        <td style=\"padding-left: 1em; padding-right: 1em; text-align: center; vertical-align: top\">ITH</td>\n",
       "        <td style=\"padding-left: 1em; padding-right: 1em; text-align: center; vertical-align: top\">18397</td>\n",
       "    </tr>\n",
       "    <tr>\n",
       "        <td style=\"padding-left: 1em; padding-right: 1em; text-align: center; vertical-align: top\">LAW</td>\n",
       "        <td style=\"padding-left: 1em; padding-right: 1em; text-align: center; vertical-align: top\">18019</td>\n",
       "    </tr>\n",
       "</table>\n",
       "[347 rows x 2 columns]<br/>Note: Only the head of the SFrame is printed.<br/>You can use print_rows(num_rows=m, num_columns=n) to print more rows and columns.\n",
       "</div>"
      ],
      "text/plain": [
       "Columns:\n",
       "\tOrigin\tstr\n",
       "\tnum_flights\tint\n",
       "\n",
       "Rows: 347\n",
       "\n",
       "Data:\n",
       "+--------+-------------+\n",
       "| Origin | num_flights |\n",
       "+--------+-------------+\n",
       "|  ABY   |     8035    |\n",
       "|  ATL   |   6100953   |\n",
       "|  TEX   |     683     |\n",
       "|  VLD   |     7300    |\n",
       "|  CHS   |    222491   |\n",
       "|  MKK   |     289     |\n",
       "|  ROR   |     2228    |\n",
       "|  VCT   |     2445    |\n",
       "|  ITH   |    18397    |\n",
       "|  LAW   |    18019    |\n",
       "+--------+-------------+\n",
       "[347 rows x 2 columns]\n",
       "Note: Only the head of the SFrame is printed.\n",
       "You can use print_rows(num_rows=m, num_columns=n) to print more rows and columns."
      ]
     },
     "execution_count": 32,
     "metadata": {},
     "output_type": "execute_result"
    }
   ],
   "source": [
    "# to perform grouping and splitting\n",
    "# we need to specify (1) which column(s) to group the SFrame using, and \n",
    "#                    (2) what function we want to perform on the group\n",
    "# in graphlab, we only have a few options for performing on each of the groups. \n",
    "# Here, lets keep it simple--let's group by the airport origin and then\n",
    "#  use the builtin 'count' function to aggregate the results\n",
    "# The result is another SFrame with the Unique origin names as a column and the\n",
    "#  number of entries in each group in another column\n",
    "%time sf_counts = sf.groupby('Origin', {'num_flights':gl.aggregate.COUNT()})\n",
    "sf_counts"
   ]
  },
  {
   "cell_type": "code",
   "execution_count": 33,
   "metadata": {
    "collapsed": false
   },
   "outputs": [
    {
     "name": "stderr",
     "output_type": "stream",
     "text": [
      "/Users/coryadams/anaconda/envs/gl-env/lib/python2.7/site-packages/matplotlib/font_manager.py:273: UserWarning: Matplotlib is building the font cache using fc-list. This may take a moment.\n",
      "  warnings.warn('Matplotlib is building the font cache using fc-list. This may take a moment.')\n"
     ]
    },
    {
     "data": {
      "image/png": "[encoded data removed]",
      "text/plain": [
       "<matplotlib.figure.Figure at 0x121347dd0>"
      ]
     },
     "metadata": {},
     "output_type": "display_data"
    }
   ],
   "source": [
    "from matplotlib import pyplot as plt\n",
    "import numpy as np\n",
    "\n",
    "%matplotlib inline\n",
    "plt.style.use('ggplot')\n",
    "\n",
    "# As seen above, the sf_counts SFrame has the origin of the flight on the left\n",
    "# and the count of flights on the right \n",
    "\n",
    "# let's grab the top 10 entries\n",
    "sf_top = sf_counts.topk('num_flights',10) # this is builtin command in graphlab\n",
    "\n",
    "airports = np.array(sf_top['Origin'])\n",
    "counts = np.array(sf_top['num_flights'])\n",
    "\n",
    "fig = plt.figure(figsize=(8,4))\n",
    "plt.barh(range(len(counts)),counts)\n",
    "\n",
    "# and set them on the plot\n",
    "plt.yticks(range(len(airports)), airports)\n",
    "\n",
    "plt.show()"
   ]
  },
  {
   "cell_type": "markdown",
   "metadata": {},
   "source": [
    "___\n",
    "\n",
    "## 4.4 Analyzing Depature Delays at Specific Times of the Day in Python\n",
    "Now, let's try to do something a little more interesting, such as trying to perform the same operations that are in the Nolan text. Specifically, let's try to find the percentiles for late flights based upon the hour of the day that they depart. To do this we will:\n",
    "- Create a new column for the hour of the day that a plane departed.\n",
    "- Fix the `hours==24` and `hours==0` to be consistent\n",
    "- Group by the hours of departure \n",
    "- Take percentiles of each group to see which ones are the latest"
   ]
  },
  {
   "cell_type": "code",
   "execution_count": 34,
   "metadata": {
    "collapsed": false
   },
   "outputs": [
    {
     "data": {
      "text/plain": [
       "dtype: int\n",
       "Rows: 123534969\n",
       "[7, 7, 7, 7, 7, 7, 7, 7, 7, 7, 7, 7, 7, 7, 9, 9, 9, 9, 9, 9, 9, 9, 9, 9, 9, 9, 9, 9, 9, 9, 9, 9, 9, 9, 9, 9, 9, 9, 9, 9, 9, 9, 9, 15, 15, 15, 15, 15, 15, 15, 15, 15, 15, 15, 15, 15, 15, 15, 15, 15, 15, 15, 15, 15, 15, 15, 15, 15, 16, 16, 16, 16, 16, 16, 16, 16, 16, 16, 16, 16, 16, 16, 16, 16, 16, 16, 16, 16, 16, 16, 16, 16, 16, 16, 7, 8, 8, 8, 8, 8, ... ]"
      ]
     },
     "execution_count": 34,
     "metadata": {},
     "output_type": "execute_result"
    }
   ],
   "source": [
    "from math import floor\n",
    "# first, let's create a new column in this SFrame that has the departure time floored to the nearest hour\n",
    "sf['DepTimeByHour'] = sf['CRSDepTime'].apply(lambda x: floor(x/100),dtype=int)\n",
    "sf['DepTimeByHour'] # and print a few of them (note: the column has not been evaluated yet)"
   ]
  },
  {
   "cell_type": "code",
   "execution_count": 35,
   "metadata": {
    "collapsed": true
   },
   "outputs": [],
   "source": [
    "# Let's now change the hours of the day that are equal to 24\n",
    "# we need to be careful here becasue each column is not immutable\n",
    "# in pandas this would be:\n",
    "#    df.DepTimeByHour[df.DepTimeByHour==24] = 0\n",
    "# but we cant just change a few values in the column, we need to change them all and replace them\n",
    "# don't worry though, Graphlab does this smartly\n",
    "sf['DepTimeByHour'] = sf['DepTimeByHour'].apply(lambda x: 0 if x==24 else x)\n",
    "# again, this column has not been evaluated yet because that value has not yet been accessed"
   ]
  },
  {
   "cell_type": "code",
   "execution_count": 36,
   "metadata": {
    "collapsed": false
   },
   "outputs": [
    {
     "name": "stdout",
     "output_type": "stream",
     "text": [
      "Took 111.59 seconds to run\n"
     ]
    }
   ],
   "source": [
    "# now lets group the SFrame by the hours and calculate the percentiles of each group\n",
    "# here is where the lazy evaluation actually happens so this takes a little while to compute\n",
    "\n",
    "# the groupby function will partition our SFrame into groups based upon the given column of data\n",
    "# next, we need to tell graphlab what operations to perform on the group and what rows\n",
    "# to do that, we send in a dictionary of names and 'operations' \n",
    "# We did a similar operation above with the 'COUNT' aggregator\n",
    "# there are only a certain number of operators we can choose from, we will choose to use the 'QUANTILE'\n",
    "#   aggregator on the column 'DepDelay'. We want to take the percentiles [0.90,0.99,0.999,0.9999]\n",
    "# We can also perform other operations by adding entries in the dictonary\n",
    "# So we will also take the 'MAX' of each group\n",
    "import time\n",
    "t = time.time()\n",
    "delay_sf = sf.groupby('DepTimeByHour', \n",
    "                            {'delay_quantiles':gl.aggregate.QUANTILE('DepDelay', [0.90,0.99,0.999,0.9999]),\n",
    "                             'delay_max':gl.aggregate.MAX('DepDelay')})\n",
    "# this returns a new SFrame with the specified columns from each aggregation\n",
    "\n",
    "print 'Took %.2f seconds to run'%(time.time()-t)"
   ]
  },
  {
   "cell_type": "code",
   "execution_count": 37,
   "metadata": {
    "collapsed": false
   },
   "outputs": [
    {
     "data": {
      "text/html": [
       "<div style=\"max-height:1000px;max-width:1500px;overflow:auto;\"><table frame=\"box\" rules=\"cols\">\n",
       "    <tr>\n",
       "        <th style=\"padding-left: 1em; padding-right: 1em; text-align: center\">DepTimeByHour</th>\n",
       "        <th style=\"padding-left: 1em; padding-right: 1em; text-align: center\">delay_max</th>\n",
       "        <th style=\"padding-left: 1em; padding-right: 1em; text-align: center\">delay_quantiles</th>\n",
       "    </tr>\n",
       "    <tr>\n",
       "        <td style=\"padding-left: 1em; padding-right: 1em; text-align: center; vertical-align: top\">0</td>\n",
       "        <td style=\"padding-left: 1em; padding-right: 1em; text-align: center; vertical-align: top\">1435</td>\n",
       "        <td style=\"padding-left: 1em; padding-right: 1em; text-align: center; vertical-align: top\">[30.0, 133.0, 1435.0,<br>1435.0] ...</td>\n",
       "    </tr>\n",
       "    <tr>\n",
       "        <td style=\"padding-left: 1em; padding-right: 1em; text-align: center; vertical-align: top\">1</td>\n",
       "        <td style=\"padding-left: 1em; padding-right: 1em; text-align: center; vertical-align: top\">1419</td>\n",
       "        <td style=\"padding-left: 1em; padding-right: 1em; text-align: center; vertical-align: top\">[20.0, 98.0, 199.0,<br>1419.0] ...</td>\n",
       "    </tr>\n",
       "    <tr>\n",
       "        <td style=\"padding-left: 1em; padding-right: 1em; text-align: center; vertical-align: top\">2</td>\n",
       "        <td style=\"padding-left: 1em; padding-right: 1em; text-align: center; vertical-align: top\">1265</td>\n",
       "        <td style=\"padding-left: 1em; padding-right: 1em; text-align: center; vertical-align: top\">[10.0, 82.0, 187.0,<br>1265.0] ...</td>\n",
       "    </tr>\n",
       "    <tr>\n",
       "        <td style=\"padding-left: 1em; padding-right: 1em; text-align: center; vertical-align: top\">3</td>\n",
       "        <td style=\"padding-left: 1em; padding-right: 1em; text-align: center; vertical-align: top\">976</td>\n",
       "        <td style=\"padding-left: 1em; padding-right: 1em; text-align: center; vertical-align: top\">[7.0, 97.0, 200.0, 976.0]</td>\n",
       "    </tr>\n",
       "    <tr>\n",
       "        <td style=\"padding-left: 1em; padding-right: 1em; text-align: center; vertical-align: top\">4</td>\n",
       "        <td style=\"padding-left: 1em; padding-right: 1em; text-align: center; vertical-align: top\">930</td>\n",
       "        <td style=\"padding-left: 1em; padding-right: 1em; text-align: center; vertical-align: top\">[9.0, 101.0, 930.0,<br>930.0] ...</td>\n",
       "    </tr>\n",
       "    <tr>\n",
       "        <td style=\"padding-left: 1em; padding-right: 1em; text-align: center; vertical-align: top\">5</td>\n",
       "        <td style=\"padding-left: 1em; padding-right: 1em; text-align: center; vertical-align: top\">1418</td>\n",
       "        <td style=\"padding-left: 1em; padding-right: 1em; text-align: center; vertical-align: top\">[5.0, 81.0, 1418.0,<br>1418.0] ...</td>\n",
       "    </tr>\n",
       "    <tr>\n",
       "        <td style=\"padding-left: 1em; padding-right: 1em; text-align: center; vertical-align: top\">6</td>\n",
       "        <td style=\"padding-left: 1em; padding-right: 1em; text-align: center; vertical-align: top\">1740</td>\n",
       "        <td style=\"padding-left: 1em; padding-right: 1em; text-align: center; vertical-align: top\">[6.0, 79.0, 1740.0,<br>1740.0] ...</td>\n",
       "    </tr>\n",
       "    <tr>\n",
       "        <td style=\"padding-left: 1em; padding-right: 1em; text-align: center; vertical-align: top\">7</td>\n",
       "        <td style=\"padding-left: 1em; padding-right: 1em; text-align: center; vertical-align: top\">1956</td>\n",
       "        <td style=\"padding-left: 1em; padding-right: 1em; text-align: center; vertical-align: top\">[9.0, 84.0, 1956.0,<br>1956.0] ...</td>\n",
       "    </tr>\n",
       "    <tr>\n",
       "        <td style=\"padding-left: 1em; padding-right: 1em; text-align: center; vertical-align: top\">8</td>\n",
       "        <td style=\"padding-left: 1em; padding-right: 1em; text-align: center; vertical-align: top\">2119</td>\n",
       "        <td style=\"padding-left: 1em; padding-right: 1em; text-align: center; vertical-align: top\">[14.0, 93.0, 2119.0,<br>2119.0] ...</td>\n",
       "    </tr>\n",
       "    <tr>\n",
       "        <td style=\"padding-left: 1em; padding-right: 1em; text-align: center; vertical-align: top\">9</td>\n",
       "        <td style=\"padding-left: 1em; padding-right: 1em; text-align: center; vertical-align: top\">1800</td>\n",
       "        <td style=\"padding-left: 1em; padding-right: 1em; text-align: center; vertical-align: top\">[17.0, 95.0, 1800.0,<br>1800.0] ...</td>\n",
       "    </tr>\n",
       "</table>\n",
       "[24 rows x 3 columns]<br/>Note: Only the head of the SFrame is printed.<br/>You can use print_rows(num_rows=m, num_columns=n) to print more rows and columns.\n",
       "</div>"
      ],
      "text/plain": [
       "Columns:\n",
       "\tDepTimeByHour\tint\n",
       "\tdelay_max\tint\n",
       "\tdelay_quantiles\tarray\n",
       "\n",
       "Rows: 24\n",
       "\n",
       "Data:\n",
       "+---------------+-----------+-------------------------------+\n",
       "| DepTimeByHour | delay_max |        delay_quantiles        |\n",
       "+---------------+-----------+-------------------------------+\n",
       "|       0       |    1435   | [30.0, 133.0, 1435.0, 1435.0] |\n",
       "|       1       |    1419   |  [20.0, 98.0, 199.0, 1419.0]  |\n",
       "|       2       |    1265   |  [10.0, 82.0, 187.0, 1265.0]  |\n",
       "|       3       |    976    |   [7.0, 97.0, 200.0, 976.0]   |\n",
       "|       4       |    930    |   [9.0, 101.0, 930.0, 930.0]  |\n",
       "|       5       |    1418   |  [5.0, 81.0, 1418.0, 1418.0]  |\n",
       "|       6       |    1740   |  [6.0, 79.0, 1740.0, 1740.0]  |\n",
       "|       7       |    1956   |  [9.0, 84.0, 1956.0, 1956.0]  |\n",
       "|       8       |    2119   |  [14.0, 93.0, 2119.0, 2119.0] |\n",
       "|       9       |    1800   |  [17.0, 95.0, 1800.0, 1800.0] |\n",
       "+---------------+-----------+-------------------------------+\n",
       "[24 rows x 3 columns]\n",
       "Note: Only the head of the SFrame is printed.\n",
       "You can use print_rows(num_rows=m, num_columns=n) to print more rows and columns."
      ]
     },
     "execution_count": 37,
     "metadata": {},
     "output_type": "execute_result"
    }
   ],
   "source": [
    "# sort it by when departed and display it\n",
    "delay_sf = delay_sf.sort('DepTimeByHour')\n",
    "delay_sf"
   ]
  },
  {
   "cell_type": "code",
   "execution_count": 38,
   "metadata": {
    "collapsed": false
   },
   "outputs": [
    {
     "data": {
      "image/png": "[encoded data removed]",
      "text/plain": [
       "<matplotlib.figure.Figure at 0x11c8bbe10>"
      ]
     },
     "metadata": {},
     "output_type": "display_data"
    }
   ],
   "source": [
    "# to use matplotlib, we need to convert over to numpy arrays\n",
    "# this is a fine operation because the new aggregated SFrame we are \n",
    "# working (delay_sf) with is quite small\n",
    "x = np.array(delay_sf['DepTimeByHour'])\n",
    "y = np.array(delay_sf['delay_quantiles'])\n",
    "\n",
    "plt.figure(figsize=(10,4))\n",
    "plt.subplot(1,2,1)\n",
    "plt.plot(x,y)\n",
    "plt.ylabel('Minutes Delayed')\n",
    "plt.xlabel('Hour of Day')\n",
    "\n",
    "\n",
    "plt.subplot(1,2,2)\n",
    "plt.plot(x,y)\n",
    "plt.xlabel('Hour of Day')\n",
    "plt.ylim(0,1400) # make the same axes as in the book\n",
    "plt.legend(['0.9','0.99','0.999','0.9999'])\n",
    "\n",
    "plt.show()"
   ]
  },
  {
   "cell_type": "markdown",
   "metadata": {},
   "source": [
    "Oh no! This doesn't look like the graph from the book at all!! Actually, there is a really great reason for that...\n",
    "\n",
    "Let's investigate further. The bottom two lines (percentiles 0.90 and 0.99) look very similar to what your book had, but the other two percentile values (0.999 and 0.9999) seemingly did not evaluate properly. \n",
    "\n",
    "Find out why by looking at the documentation for the quartile aggregator.\n",
    "- https://dato.com/products/create/docs/graphlab.data_structures.aggregation.html#module-graphlab.aggregate\n",
    "- Hint: there is a reason that the quantile calculation was really, really, really fast.\n",
    "___\n",
    "\n",
    "## 4.5 Calculate Plane Age with Dato\n",
    "So let's keep moving and try to calculate the plane's age like we did in R."
   ]
  },
  {
   "cell_type": "code",
   "execution_count": 39,
   "metadata": {
    "collapsed": true
   },
   "outputs": [],
   "source": [
    "# only use years where the tail number was recorded\n",
    "# we can manipulate the SFrame fairly easily in graphlab, so let's do it\n",
    "sf_tmp = sf[['TailNum','Year','Month','DepDelay']][sf['Year']>1994]"
   ]
  },
  {
   "cell_type": "code",
   "execution_count": 40,
   "metadata": {
    "collapsed": false
   },
   "outputs": [
    {
     "name": "stdout",
     "output_type": "stream",
     "text": [
      "Took 10.12 seconds to run\n"
     ]
    }
   ],
   "source": [
    "# lets try to make a function for getting the age of the plane\n",
    "# First lets just save the plane's age in years\n",
    "sf_tmp['FlightAge'] = 12*sf_tmp['Year']+sf_tmp['Month']-1\n",
    "\n",
    "# and take the minimum of that in order to get its first flight\n",
    "t = time.time()\n",
    "sf_min_ages = sf_tmp[['TailNum','FlightAge']].groupby('TailNum',{'FirstFlight':gl.aggregate.MIN('FlightAge')})\n",
    "print 'Took %.2f seconds to run'%(time.time()-t)"
   ]
  },
  {
   "cell_type": "code",
   "execution_count": 41,
   "metadata": {
    "collapsed": false
   },
   "outputs": [
    {
     "name": "stdout",
     "output_type": "stream",
     "text": [
      "CPU times: user 8min 50s, sys: 1.8 s, total: 8min 51s\n",
      "Wall time: 1min 12s\n"
     ]
    }
   ],
   "source": [
    "# Now transform the FirstFlight Column into the original dataframe size\n",
    "# to do that we can just do a join on a few columns of our sf\n",
    "# this will save the flight age and the minimum in a new SFrame\n",
    "%time sf_fewcols = sf_tmp[['TailNum','FlightAge']].join(sf_min_ages,on='TailNum',how='left') # long operation"
   ]
  },
  {
   "cell_type": "code",
   "execution_count": 42,
   "metadata": {
    "collapsed": true
   },
   "outputs": [],
   "source": [
    "# and now we can simply subtract the new calculated quantity and add to the original SFrame\n",
    "sf_tmp['Age'] = sf_fewcols['FlightAge']-sf_fewcols['FirstFlight']"
   ]
  },
  {
   "cell_type": "markdown",
   "metadata": {},
   "source": [
    "## 4.6 Calculate a linear model from massive data with Python\n",
    "Graphlab (much like `biganalytics`) will perform mini-batch linear regression and it will do it fast. Let's see what kind of output we get."
   ]
  },
  {
   "cell_type": "code",
   "execution_count": 43,
   "metadata": {
    "collapsed": false
   },
   "outputs": [
    {
     "name": "stdout",
     "output_type": "stream",
     "text": [
      "PROGRESS: Creating a validation set from 5 percent of training data. This may take a while.\n",
      "          You can set ``validation_set=None`` to disable validation tracking.\n",
      "\n"
     ]
    },
    {
     "data": {
      "text/html": [
       "<pre>Linear regression:</pre>"
      ],
      "text/plain": [
       "Linear regression:"
      ]
     },
     "metadata": {},
     "output_type": "display_data"
    },
    {
     "data": {
      "text/html": [
       "<pre>--------------------------------------------------------</pre>"
      ],
      "text/plain": [
       "--------------------------------------------------------"
      ]
     },
     "metadata": {},
     "output_type": "display_data"
    },
    {
     "data": {
      "text/html": [
       "<pre>Number of examples          : 80186342</pre>"
      ],
      "text/plain": [
       "Number of examples          : 80186342"
      ]
     },
     "metadata": {},
     "output_type": "display_data"
    },
    {
     "data": {
      "text/html": [
       "<pre>Number of features          : 1</pre>"
      ],
      "text/plain": [
       "Number of features          : 1"
      ]
     },
     "metadata": {},
     "output_type": "display_data"
    },
    {
     "data": {
      "text/html": [
       "<pre>Number of unpacked features : 1</pre>"
      ],
      "text/plain": [
       "Number of unpacked features : 1"
      ]
     },
     "metadata": {},
     "output_type": "display_data"
    },
    {
     "data": {
      "text/html": [
       "<pre>Number of coefficients    : 2</pre>"
      ],
      "text/plain": [
       "Number of coefficients    : 2"
      ]
     },
     "metadata": {},
     "output_type": "display_data"
    },
    {
     "data": {
      "text/html": [
       "<pre>Starting Newton Method</pre>"
      ],
      "text/plain": [
       "Starting Newton Method"
      ]
     },
     "metadata": {},
     "output_type": "display_data"
    },
    {
     "data": {
      "text/html": [
       "<pre>--------------------------------------------------------</pre>"
      ],
      "text/plain": [
       "--------------------------------------------------------"
      ]
     },
     "metadata": {},
     "output_type": "display_data"
    },
    {
     "data": {
      "text/html": [
       "<pre>+-----------+----------+--------------+--------------------+----------------------+---------------+-----------------+</pre>"
      ],
      "text/plain": [
       "+-----------+----------+--------------+--------------------+----------------------+---------------+-----------------+"
      ]
     },
     "metadata": {},
     "output_type": "display_data"
    },
    {
     "data": {
      "text/html": [
       "<pre>| Iteration | Passes   | Elapsed Time | Training-max_error | Validation-max_error | Training-rmse | Validation-rmse |</pre>"
      ],
      "text/plain": [
       "| Iteration | Passes   | Elapsed Time | Training-max_error | Validation-max_error | Training-rmse | Validation-rmse |"
      ]
     },
     "metadata": {},
     "output_type": "display_data"
    },
    {
     "data": {
      "text/html": [
       "<pre>+-----------+----------+--------------+--------------------+----------------------+---------------+-----------------+</pre>"
      ],
      "text/plain": [
       "+-----------+----------+--------------+--------------------+----------------------+---------------+-----------------+"
      ]
     },
     "metadata": {},
     "output_type": "display_data"
    },
    {
     "data": {
      "text/html": [
       "<pre>| 1         | 2        | 3.754851     | 2591.595828        | 2457.564091          | 30.926132     | 30.833578       |</pre>"
      ],
      "text/plain": [
       "| 1         | 2        | 3.754851     | 2591.595828        | 2457.564091          | 30.926132     | 30.833578       |"
      ]
     },
     "metadata": {},
     "output_type": "display_data"
    },
    {
     "data": {
      "text/html": [
       "<pre>+-----------+----------+--------------+--------------------+----------------------+---------------+-----------------+</pre>"
      ],
      "text/plain": [
       "+-----------+----------+--------------+--------------------+----------------------+---------------+-----------------+"
      ]
     },
     "metadata": {},
     "output_type": "display_data"
    },
    {
     "data": {
      "text/html": [
       "<pre>SUCCESS: Optimal solution found.</pre>"
      ],
      "text/plain": [
       "SUCCESS: Optimal solution found."
      ]
     },
     "metadata": {},
     "output_type": "display_data"
    },
    {
     "data": {
      "text/html": [
       "<pre></pre>"
      ],
      "text/plain": []
     },
     "metadata": {},
     "output_type": "display_data"
    },
    {
     "name": "stdout",
     "output_type": "stream",
     "text": [
      "CPU times: user 3min 40s, sys: 5.12 s, total: 3min 45s\n",
      "Wall time: 32.6 s\n"
     ]
    }
   ],
   "source": [
    "# now look at the age and delay time in terms of regression (like your book)\n",
    "%time lin_model = gl.linear_regression.create(sf_tmp['DepDelay','Age'].dropna(), target='DepDelay', features=['Age'])"
   ]
  },
  {
   "cell_type": "code",
   "execution_count": 44,
   "metadata": {
    "collapsed": false
   },
   "outputs": [
    {
     "data": {
      "text/html": [
       "<div style=\"max-height:1000px;max-width:1500px;overflow:auto;\"><table frame=\"box\" rules=\"cols\">\n",
       "    <tr>\n",
       "        <th style=\"padding-left: 1em; padding-right: 1em; text-align: center\">name</th>\n",
       "        <th style=\"padding-left: 1em; padding-right: 1em; text-align: center\">index</th>\n",
       "        <th style=\"padding-left: 1em; padding-right: 1em; text-align: center\">value</th>\n",
       "        <th style=\"padding-left: 1em; padding-right: 1em; text-align: center\">stderr</th>\n",
       "    </tr>\n",
       "    <tr>\n",
       "        <td style=\"padding-left: 1em; padding-right: 1em; text-align: center; vertical-align: top\">(intercept)</td>\n",
       "        <td style=\"padding-left: 1em; padding-right: 1em; text-align: center; vertical-align: top\">None</td>\n",
       "        <td style=\"padding-left: 1em; padding-right: 1em; text-align: center; vertical-align: top\">8.59489041448</td>\n",
       "        <td style=\"padding-left: 1em; padding-right: 1em; text-align: center; vertical-align: top\">0.00519560895007</td>\n",
       "    </tr>\n",
       "    <tr>\n",
       "        <td style=\"padding-left: 1em; padding-right: 1em; text-align: center; vertical-align: top\">Age</td>\n",
       "        <td style=\"padding-left: 1em; padding-right: 1em; text-align: center; vertical-align: top\">None</td>\n",
       "        <td style=\"padding-left: 1em; padding-right: 1em; text-align: center; vertical-align: top\">0.00528942284932</td>\n",
       "        <td style=\"padding-left: 1em; padding-right: 1em; text-align: center; vertical-align: top\">8.25983353875e-05</td>\n",
       "    </tr>\n",
       "</table>\n",
       "[2 rows x 4 columns]<br/>\n",
       "</div>"
      ],
      "text/plain": [
       "Columns:\n",
       "\tname\tstr\n",
       "\tindex\tstr\n",
       "\tvalue\tfloat\n",
       "\tstderr\tfloat\n",
       "\n",
       "Rows: 2\n",
       "\n",
       "Data:\n",
       "+-------------+-------+------------------+-------------------+\n",
       "|     name    | index |      value       |       stderr      |\n",
       "+-------------+-------+------------------+-------------------+\n",
       "| (intercept) |  None |  8.59489041448   |  0.00519560895007 |\n",
       "|     Age     |  None | 0.00528942284932 | 8.25983353875e-05 |\n",
       "+-------------+-------+------------------+-------------------+\n",
       "[2 rows x 4 columns]"
      ]
     },
     "execution_count": 44,
     "metadata": {},
     "output_type": "execute_result"
    }
   ],
   "source": [
    "lin_model['coefficients']"
   ]
  },
  {
   "cell_type": "markdown",
   "metadata": {},
   "source": [
    "Which again, gives us a positive association of Age and departure delay time (but could be very weak because we model nothing else). The value is of the same magnitude as what we found using R. It is slightly different because we need to use gradient descent (not batch methods, which are deterministic). The number of iterations and starting point for gradient methods will slightly (or not so slightly sometimes) affect the final coefficient values. \n",
    "\n",
    "___\n",
    "# 5.0 Conclusions\n",
    "Now that we have seen SFrames and bigmemory, which one should you choose? **As always, it depends.** I would recommend performing preprocessing with SFrames, almost always. They are much easier to work with. But their use of split-apply-combine is still lacking behind the abilities of R's bigmemory. Some operations are optimized, and if you can get away with only using those operations, then try just using SFrames. Since SFrames are great for adding and subtracting columns, that is another way to play around with the data before trying to use R. \n",
    "\n",
    "However, if you need a more flexible solution, bigmemory will need to be what you go with. And it is a really wonderful program... That's especially true when the aggregation function you use needs to do something rather complex. If you are running windows... SFrames are your goto. But, really, why are you running windows? Oh right, for SAS... Time to install a linux partition maybe... Or buy a mac and run bootcamp... You get the idea.\n",
    "\n",
    "Another thing to keep in mind: Graphlab is actively being developed (and most of it is open source, like SFrames). It will one day have an R interface. It will probably get custom aggregation functions one day soon. \n",
    "\n",
    "The solutions I have provided here are just examples. Large datasets can be handled using databases really well (but eventually you run into limitations). \n",
    "\n",
    "And, as always, happy analyzing!\n",
    "\n",
    "___\n",
    "\n",
    "*This Notebook was created by Professor Eric Larson and modified by Darren Homrighausen"
   ]
  }
 ],
 "metadata": {
  "anaconda-cloud": {},
  "kernelspec": {
   "display_name": "Python (gl=env)",
   "language": "python",
   "name": "gl-env"
  },
  "language_info": {
   "codemirror_mode": {
    "name": "ipython",
    "version": 2
   },
   "file_extension": ".py",
   "mimetype": "text/x-python",
   "name": "python",
   "nbconvert_exporter": "python",
   "pygments_lexer": "ipython2",
   "version": "2.7.11"
  },
  "varInspector": {
   "cols": {
    "lenName": 16,
    "lenType": 16,
    "lenVar": 40
   },
   "kernels_config": {
    "python": {
     "delete_cmd_postfix": "",
     "delete_cmd_prefix": "del ",
     "library": "var_list.py",
     "varRefreshCmd": "print(var_dic_list())"
    },
    "r": {
     "delete_cmd_postfix": ") ",
     "delete_cmd_prefix": "rm(",
     "library": "var_list.r",
     "varRefreshCmd": "cat(var_dic_list()) "
    }
   },
   "types_to_exclude": [
    "module",
    "function",
    "builtin_function_or_method",
    "instance",
    "_Feature"
   ],
   "window_display": false
  }
 },
 "nbformat": 4,
 "nbformat_minor": 1
}
