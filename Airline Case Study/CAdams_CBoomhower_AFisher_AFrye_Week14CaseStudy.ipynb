{
 "cells": [
  {
   "cell_type": "markdown",
   "metadata": {},
   "source": [
    "---\n",
    "title: \"Strategies for Analyzing a 12-Gigabyte Data Set: Airline Flight Delays - Case Study Unit 14\n",
    "output: html_notebook\n",
    "---"
   ]
  },
  {
   "cell_type": "markdown",
   "metadata": {},
   "source": [
    "#### Cory Adams, Chris Boomhower, Alexandra Fisher, Alex Frye\n",
    "#### MSDS 7333, December 10, 2017"
   ]
  },
  {
   "cell_type": "markdown",
   "metadata": {},
   "source": [
    "## Abstract"
   ]
  },
  {
   "cell_type": "markdown",
   "metadata": {},
   "source": [
    "## Introduction"
   ]
  },
  {
   "cell_type": "markdown",
   "metadata": {},
   "source": [
    "## Background"
   ]
  },
  {
   "cell_type": "markdown",
   "metadata": {},
   "source": [
    "## Methods"
   ]
  },
  {
   "cell_type": "markdown",
   "metadata": {},
   "source": [
    "## Results"
   ]
  },
  {
   "cell_type": "markdown",
   "metadata": {},
   "source": [
    "# Batch Processing in R and Python\n",
    "This is meant as a companion notebook for the the SMU MSDS program. Specifically, we will build off of chapter five in the text \"Data Science in R\", http://www.amazon.com/Data-Science-Approach-Computational-Reasoning/dp/1482234815.\n",
    "\n",
    "In this notebook we will look at ways for loading and analyzing data out-of-core using a batch processing method. Specifically, we will be using the split-apply-combine approach with a few different APIs. In R, we will use:\n",
    "- `bigmemory` for memory mapping the variables: https://cran.r-project.org/web/packages/bigmemory/index.html \n",
    "- `bigtabulate`\n",
    "- `biganalytics`\n",
    "- `doMC`\n",
    "\n",
    "In python, we will also be using a number of different libraries \n",
    "- `pandas`\n",
    "- `numpy`\n",
    "- `graphlab-create`\n",
    "\n",
    "___\n",
    "# 1.0 Downloading the dataset (using python)\n",
    "You can access descriptions of the data files from here: http://stat-computing.org/dataexpo/2009/the-data.html. You can manually download each of the zipped files OR run the following script to download the files into a folder in the same directory as this notebook called \"Data\".\n",
    "\n",
    "In the following blocks of code, we download the data and then decompress the files into .csv files. Each csv contains data for one year of airline flights. \n",
    "\n",
    "\n",
    "Note: If you want an alternative R version for performing the download operations, see:\n",
    "- http://www.cybaea.net/journal/2010/08/05/Big-data-for-R/"
   ]
  },
  {
   "cell_type": "code",
   "execution_count": 1,
   "metadata": {
    "collapsed": false
   },
   "outputs": [
    {
     "name": "stdout",
     "output_type": "stream",
     "text": [
      "/Airline/\n"
     ]
    }
   ],
   "source": [
    "import os, sys\n",
    "# create a Data directory if not done already\n",
    "path = \"/Airline/\"\n",
    "if not os.path.exists(path):\n",
    "    os.mkdir( path, 0755 )\n",
    "print(path)"
   ]
  },
  {
   "cell_type": "code",
   "execution_count": 3,
   "metadata": {
    "collapsed": false,
    "scrolled": true
   },
   "outputs": [
    {
     "name": "stdout",
     "output_type": "stream",
     "text": [
      "Downloading http://stat-computing.org/dataexpo/2009/1987.csv.bz2 to /Airline/1987.csv.bz2\n",
      "Downloading http://stat-computing.org/dataexpo/2009/1988.csv.bz2 to /Airline/1988.csv.bz2\n",
      "Downloading http://stat-computing.org/dataexpo/2009/1989.csv.bz2 to /Airline/1989.csv.bz2\n",
      "Downloading http://stat-computing.org/dataexpo/2009/1990.csv.bz2 to /Airline/1990.csv.bz2\n",
      "Downloading http://stat-computing.org/dataexpo/2009/1991.csv.bz2 to /Airline/1991.csv.bz2\n",
      "Downloading http://stat-computing.org/dataexpo/2009/1992.csv.bz2 to /Airline/1992.csv.bz2\n",
      "Downloading http://stat-computing.org/dataexpo/2009/1993.csv.bz2 to /Airline/1993.csv.bz2\n",
      "Downloading http://stat-computing.org/dataexpo/2009/1994.csv.bz2 to /Airline/1994.csv.bz2\n",
      "Downloading http://stat-computing.org/dataexpo/2009/1995.csv.bz2 to /Airline/1995.csv.bz2\n",
      "Downloading http://stat-computing.org/dataexpo/2009/1996.csv.bz2 to /Airline/1996.csv.bz2\n",
      "Downloading http://stat-computing.org/dataexpo/2009/1997.csv.bz2 to /Airline/1997.csv.bz2\n",
      "Downloading http://stat-computing.org/dataexpo/2009/1998.csv.bz2 to /Airline/1998.csv.bz2\n",
      "Downloading http://stat-computing.org/dataexpo/2009/1999.csv.bz2 to /Airline/1999.csv.bz2\n",
      "Downloading http://stat-computing.org/dataexpo/2009/2000.csv.bz2 to /Airline/2000.csv.bz2\n",
      "Downloading http://stat-computing.org/dataexpo/2009/2001.csv.bz2 to /Airline/2001.csv.bz2\n",
      "Downloading http://stat-computing.org/dataexpo/2009/2002.csv.bz2 to /Airline/2002.csv.bz2\n",
      "Downloading http://stat-computing.org/dataexpo/2009/2003.csv.bz2 to /Airline/2003.csv.bz2\n",
      "Downloading http://stat-computing.org/dataexpo/2009/2004.csv.bz2 to /Airline/2004.csv.bz2\n",
      "Downloading http://stat-computing.org/dataexpo/2009/2005.csv.bz2 to /Airline/2005.csv.bz2\n",
      "Downloading http://stat-computing.org/dataexpo/2009/2006.csv.bz2 to /Airline/2006.csv.bz2\n",
      "Downloading http://stat-computing.org/dataexpo/2009/2007.csv.bz2 to /Airline/2007.csv.bz2\n",
      "Downloading http://stat-computing.org/dataexpo/2009/2008.csv.bz2 to /Airline/2008.csv.bz2\n",
      "['/Airline/1987.csv.bz2', '/Airline/1988.csv.bz2', '/Airline/1989.csv.bz2', '/Airline/1990.csv.bz2', '/Airline/1991.csv.bz2', '/Airline/1992.csv.bz2', '/Airline/1993.csv.bz2', '/Airline/1994.csv.bz2', '/Airline/1995.csv.bz2', '/Airline/1996.csv.bz2', '/Airline/1997.csv.bz2', '/Airline/1998.csv.bz2', '/Airline/1999.csv.bz2', '/Airline/2000.csv.bz2', '/Airline/2001.csv.bz2', '/Airline/2002.csv.bz2', '/Airline/2003.csv.bz2', '/Airline/2004.csv.bz2', '/Airline/2005.csv.bz2', '/Airline/2006.csv.bz2', '/Airline/2007.csv.bz2', '/Airline/2008.csv.bz2']\n"
     ]
    }
   ],
   "source": [
    "import urllib # this is part of the standard library for python\n",
    "#from urllib.request import urlretrieve\n",
    "\n",
    "years_to_download = range(1987,2009) # get the years 1987 through 2008\n",
    "baseurl = 'http://stat-computing.org/dataexpo/2009/%d.csv.bz2' \n",
    "\n",
    "files = []\n",
    "for year in years_to_download:\n",
    "    # prepare strings\n",
    "    url_of_data_file = baseurl%(year) # get the URL for the data file\n",
    "    save_as_filename = path + '%d.csv.bz2'%(year) \n",
    "    # save as this\n",
    "    files += [save_as_filename] # save name of the compressed file\n",
    "    \n",
    "    # download file\n",
    "    print('Downloading %s to %s' % (url_of_data_file, save_as_filename)) # progress update\n",
    "    urllib.urlretrieve(url_of_data_file, save_as_filename) #execute download\n",
    "    \n",
    "print(files)"
   ]
  },
  {
   "cell_type": "code",
   "execution_count": 5,
   "metadata": {
    "collapsed": false
   },
   "outputs": [
    {
     "name": "stdout",
     "output_type": "stream",
     "text": [
      "('Decompressing', '/Airline/1987.csv.bz2', 'to', '/Airline/1987.csv')\n",
      "('Decompressing', '/Airline/1988.csv.bz2', 'to', '/Airline/1988.csv')\n",
      "('Decompressing', '/Airline/1989.csv.bz2', 'to', '/Airline/1989.csv')\n",
      "('Decompressing', '/Airline/1990.csv.bz2', 'to', '/Airline/1990.csv')\n",
      "('Decompressing', '/Airline/1991.csv.bz2', 'to', '/Airline/1991.csv')\n",
      "('Decompressing', '/Airline/1992.csv.bz2', 'to', '/Airline/1992.csv')\n",
      "('Decompressing', '/Airline/1993.csv.bz2', 'to', '/Airline/1993.csv')\n",
      "('Decompressing', '/Airline/1994.csv.bz2', 'to', '/Airline/1994.csv')\n",
      "('Decompressing', '/Airline/1995.csv.bz2', 'to', '/Airline/1995.csv')\n",
      "('Decompressing', '/Airline/1996.csv.bz2', 'to', '/Airline/1996.csv')\n",
      "('Decompressing', '/Airline/1997.csv.bz2', 'to', '/Airline/1997.csv')\n",
      "('Decompressing', '/Airline/1998.csv.bz2', 'to', '/Airline/1998.csv')\n",
      "('Decompressing', '/Airline/1999.csv.bz2', 'to', '/Airline/1999.csv')\n",
      "('Decompressing', '/Airline/2000.csv.bz2', 'to', '/Airline/2000.csv')\n",
      "('Decompressing', '/Airline/2001.csv.bz2', 'to', '/Airline/2001.csv')\n",
      "('Decompressing', '/Airline/2002.csv.bz2', 'to', '/Airline/2002.csv')\n",
      "('Decompressing', '/Airline/2003.csv.bz2', 'to', '/Airline/2003.csv')\n",
      "('Decompressing', '/Airline/2004.csv.bz2', 'to', '/Airline/2004.csv')\n",
      "('Decompressing', '/Airline/2005.csv.bz2', 'to', '/Airline/2005.csv')\n",
      "('Decompressing', '/Airline/2006.csv.bz2', 'to', '/Airline/2006.csv')\n",
      "('Decompressing', '/Airline/2007.csv.bz2', 'to', '/Airline/2007.csv')\n",
      "('Decompressing', '/Airline/2008.csv.bz2', 'to', '/Airline/2008.csv')\n"
     ]
    }
   ],
   "source": [
    "import bz2 # this is also part of the python standard library\n",
    "\n",
    "# Now lets decompress all the files\n",
    "for filename in files:#[path+'2006.csv.bz2',path+'2007.csv.bz2',path+'2008.csv.bz2']:\n",
    "    # get file names\n",
    "    filepath = filename\n",
    "    newfilepath = filename[:-4]\n",
    "    print('Decompressing', filepath,'to', newfilepath)\n",
    "    \n",
    "    # go through the decompressed chunks and write out to a decompressed file\n",
    "    with open(newfilepath, 'wb') as new_file, bz2.BZ2File(filepath, 'rb') as file:\n",
    "        for data in iter(lambda : file.read(100 * 1024), b''):\n",
    "            new_file.write(data)"
   ]
  },
  {
   "cell_type": "markdown",
   "metadata": {},
   "source": [
    "### If you want to delete the compressed files\n",
    "Run the following block ONLY if you want to delets the compressed bz2 files from your system. "
   ]
  },
  {
   "cell_type": "code",
   "execution_count": 4,
   "metadata": {
    "collapsed": true
   },
   "outputs": [],
   "source": [
    "#!rm '/Users/darrenho/MSDSairline/'*.bz2"
   ]
  },
  {
   "cell_type": "markdown",
   "metadata": {},
   "source": [
    "___\n",
    "# 2.0 Loading data into memory\n",
    "Now that the data has downloaded and been decompressed, we can load a single file into memory to ensure that everything decompressed correctly. For each file, we could load it into memory and then save the length of the file. Let's do this in both python and in R for two files (to keep runtime at a minimum). "
   ]
  },
  {
   "cell_type": "code",
   "execution_count": 16,
   "metadata": {
    "collapsed": false
   },
   "outputs": [
    {
     "name": "stdout",
     "output_type": "stream",
     "text": [
      "loading C:\\Users\\cory.adams\\Documents\\SMU\\Courses\\Quantifying the World\\Unit14\\Airplane\\/1987.csv\n",
      "Wall time: 4.16 s\n",
      "loading C:\\Users\\cory.adams\\Documents\\SMU\\Courses\\Quantifying the World\\Unit14\\Airplane\\/1988.csv\n",
      "Wall time: 29.4 s\n",
      "Answer from python: 6513922\n"
     ]
    },
    {
     "data": {
      "text/html": [
       "<div>\n",
       "<table border=\"1\" class=\"dataframe\">\n",
       "  <thead>\n",
       "    <tr style=\"text-align: right;\">\n",
       "      <th></th>\n",
       "      <th>Year</th>\n",
       "      <th>Month</th>\n",
       "      <th>DayofMonth</th>\n",
       "      <th>DayOfWeek</th>\n",
       "      <th>DepTime</th>\n",
       "      <th>CRSDepTime</th>\n",
       "      <th>ArrTime</th>\n",
       "      <th>CRSArrTime</th>\n",
       "      <th>UniqueCarrier</th>\n",
       "      <th>FlightNum</th>\n",
       "      <th>...</th>\n",
       "      <th>TaxiIn</th>\n",
       "      <th>TaxiOut</th>\n",
       "      <th>Cancelled</th>\n",
       "      <th>CancellationCode</th>\n",
       "      <th>Diverted</th>\n",
       "      <th>CarrierDelay</th>\n",
       "      <th>WeatherDelay</th>\n",
       "      <th>NASDelay</th>\n",
       "      <th>SecurityDelay</th>\n",
       "      <th>LateAircraftDelay</th>\n",
       "    </tr>\n",
       "  </thead>\n",
       "  <tbody>\n",
       "    <tr>\n",
       "      <th>0</th>\n",
       "      <td>1988</td>\n",
       "      <td>1</td>\n",
       "      <td>9</td>\n",
       "      <td>6</td>\n",
       "      <td>1348.0</td>\n",
       "      <td>1331</td>\n",
       "      <td>1458.0</td>\n",
       "      <td>1435</td>\n",
       "      <td>PI</td>\n",
       "      <td>942</td>\n",
       "      <td>...</td>\n",
       "      <td>NaN</td>\n",
       "      <td>NaN</td>\n",
       "      <td>0</td>\n",
       "      <td>NaN</td>\n",
       "      <td>0</td>\n",
       "      <td>NaN</td>\n",
       "      <td>NaN</td>\n",
       "      <td>NaN</td>\n",
       "      <td>NaN</td>\n",
       "      <td>NaN</td>\n",
       "    </tr>\n",
       "    <tr>\n",
       "      <th>1</th>\n",
       "      <td>1988</td>\n",
       "      <td>1</td>\n",
       "      <td>10</td>\n",
       "      <td>7</td>\n",
       "      <td>1334.0</td>\n",
       "      <td>1331</td>\n",
       "      <td>1443.0</td>\n",
       "      <td>1435</td>\n",
       "      <td>PI</td>\n",
       "      <td>942</td>\n",
       "      <td>...</td>\n",
       "      <td>NaN</td>\n",
       "      <td>NaN</td>\n",
       "      <td>0</td>\n",
       "      <td>NaN</td>\n",
       "      <td>0</td>\n",
       "      <td>NaN</td>\n",
       "      <td>NaN</td>\n",
       "      <td>NaN</td>\n",
       "      <td>NaN</td>\n",
       "      <td>NaN</td>\n",
       "    </tr>\n",
       "    <tr>\n",
       "      <th>2</th>\n",
       "      <td>1988</td>\n",
       "      <td>1</td>\n",
       "      <td>11</td>\n",
       "      <td>1</td>\n",
       "      <td>1446.0</td>\n",
       "      <td>1331</td>\n",
       "      <td>1553.0</td>\n",
       "      <td>1435</td>\n",
       "      <td>PI</td>\n",
       "      <td>942</td>\n",
       "      <td>...</td>\n",
       "      <td>NaN</td>\n",
       "      <td>NaN</td>\n",
       "      <td>0</td>\n",
       "      <td>NaN</td>\n",
       "      <td>0</td>\n",
       "      <td>NaN</td>\n",
       "      <td>NaN</td>\n",
       "      <td>NaN</td>\n",
       "      <td>NaN</td>\n",
       "      <td>NaN</td>\n",
       "    </tr>\n",
       "    <tr>\n",
       "      <th>3</th>\n",
       "      <td>1988</td>\n",
       "      <td>1</td>\n",
       "      <td>12</td>\n",
       "      <td>2</td>\n",
       "      <td>1334.0</td>\n",
       "      <td>1331</td>\n",
       "      <td>1438.0</td>\n",
       "      <td>1435</td>\n",
       "      <td>PI</td>\n",
       "      <td>942</td>\n",
       "      <td>...</td>\n",
       "      <td>NaN</td>\n",
       "      <td>NaN</td>\n",
       "      <td>0</td>\n",
       "      <td>NaN</td>\n",
       "      <td>0</td>\n",
       "      <td>NaN</td>\n",
       "      <td>NaN</td>\n",
       "      <td>NaN</td>\n",
       "      <td>NaN</td>\n",
       "      <td>NaN</td>\n",
       "    </tr>\n",
       "    <tr>\n",
       "      <th>4</th>\n",
       "      <td>1988</td>\n",
       "      <td>1</td>\n",
       "      <td>13</td>\n",
       "      <td>3</td>\n",
       "      <td>1341.0</td>\n",
       "      <td>1331</td>\n",
       "      <td>1503.0</td>\n",
       "      <td>1435</td>\n",
       "      <td>PI</td>\n",
       "      <td>942</td>\n",
       "      <td>...</td>\n",
       "      <td>NaN</td>\n",
       "      <td>NaN</td>\n",
       "      <td>0</td>\n",
       "      <td>NaN</td>\n",
       "      <td>0</td>\n",
       "      <td>NaN</td>\n",
       "      <td>NaN</td>\n",
       "      <td>NaN</td>\n",
       "      <td>NaN</td>\n",
       "      <td>NaN</td>\n",
       "    </tr>\n",
       "  </tbody>\n",
       "</table>\n",
       "<p>5 rows × 29 columns</p>\n",
       "</div>"
      ],
      "text/plain": [
       "   Year  Month  DayofMonth  DayOfWeek  DepTime  CRSDepTime  ArrTime  \\\n",
       "0  1988      1           9          6   1348.0        1331   1458.0   \n",
       "1  1988      1          10          7   1334.0        1331   1443.0   \n",
       "2  1988      1          11          1   1446.0        1331   1553.0   \n",
       "3  1988      1          12          2   1334.0        1331   1438.0   \n",
       "4  1988      1          13          3   1341.0        1331   1503.0   \n",
       "\n",
       "   CRSArrTime UniqueCarrier  FlightNum        ...          TaxiIn  TaxiOut  \\\n",
       "0        1435            PI        942        ...             NaN      NaN   \n",
       "1        1435            PI        942        ...             NaN      NaN   \n",
       "2        1435            PI        942        ...             NaN      NaN   \n",
       "3        1435            PI        942        ...             NaN      NaN   \n",
       "4        1435            PI        942        ...             NaN      NaN   \n",
       "\n",
       "   Cancelled  CancellationCode  Diverted  CarrierDelay WeatherDelay NASDelay  \\\n",
       "0          0               NaN         0           NaN          NaN      NaN   \n",
       "1          0               NaN         0           NaN          NaN      NaN   \n",
       "2          0               NaN         0           NaN          NaN      NaN   \n",
       "3          0               NaN         0           NaN          NaN      NaN   \n",
       "4          0               NaN         0           NaN          NaN      NaN   \n",
       "\n",
       "   SecurityDelay  LateAircraftDelay  \n",
       "0            NaN                NaN  \n",
       "1            NaN                NaN  \n",
       "2            NaN                NaN  \n",
       "3            NaN                NaN  \n",
       "4            NaN                NaN  \n",
       "\n",
       "[5 rows x 29 columns]"
      ]
     },
     "execution_count": 16,
     "metadata": {},
     "output_type": "execute_result"
    }
   ],
   "source": [
    "# Loading individual files in python\n",
    "import pandas as pd\n",
    "import numpy as np\n",
    "import sys\n",
    "\n",
    "total_length = 0\n",
    "\n",
    "for year in [1987,1988]:\n",
    "    # get file name of the csv\n",
    "    # note that we can also load in the raw .bz2 file in python (or R) \n",
    "    # but the decompression step for these files sizes takes a huge performance hit\n",
    "    csvfile = path+'/%d.csv'%(year)\n",
    "    print('loading', csvfile)\n",
    "    sys.stdout.flush()\n",
    "    \n",
    "    # read the file and increment the lines count\n",
    "    %time df = pd.read_csv(csvfile) # note that this is a big operation, especially since we just want the length\n",
    "    # one way of making this shorter is to filter which columns we are loading\n",
    "    \n",
    "    total_length += len(df)\n",
    "\n",
    "print('Answer from python:', total_length)\n",
    "df.head()"
   ]
  },
  {
   "cell_type": "code",
   "execution_count": 7,
   "metadata": {
    "collapsed": false
   },
   "outputs": [
    {
     "name": "stdout",
     "output_type": "stream",
     "text": [
      "CSV File Format\n",
      "Year,Month,DayofMonth,DayOfWeek,DepTime,CRSDepTime,ArrTime,CRSArrTime,UniqueCarrier,FlightNum,TailNum,ActualElapsedTime,CRSElapsedTime,AirTime,ArrDelay,DepDelay,Origin,Dest,Distance,TaxiIn,TaxiOut,Cancelled,CancellationCode,Diverted,CarrierDelay,WeatherDelay,NASDelay,SecurityDelay,LateAircraftDelay\r\n",
      "1987,10,14,3,741,730,912,849,PS,1451,NA,91,79,NA,23,11,SAN,SFO,447,NA,NA,0,NA,0,NA,NA,NA,NA,NA\r\n",
      "1987,10,15,4,729,730,903,849,PS,1451,NA,94,79,NA,14,-1,SAN,SFO,447,NA,NA,0,NA,0,NA,NA,NA,NA,NA\r\n",
      "1987,10,17,6,741,730,918,849,PS,1451,NA,97,79,NA,29,11,SAN,SFO,447,NA,NA,0,NA,0,NA,NA,NA,NA,NA\r\n",
      "1987,10,18,7,729,730,847,849,PS,1451,NA,78,79,NA,-2,-1,SAN,SFO,447,NA,NA,0,NA,0,NA,NA,NA,NA,NA\r\n",
      "1987,10,19,1,749,730,922,849,PS,1451,NA,93,79,NA,33,19,SAN,SFO,447,NA,NA,0,NA,0,NA,NA,NA,NA,NA\r\n",
      "1987,10,21,3,728,730,848,849,PS,1451,NA,80,79,NA,-1,-2,SAN,SFO,447,NA,NA,0,NA,0,NA,NA,NA,NA,NA\r\n",
      "1987,10,22,4,728,730,852,849,PS,1451,NA,84,79,NA,3,-2,SAN,SFO,447,NA,NA,0,NA,0,NA,NA,NA,NA,NA\r\n",
      "1987,10,23,5,731,730,902,849,PS,1451,NA,91,79,NA,13,1,SAN,SFO,447,NA,NA,0,NA,0,NA,NA,NA,NA,NA\r\n",
      "1987,10,24,6,744,730,908,849,PS,1451,NA,84,79,NA,19,14,SAN,SFO,447,NA,NA,0,NA,0,NA,NA,NA,NA,NA\r\n"
     ]
    }
   ],
   "source": [
    "print('CSV File Format')\n",
    "!head '/Airline/1987.csv'"
   ]
  },
  {
   "cell_type": "markdown",
   "metadata": {},
   "source": [
    "___\n",
    "So now we can see that there were about 6.5M different entries in the years 1987 and 1988. However, we really want to be working with one really large descriptor of all years, rather than loading up each year from disc each time. Actually, the operations we had above are much more appropriate for a SQL query, but they are not quite as scalable for some of the other analyses that we want to do later on. \n",
    "\n",
    "The python code is noticeably faster at loading in the data, so let's use python to pre-process the csv files and make sure all the data is an integer. All the text data must be coded as numeric (an integer) when we use R's big memory package, so lets go file by file and make sure its ready to use with R.\n",
    "\n",
    "\n",
    "## 2.1 Preprocessing Data in Chunks\n",
    "In order to replace all the strings in the data frame, we first need to know exactly all the unique strings contained in each column. The first block takes a pass on all the data and finds all the unique string entries in the entire dataset. This means loading all the data files in one pass and concatenating the unique entries into a data structure. I have chosen to use a dictionary as the data structure with the name of each key in the dictionary being the column name of the variable we want to convert to an integer. The value of the key is a `set` of strings. \n",
    "\n",
    "Once we have this dataset, we can then replace the unique values properly (we will need to load the data files again!!). We can then replace the values with an integer. After replacing them, we can resave the data frame as a csv. Phew!\n",
    "\n",
    "Please note that the runtime of these blocks aggregates to ~60 minutes (or more) depending on your system. If you want an alternative implementation using R only, please see:\n",
    "- http://www.cybaea.net/journal/2010/08/05/Big-data-for-R/"
   ]
  },
  {
   "cell_type": "code",
   "execution_count": 23,
   "metadata": {
    "collapsed": false
   },
   "outputs": [
    {
     "name": "stdout",
     "output_type": "stream",
     "text": [
      "loading C:\\Users\\cory.adams\\Documents\\SMU\\Courses\\Quantifying the World\\Unit14\\Airplane\\1987.csv\n",
      "...finding unique values\n",
      "UniqueCarrier\n",
      "TailNum\n",
      "Origin\n",
      "Dest\n",
      "CancellationCode\n",
      "...finished, 4.80 seconds\n",
      "loading C:\\Users\\cory.adams\\Documents\\SMU\\Courses\\Quantifying the World\\Unit14\\Airplane\\1988.csv\n",
      "...finding unique values\n",
      "UniqueCarrier\n",
      "TailNum\n",
      "Origin\n",
      "Dest\n",
      "CancellationCode\n",
      "...finished, 18.48 seconds\n",
      "loading C:\\Users\\cory.adams\\Documents\\SMU\\Courses\\Quantifying the World\\Unit14\\Airplane\\1989.csv\n",
      "...finding unique values\n",
      "UniqueCarrier\n",
      "TailNum\n",
      "Origin\n",
      "Dest\n",
      "CancellationCode\n",
      "...finished, 17.46 seconds\n",
      "loading C:\\Users\\cory.adams\\Documents\\SMU\\Courses\\Quantifying the World\\Unit14\\Airplane\\1990.csv\n",
      "...finding unique values\n",
      "UniqueCarrier\n",
      "TailNum\n",
      "Origin\n",
      "Dest\n",
      "CancellationCode\n",
      "...finished, 19.44 seconds\n",
      "loading C:\\Users\\cory.adams\\Documents\\SMU\\Courses\\Quantifying the World\\Unit14\\Airplane\\1991.csv\n",
      "...finding unique values\n",
      "UniqueCarrier\n",
      "TailNum\n",
      "Origin\n",
      "Dest\n",
      "CancellationCode\n",
      "...finished, 17.77 seconds\n",
      "loading C:\\Users\\cory.adams\\Documents\\SMU\\Courses\\Quantifying the World\\Unit14\\Airplane\\1992.csv\n",
      "...finding unique values\n",
      "UniqueCarrier\n",
      "TailNum\n",
      "Origin\n",
      "Dest\n",
      "CancellationCode\n",
      "...finished, 18.85 seconds\n",
      "loading C:\\Users\\cory.adams\\Documents\\SMU\\Courses\\Quantifying the World\\Unit14\\Airplane\\1993.csv\n",
      "...finding unique values\n",
      "UniqueCarrier\n",
      "TailNum\n",
      "Origin\n",
      "Dest\n",
      "CancellationCode\n",
      "...finished, 20.64 seconds\n",
      "loading C:\\Users\\cory.adams\\Documents\\SMU\\Courses\\Quantifying the World\\Unit14\\Airplane\\1994.csv\n",
      "...finding unique values\n",
      "UniqueCarrier\n",
      "TailNum\n",
      "Origin\n",
      "Dest\n",
      "CancellationCode\n",
      "...finished, 19.97 seconds\n",
      "loading C:\\Users\\cory.adams\\Documents\\SMU\\Courses\\Quantifying the World\\Unit14\\Airplane\\1995.csv\n",
      "...finding unique values\n",
      "UniqueCarrier\n",
      "TailNum\n",
      "Origin\n",
      "Dest\n",
      "CancellationCode\n",
      "...finished, 19.45 seconds\n",
      "loading C:\\Users\\cory.adams\\Documents\\SMU\\Courses\\Quantifying the World\\Unit14\\Airplane\\1996.csv\n",
      "...finding unique values\n",
      "UniqueCarrier\n",
      "TailNum\n",
      "Origin\n",
      "Dest\n",
      "CancellationCode\n",
      "...finished, 19.24 seconds\n",
      "loading C:\\Users\\cory.adams\\Documents\\SMU\\Courses\\Quantifying the World\\Unit14\\Airplane\\1997.csv\n",
      "...finding unique values\n",
      "UniqueCarrier\n",
      "TailNum\n",
      "Origin\n",
      "Dest\n",
      "CancellationCode\n",
      "...finished, 18.41 seconds\n",
      "loading C:\\Users\\cory.adams\\Documents\\SMU\\Courses\\Quantifying the World\\Unit14\\Airplane\\1998.csv\n",
      "...finding unique values\n",
      "UniqueCarrier\n",
      "TailNum\n",
      "Origin\n",
      "Dest\n",
      "CancellationCode\n",
      "...finished, 21.03 seconds\n",
      "loading C:\\Users\\cory.adams\\Documents\\SMU\\Courses\\Quantifying the World\\Unit14\\Airplane\\1999.csv\n",
      "...finding unique values\n",
      "UniqueCarrier\n",
      "TailNum\n",
      "Origin\n",
      "Dest\n",
      "CancellationCode\n",
      "...finished, 21.43 seconds\n",
      "loading C:\\Users\\cory.adams\\Documents\\SMU\\Courses\\Quantifying the World\\Unit14\\Airplane\\2000.csv\n",
      "...finding unique values\n",
      "UniqueCarrier\n",
      "TailNum\n",
      "Origin\n",
      "Dest\n",
      "CancellationCode\n",
      "...finished, 20.12 seconds\n",
      "loading C:\\Users\\cory.adams\\Documents\\SMU\\Courses\\Quantifying the World\\Unit14\\Airplane\\2001.csv\n",
      "...finding unique values\n",
      "UniqueCarrier\n",
      "TailNum\n",
      "Origin\n",
      "Dest\n",
      "CancellationCode\n",
      "...finished, 19.72 seconds\n",
      "loading C:\\Users\\cory.adams\\Documents\\SMU\\Courses\\Quantifying the World\\Unit14\\Airplane\\2002.csv\n",
      "...finding unique values\n",
      "UniqueCarrier\n",
      "TailNum\n",
      "Origin\n",
      "Dest\n",
      "CancellationCode\n",
      "...finished, 18.66 seconds\n",
      "loading C:\\Users\\cory.adams\\Documents\\SMU\\Courses\\Quantifying the World\\Unit14\\Airplane\\2003.csv\n",
      "...finding unique values\n"
     ]
    },
    {
     "name": "stderr",
     "output_type": "stream",
     "text": [
      "C:\\Program Files\\Anaconda3\\lib\\site-packages\\IPython\\core\\interactiveshell.py:2717: DtypeWarning: Columns (22) have mixed types. Specify dtype option on import or set low_memory=False.\n",
      "  interactivity=interactivity, compiler=compiler, result=result)\n"
     ]
    },
    {
     "name": "stdout",
     "output_type": "stream",
     "text": [
      "UniqueCarrier\n",
      "TailNum\n",
      "Origin\n",
      "Dest\n",
      "CancellationCode\n",
      "...finished, 23.25 seconds\n",
      "loading C:\\Users\\cory.adams\\Documents\\SMU\\Courses\\Quantifying the World\\Unit14\\Airplane\\2004.csv\n",
      "...finding unique values\n",
      "UniqueCarrier\n",
      "TailNum\n",
      "Origin\n",
      "Dest\n",
      "CancellationCode\n",
      "...finished, 32.29 seconds\n",
      "loading C:\\Users\\cory.adams\\Documents\\SMU\\Courses\\Quantifying the World\\Unit14\\Airplane\\2005.csv\n",
      "...finding unique values\n",
      "UniqueCarrier\n",
      "TailNum\n",
      "Origin\n",
      "Dest\n",
      "CancellationCode\n",
      "...finished, 26.83 seconds\n",
      "loading C:\\Users\\cory.adams\\Documents\\SMU\\Courses\\Quantifying the World\\Unit14\\Airplane\\2006.csv\n",
      "...finding unique values\n",
      "UniqueCarrier\n",
      "TailNum\n",
      "Origin\n",
      "Dest\n",
      "CancellationCode\n",
      "...finished, 23.51 seconds\n",
      "loading C:\\Users\\cory.adams\\Documents\\SMU\\Courses\\Quantifying the World\\Unit14\\Airplane\\2007.csv\n",
      "...finding unique values\n",
      "UniqueCarrier\n",
      "TailNum\n",
      "Origin\n",
      "Dest\n",
      "CancellationCode\n",
      "...finished, 25.38 seconds\n",
      "loading C:\\Users\\cory.adams\\Documents\\SMU\\Courses\\Quantifying the World\\Unit14\\Airplane\\2008.csv\n",
      "...finding unique values\n",
      "UniqueCarrier\n",
      "TailNum\n",
      "Origin\n",
      "Dest\n",
      "CancellationCode\n",
      "...finished, 24.09 seconds\n"
     ]
    }
   ],
   "source": [
    "# In this data, there are multiple variables that are objects\n",
    "# these need to be appropriately converted to numbers (integers) \n",
    "# To do this, we must know the unique values in each of the columns, let's do this first\n",
    "import pandas as pd\n",
    "import numpy as np\n",
    "import sys\n",
    "import time\n",
    "# cPickle is standard on 2.x\n",
    "import cPickle as pickle\n",
    "# _pickle works on Python 3.x\n",
    "#import _pickle as pickle\n",
    "\n",
    "unique_values = {} # create an empty dictionary of the column name an the unique values in it\n",
    "for year in range(1987,2009):\n",
    "    t = time.time()\n",
    "    # get file name of the csv\n",
    "    csvfile = path+'%d.csv'%(year)\n",
    "    print('loading',csvfile,)\n",
    "    sys.stdout.flush()\n",
    "    \n",
    "    # read the file\n",
    "    df = pd.read_csv(csvfile,usecols=['Origin', 'Dest', 'UniqueCarrier','TailNum','CancellationCode'], encoding='cp1252') \n",
    "    #df = df.select_dtypes(exclude=['float64','int64']) # grab only the non-numeric data\n",
    "    \n",
    "    print('...finding unique values',)\n",
    "    sys.stdout.flush()\n",
    "    \n",
    "    for col in df.columns:\n",
    "        print(col)\n",
    "        # check to see if we have seen this column before\n",
    "        s = set(df[col].values.astype(np.str))\n",
    "        if col not in unique_values:\n",
    "            # if not, then create a key with the unique values for that column in it\n",
    "            unique_values[col] = s\n",
    "        else:\n",
    "            # otherwise make sure that the remaining columns are unique\n",
    "            unique_values[col] |= s\n",
    "            \n",
    "    print('...finished, %.2f seconds'%(time.time()-t))\n",
    "    sys.stdout.flush()\n",
    "    del df\n",
    "\n",
    "# Save out the dictionary for later use\n",
    "pickle.dump( unique_values, open( path+'unique_mapping.p', \"wb\" ) )"
   ]
  },
  {
   "cell_type": "code",
   "execution_count": 25,
   "metadata": {
    "collapsed": false
   },
   "outputs": [
    {
     "name": "stdout",
     "output_type": "stream",
     "text": [
      "dict_keys(['UniqueCarrier', 'TailNum', 'Origin', 'Dest', 'CancellationCode'])\n",
      "Cancellation Code: {'D', 'B', 'C', 'nan', 'A'}\n",
      "UniqueCarrier: {'TZ', '9E', 'NW', 'F9', 'B6', 'AS', 'HP', 'DL', 'OO', 'XE', 'DH', 'FL', 'UA', 'TW', 'PS', 'CO', 'AQ', 'MQ', 'OH', 'EV', 'WN', 'PI', 'HA', 'ML (1)', 'EA', 'YV', 'PA (1)', 'AA', 'US'}\n"
     ]
    }
   ],
   "source": [
    "# let's take a look at the dictionary\n",
    "print(unique_values.keys())\n",
    "print('Cancellation Code:',unique_values['CancellationCode'])\n",
    "print('UniqueCarrier:',unique_values['UniqueCarrier'])"
   ]
  },
  {
   "cell_type": "code",
   "execution_count": 28,
   "metadata": {
    "collapsed": false
   },
   "outputs": [
    {
     "name": "stdout",
     "output_type": "stream",
     "text": [
      "Running... C:\\Users\\cory.adams\\Documents\\SMU\\Courses\\Quantifying the World\\Unit14\\Airplane\\1987.csv\n",
      "loaded, ...replacing values\n",
      "Uniq\n",
      "Tail\n",
      "Orig\n",
      "Dest\n",
      "Canc\n",
      "...\n",
      "writing\n",
      ", 60.25 sec.\n",
      "Running... C:\\Users\\cory.adams\\Documents\\SMU\\Courses\\Quantifying the World\\Unit14\\Airplane\\1988.csv\n",
      "loaded, ...replacing values\n",
      "Uniq\n",
      "Tail\n",
      "Orig\n",
      "Dest\n",
      "Canc\n",
      "...\n",
      "writing\n",
      ", 225.91 sec.\n",
      "Running... C:\\Users\\cory.adams\\Documents\\SMU\\Courses\\Quantifying the World\\Unit14\\Airplane\\1989.csv\n",
      "loaded, ...replacing values\n",
      "Uniq\n",
      "Tail\n",
      "Orig\n",
      "Dest\n",
      "Canc\n",
      "...\n",
      "writing\n",
      ", 212.50 sec.\n",
      "Running... C:\\Users\\cory.adams\\Documents\\SMU\\Courses\\Quantifying the World\\Unit14\\Airplane\\1990.csv\n",
      "loaded, ...replacing values\n",
      "Uniq\n",
      "Tail\n",
      "Orig\n",
      "Dest\n",
      "Canc\n",
      "...\n",
      "writing\n",
      ", 228.50 sec.\n",
      "Running... C:\\Users\\cory.adams\\Documents\\SMU\\Courses\\Quantifying the World\\Unit14\\Airplane\\1991.csv\n",
      "loaded, ...replacing values\n",
      "Uniq\n",
      "Tail\n",
      "Orig\n",
      "Dest\n",
      "Canc\n",
      "...\n",
      "writing\n",
      ", 216.11 sec.\n",
      "Running... C:\\Users\\cory.adams\\Documents\\SMU\\Courses\\Quantifying the World\\Unit14\\Airplane\\1992.csv\n",
      "loaded, ...replacing values\n",
      "Uniq\n",
      "Tail\n",
      "Orig\n",
      "Dest\n",
      "Canc\n",
      "...\n",
      "writing\n",
      ", 231.17 sec.\n",
      "Running... C:\\Users\\cory.adams\\Documents\\SMU\\Courses\\Quantifying the World\\Unit14\\Airplane\\1993.csv\n",
      "loaded, ...replacing values\n",
      "Uniq\n",
      "Tail\n",
      "Orig\n",
      "Dest\n",
      "Canc\n",
      "...\n",
      "writing\n",
      ", 216.28 sec.\n",
      "Running... C:\\Users\\cory.adams\\Documents\\SMU\\Courses\\Quantifying the World\\Unit14\\Airplane\\1994.csv\n",
      "loaded, ...replacing values\n",
      "Uniq\n",
      "Tail\n",
      "Orig\n",
      "Dest\n",
      "Canc\n",
      "...\n",
      "writing\n",
      ", 224.60 sec.\n",
      "Running... C:\\Users\\cory.adams\\Documents\\SMU\\Courses\\Quantifying the World\\Unit14\\Airplane\\1995.csv\n",
      "loaded, ...replacing values\n",
      "Uniq\n",
      "Tail\n",
      "Orig\n",
      "Dest\n",
      "Canc\n",
      "...\n",
      "writing\n",
      ", 269.51 sec.\n",
      "Running... C:\\Users\\cory.adams\\Documents\\SMU\\Courses\\Quantifying the World\\Unit14\\Airplane\\1996.csv\n",
      "loaded, ...replacing values\n",
      "Uniq\n",
      "Tail\n",
      "Orig\n",
      "Dest\n",
      "Canc\n",
      "...\n",
      "writing\n",
      ", 273.12 sec.\n",
      "Running... C:\\Users\\cory.adams\\Documents\\SMU\\Courses\\Quantifying the World\\Unit14\\Airplane\\1997.csv\n",
      "loaded, ...replacing values\n",
      "Uniq\n",
      "Tail\n",
      "Orig\n",
      "Dest\n",
      "Canc\n",
      "...\n",
      "writing\n",
      ", 273.63 sec.\n",
      "Running... C:\\Users\\cory.adams\\Documents\\SMU\\Courses\\Quantifying the World\\Unit14\\Airplane\\1998.csv\n",
      "loaded, ...replacing values\n",
      "Uniq\n",
      "Tail\n",
      "Orig\n",
      "Dest\n",
      "Canc\n",
      "...\n",
      "writing\n",
      ", 286.19 sec.\n",
      "Running... C:\\Users\\cory.adams\\Documents\\SMU\\Courses\\Quantifying the World\\Unit14\\Airplane\\1999.csv\n",
      "loaded, ...replacing values\n",
      "Uniq\n",
      "Tail\n",
      "Orig\n",
      "Dest\n",
      "Canc\n",
      "...\n",
      "writing\n",
      ", 284.50 sec.\n",
      "Running... C:\\Users\\cory.adams\\Documents\\SMU\\Courses\\Quantifying the World\\Unit14\\Airplane\\2000.csv\n",
      "loaded, ...replacing values\n",
      "Uniq\n",
      "Tail\n",
      "Orig\n",
      "Dest\n",
      "Canc\n",
      "...\n",
      "writing\n",
      ", 290.78 sec.\n",
      "Running... C:\\Users\\cory.adams\\Documents\\SMU\\Courses\\Quantifying the World\\Unit14\\Airplane\\2001.csv\n",
      "loaded, ...replacing values\n",
      "Uniq\n",
      "Tail\n",
      "Orig\n",
      "Dest\n",
      "Canc\n",
      "...\n",
      "writing\n",
      ", 394.64 sec.\n",
      "Running... C:\\Users\\cory.adams\\Documents\\SMU\\Courses\\Quantifying the World\\Unit14\\Airplane\\2002.csv\n",
      "loaded, ...replacing values\n",
      "Uniq\n",
      "Tail\n",
      "Orig\n",
      "Dest\n",
      "Canc\n",
      "...\n",
      "writing\n",
      ", 288.47 sec.\n",
      "Running... C:\\Users\\cory.adams\\Documents\\SMU\\Courses\\Quantifying the World\\Unit14\\Airplane\\2003.csv\n"
     ]
    },
    {
     "name": "stderr",
     "output_type": "stream",
     "text": [
      "C:\\Program Files\\Anaconda3\\lib\\site-packages\\IPython\\core\\interactiveshell.py:2717: DtypeWarning: Columns (22) have mixed types. Specify dtype option on import or set low_memory=False.\n",
      "  interactivity=interactivity, compiler=compiler, result=result)\n"
     ]
    },
    {
     "name": "stdout",
     "output_type": "stream",
     "text": [
      "loaded, ...replacing values\n",
      "Uniq\n",
      "Tail\n",
      "Orig\n",
      "Dest\n",
      "Canc\n",
      "...\n",
      "writing\n",
      ", 339.14 sec.\n",
      "Running... C:\\Users\\cory.adams\\Documents\\SMU\\Courses\\Quantifying the World\\Unit14\\Airplane\\2004.csv\n",
      "loaded, ...replacing values\n",
      "Uniq\n",
      "Tail\n",
      "Orig\n",
      "Dest\n",
      "Canc\n",
      "...\n",
      "writing\n",
      ", 395.25 sec.\n",
      "Running... C:\\Users\\cory.adams\\Documents\\SMU\\Courses\\Quantifying the World\\Unit14\\Airplane\\2005.csv\n",
      "loaded, ...replacing values\n",
      "Uniq\n",
      "Tail\n",
      "Orig\n",
      "Dest\n",
      "Canc\n",
      "...\n",
      "writing\n",
      ", 394.02 sec.\n",
      "Running... C:\\Users\\cory.adams\\Documents\\SMU\\Courses\\Quantifying the World\\Unit14\\Airplane\\2006.csv\n",
      "loaded, ...replacing values\n",
      "Uniq\n",
      "Tail\n",
      "Orig\n",
      "Dest\n",
      "Canc\n",
      "...\n",
      "writing\n",
      ", 391.31 sec.\n",
      "Running... C:\\Users\\cory.adams\\Documents\\SMU\\Courses\\Quantifying the World\\Unit14\\Airplane\\2007.csv\n",
      "loaded, ...replacing values\n",
      "Uniq\n",
      "Tail\n",
      "Orig\n",
      "Dest\n",
      "Canc\n",
      "...\n",
      "writing\n",
      ", 415.45 sec.\n",
      "Running... C:\\Users\\cory.adams\\Documents\\SMU\\Courses\\Quantifying the World\\Unit14\\Airplane\\2008.csv\n",
      "loaded, ...replacing values\n",
      "Uniq\n",
      "Tail\n",
      "Orig\n",
      "Dest\n",
      "Canc\n",
      "...\n",
      "writing\n",
      ", 358.91 sec.\n",
      "closing file\n",
      "...Done\n"
     ]
    }
   ],
   "source": [
    "def fast_numpy_replace(np_vector,replace_set):\n",
    "    # you can look at this function at your leisure, but essentially we use fast set \n",
    "    # comparison to try and speed up the analysis\n",
    "    replace_set = np.array(list(replace_set)) # get \"possible values\" as a numpy array\n",
    "    n = np.ndarray(np_vector.shape).astype(np.float64) # fill in this matrix\n",
    "    \n",
    "    vector_as_set,idx_back = np.unique(np_vector,return_inverse=True) # get the unique indices and locations\n",
    "    \n",
    "    # now loop through the unique values for this dataset\n",
    "    for idx,val in enumerate(vector_as_set):\n",
    "        # find what number this should be (like a hash)\n",
    "        category_num = np.nonzero(replace_set == val)[0][0]\n",
    "        n[idx_back==idx] = category_num # set the values as this category, vectorize for speed\n",
    "        \n",
    "    return n.astype(np.float64)\n",
    "    \n",
    "fileHandle = open(path+'AirlineDataAll.csv', 'w') # open and replace if needed\n",
    "years = range(1987,2009)\n",
    "for year in years:\n",
    "    t = time.time()\n",
    "    \n",
    "    # get file name of the csv\n",
    "    csvfile = path+'%d.csv'%(year)\n",
    "    print('Running...',csvfile,)\n",
    "    sys.stdout.flush()\n",
    "    \n",
    "    # read the file\n",
    "    df = pd.read_csv(csvfile, encoding='cp1252') \n",
    "    \n",
    "    print('loaded, ...replacing values',)\n",
    "    sys.stdout.flush()\n",
    "        \n",
    "    # now replace the matching columnar data with the proper number category\n",
    "    for key in unique_values.keys():\n",
    "        if key in df:\n",
    "            print(key[0:4],)\n",
    "            sys.stdout.flush()\n",
    "            tmp = df[key].values.astype(np.str)\n",
    "            df[key] = fast_numpy_replace(tmp,unique_values[key])\n",
    "     \n",
    "    print('...',)\n",
    "    sys.stdout.flush()\n",
    "    \n",
    "    for col in df:\n",
    "        df[col] = np.round(df[col].astype(np.float64)) # use floats to keep the nan's inline with numpy representation\n",
    "    \n",
    "    print('writing',)\n",
    "    sys.stdout.flush()\n",
    "    \n",
    "    # these lines make one large file with the numeric data\n",
    "    # it also solves a problem with pandas closing the file that takes an inordinate amount of time\n",
    "    # NOTE: using binary here would be a huge speedup, but I am not sure about the binary structure of the \n",
    "    # backing file for bigmatrix, so we stick with CSV\n",
    "    # TODO: find out if the backing file is just a dump of the c struct to file\n",
    "    if year==years[0]:\n",
    "        df.to_csv(fileHandle,index=False, index_label=False, na_rep=\"NA\",float_format='%.0f')\n",
    "    else:\n",
    "        df.to_csv(fileHandle, mode='a', header=False, index=False, index_label=False,  na_rep=\"NA\", float_format='%.0f')\n",
    "        \n",
    "    print(', %.2f sec.'%(time.time()-t))\n",
    "    del df\n",
    "\n",
    "print('closing file',)\n",
    "sys.stdout.flush()\n",
    "\n",
    "fileHandle.close()\n",
    "print('...Done')"
   ]
  },
  {
   "cell_type": "code",
   "execution_count": 29,
   "metadata": {
    "collapsed": false
   },
   "outputs": [
    {
     "name": "stdout",
     "output_type": "stream",
     "text": [
      "New File Format:\n",
      "\n",
      "Old File Format\n"
     ]
    },
    {
     "name": "stderr",
     "output_type": "stream",
     "text": [
      "'head' is not recognized as an internal or external command,\n",
      "operable program or batch file.\n",
      "'head' is not recognized as an internal or external command,\n",
      "operable program or batch file.\n"
     ]
    }
   ],
   "source": [
    "# now lets take a look to see what has actually changed in the file\n",
    "# let's load the head of 1987 and the big CSV file to see how they compare\n",
    "\n",
    "#this will fail for Windows, not supported\n",
    "print('New File Format:')\n",
    "!head path+'AirlineDataAll.csv'\n",
    "print('')\n",
    "print('Old File Format')\n",
    "!head path+'2008.csv'"
   ]
  },
  {
   "cell_type": "code",
   "execution_count": 32,
   "metadata": {
    "collapsed": false
   },
   "outputs": [
    {
     "name": "stdout",
     "output_type": "stream",
     "text": [
      "New File Format:\n",
      "\n",
      "Old File Format:\n"
     ]
    },
    {
     "name": "stderr",
     "output_type": "stream",
     "text": [
      "'tail' is not recognized as an internal or external command,\n",
      "operable program or batch file.\n",
      "'tail' is not recognized as an internal or external command,\n",
      "operable program or batch file.\n"
     ]
    }
   ],
   "source": [
    "# let's now look at the tail of our big dataset and the tail of the 2008 file\n",
    "# do they compare nicely?\n",
    "\n",
    "#this will fail for Windows, not supported\n",
    "print('New File Format:')\n",
    "!tail path+'AirlineDataAll.csv'\n",
    "print('')\n",
    "print('Old File Format:')\n",
    "!tail path+'2008.csv'"
   ]
  },
  {
   "cell_type": "markdown",
   "metadata": {},
   "source": [
    "___\n",
    "In the above code, we also created a large file with all the data from every year inside of it. This is now saved as `AirlineDataAll`. Let's take a look at it."
   ]
  },
  {
   "cell_type": "code",
   "execution_count": 33,
   "metadata": {
    "collapsed": false
   },
   "outputs": [
    {
     "name": "stderr",
     "output_type": "stream",
     "text": [
      "'ls' is not recognized as an internal or external command,\n",
      "operable program or batch file.\n"
     ]
    }
   ],
   "source": [
    "#Windows does't have ls command\n",
    "!ls -all path *All.csv "
   ]
  },
  {
   "cell_type": "markdown",
   "metadata": {},
   "source": [
    "\n",
    "___\n",
    "# 4.0 Analyzing the data using only Python\n",
    "Now let's analyze the data using graphlab create (from the company Dato). As you have seen before, the graphlab-create API uses something called a scalable data frame (or SFrame) that handles all of the out-of-core memory management for you. It is by far one of the most optimized tools for handling table data out-of-core. Really. With that said, lets also give a list of what to expect:\n",
    "- Loading and saving large amounts of data will be very fast\n",
    "- Manipulating and adding columns is not much overhead, as everything is saved piece meal\n",
    "- Parallelization is mostly handled for you in the background\n",
    "- Operations are 'queued up' before execution, so that they can be simplified and parallelized (if possible and easy)\n",
    "- However, there will be slightly less flexibility in the split-apply-combine technique\n",
    " - We need to use premade aggregation function from Dato's API \n",
    " - That means we can't just write a custom function to work in parallel on the different groups (like in R)\n",
    " - But we can concatenate operations to perform rich analysis (albeit not using standard python syntax)\n",
    " - In my opinion, this is the biggest downside (that custom aggregators cannot be built), but future version of graphlab might start to support this\n",
    "- Grouping and applying cannot be separated from each other \n",
    " - This is because of the queueing of operations, grouping does not happen until absolutely neccessary \n",
    " - This also optimizes the memory management, which can be a huge time savings\n",
    "- We CAN write custom apply functions that work on each row of data (just not the grouped splits)\n",
    "- At the time of writing this, graphlab is only supported for python 2.7 (ouch!)\n",
    " - This is unfortunate because graphlab is the only reason I am not updating to python 3 ...\n",
    "- Support on windows is really good, but mac/linux is slightly better.\n",
    " - This is especially true when using Dato's numpy extensions (which only works on mac/linux)\n",
    " - And the extensions make numpy operations completely usable out-of-core, with many operations optimized for sequential access (slightly more optimized than Numpy's builtin memmap)\n",
    "\n",
    "\n",
    "## 4.1 Loading 12GB of Data in Python\n",
    "Alright, then. Let's load up graphlab in order to get an idea about the power of this tool and what the syntax looks like."
   ]
  },
  {
   "cell_type": "code",
   "execution_count": 1,
   "metadata": {
    "collapsed": false
   },
   "outputs": [],
   "source": [
    "#pip install graphlab-create\n",
    "#pip install graphlab-create --upgrade\n",
    "#conda install -c graphlab-create\n",
    "\n",
    "import graphlab as gl"
   ]
  },
  {
   "cell_type": "code",
   "execution_count": 55,
   "metadata": {
    "collapsed": false
   },
   "outputs": [
    {
     "name": "stdout",
     "output_type": "stream",
     "text": [
      "This non-commercial license of GraphLab Create for academic use is assigned to dhomrighausen@smu.edu and will expire on November 30, 2017.\n"
     ]
    },
    {
     "name": "stderr",
     "output_type": "stream",
     "text": [
      "[INFO] graphlab.cython.cy_server: GraphLab Create v2.1 started. Logging: /tmp/graphlab_server_1480542316.log\n"
     ]
    },
    {
     "data": {
      "text/html": [
       "<pre>Finished parsing file /Users/darrenho/MSDSairline/AirlineDataAll.csv</pre>"
      ],
      "text/plain": [
       "Finished parsing file /Users/darrenho/MSDSairline/AirlineDataAll.csv"
      ]
     },
     "metadata": {},
     "output_type": "display_data"
    },
    {
     "data": {
      "text/html": [
       "<pre>Parsing completed. Parsed 100 lines in 2.03185 secs.</pre>"
      ],
      "text/plain": [
       "Parsing completed. Parsed 100 lines in 2.03185 secs."
      ]
     },
     "metadata": {},
     "output_type": "display_data"
    },
    {
     "name": "stdout",
     "output_type": "stream",
     "text": [
      "------------------------------------------------------\n",
      "Inferred types from first 100 line(s) of file as \n",
      "column_type_hints=[int,int,int,int,int,int,int,int,int,int,int,int,int,str,int,int,int,int,int,str,str,int,int,int,str,str,str,str,str]\n",
      "If parsing fails due to incorrect types, you can correct\n",
      "the inferred type list above and pass it to read_csv in\n",
      "the column_type_hints argument\n",
      "------------------------------------------------------\n"
     ]
    },
    {
     "data": {
      "text/html": [
       "<pre>Read 541148 lines. Lines per second: 219029</pre>"
      ],
      "text/plain": [
       "Read 541148 lines. Lines per second: 219029"
      ]
     },
     "metadata": {},
     "output_type": "display_data"
    },
    {
     "data": {
      "text/html": [
       "<pre>Read 2719289 lines. Lines per second: 346144</pre>"
      ],
      "text/plain": [
       "Read 2719289 lines. Lines per second: 346144"
      ]
     },
     "metadata": {},
     "output_type": "display_data"
    },
    {
     "data": {
      "text/html": [
       "<pre>Read 4903426 lines. Lines per second: 366955</pre>"
      ],
      "text/plain": [
       "Read 4903426 lines. Lines per second: 366955"
      ]
     },
     "metadata": {},
     "output_type": "display_data"
    },
    {
     "data": {
      "text/html": [
       "<pre>Read 6526272 lines. Lines per second: 340639</pre>"
      ],
      "text/plain": [
       "Read 6526272 lines. Lines per second: 340639"
      ]
     },
     "metadata": {},
     "output_type": "display_data"
    },
    {
     "data": {
      "text/html": [
       "<pre>Read 8162533 lines. Lines per second: 337447</pre>"
      ],
      "text/plain": [
       "Read 8162533 lines. Lines per second: 337447"
      ]
     },
     "metadata": {},
     "output_type": "display_data"
    },
    {
     "data": {
      "text/html": [
       "<pre>Read 10342982 lines. Lines per second: 351112</pre>"
      ],
      "text/plain": [
       "Read 10342982 lines. Lines per second: 351112"
      ]
     },
     "metadata": {},
     "output_type": "display_data"
    },
    {
     "data": {
      "text/html": [
       "<pre>Read 12510989 lines. Lines per second: 359524</pre>"
      ],
      "text/plain": [
       "Read 12510989 lines. Lines per second: 359524"
      ]
     },
     "metadata": {},
     "output_type": "display_data"
    },
    {
     "data": {
      "text/html": [
       "<pre>Read 14689137 lines. Lines per second: 365266</pre>"
      ],
      "text/plain": [
       "Read 14689137 lines. Lines per second: 365266"
      ]
     },
     "metadata": {},
     "output_type": "display_data"
    },
    {
     "data": {
      "text/html": [
       "<pre>Read 16852983 lines. Lines per second: 371275</pre>"
      ],
      "text/plain": [
       "Read 16852983 lines. Lines per second: 371275"
      ]
     },
     "metadata": {},
     "output_type": "display_data"
    },
    {
     "data": {
      "text/html": [
       "<pre>Read 19030950 lines. Lines per second: 376667</pre>"
      ],
      "text/plain": [
       "Read 19030950 lines. Lines per second: 376667"
      ]
     },
     "metadata": {},
     "output_type": "display_data"
    },
    {
     "data": {
      "text/html": [
       "<pre>Read 21203108 lines. Lines per second: 371862</pre>"
      ],
      "text/plain": [
       "Read 21203108 lines. Lines per second: 371862"
      ]
     },
     "metadata": {},
     "output_type": "display_data"
    },
    {
     "data": {
      "text/html": [
       "<pre>Read 22283807 lines. Lines per second: 353323</pre>"
      ],
      "text/plain": [
       "Read 22283807 lines. Lines per second: 353323"
      ]
     },
     "metadata": {},
     "output_type": "display_data"
    },
    {
     "data": {
      "text/html": [
       "<pre>Read 23916819 lines. Lines per second: 343028</pre>"
      ],
      "text/plain": [
       "Read 23916819 lines. Lines per second: 343028"
      ]
     },
     "metadata": {},
     "output_type": "display_data"
    },
    {
     "data": {
      "text/html": [
       "<pre>Read 25550328 lines. Lines per second: 339913</pre>"
      ],
      "text/plain": [
       "Read 25550328 lines. Lines per second: 339913"
      ]
     },
     "metadata": {},
     "output_type": "display_data"
    },
    {
     "data": {
      "text/html": [
       "<pre>Read 26628985 lines. Lines per second: 329796</pre>"
      ],
      "text/plain": [
       "Read 26628985 lines. Lines per second: 329796"
      ]
     },
     "metadata": {},
     "output_type": "display_data"
    },
    {
     "data": {
      "text/html": [
       "<pre>Read 28256032 lines. Lines per second: 326680</pre>"
      ],
      "text/plain": [
       "Read 28256032 lines. Lines per second: 326680"
      ]
     },
     "metadata": {},
     "output_type": "display_data"
    },
    {
     "data": {
      "text/html": [
       "<pre>Read 29887885 lines. Lines per second: 320122</pre>"
      ],
      "text/plain": [
       "Read 29887885 lines. Lines per second: 320122"
      ]
     },
     "metadata": {},
     "output_type": "display_data"
    },
    {
     "data": {
      "text/html": [
       "<pre>Read 32048911 lines. Lines per second: 320089</pre>"
      ],
      "text/plain": [
       "Read 32048911 lines. Lines per second: 320089"
      ]
     },
     "metadata": {},
     "output_type": "display_data"
    },
    {
     "data": {
      "text/html": [
       "<pre>Read 33679486 lines. Lines per second: 319670</pre>"
      ],
      "text/plain": [
       "Read 33679486 lines. Lines per second: 319670"
      ]
     },
     "metadata": {},
     "output_type": "display_data"
    },
    {
     "data": {
      "text/html": [
       "<pre>Read 35854448 lines. Lines per second: 323110</pre>"
      ],
      "text/plain": [
       "Read 35854448 lines. Lines per second: 323110"
      ]
     },
     "metadata": {},
     "output_type": "display_data"
    },
    {
     "data": {
      "text/html": [
       "<pre>Read 38018102 lines. Lines per second: 322442</pre>"
      ],
      "text/plain": [
       "Read 38018102 lines. Lines per second: 322442"
      ]
     },
     "metadata": {},
     "output_type": "display_data"
    },
    {
     "data": {
      "text/html": [
       "<pre>Read 39113474 lines. Lines per second: 317794</pre>"
      ],
      "text/plain": [
       "Read 39113474 lines. Lines per second: 317794"
      ]
     },
     "metadata": {},
     "output_type": "display_data"
    },
    {
     "data": {
      "text/html": [
       "<pre>Read 40755361 lines. Lines per second: 316218</pre>"
      ],
      "text/plain": [
       "Read 40755361 lines. Lines per second: 316218"
      ]
     },
     "metadata": {},
     "output_type": "display_data"
    },
    {
     "data": {
      "text/html": [
       "<pre>Read 42387282 lines. Lines per second: 313664</pre>"
      ],
      "text/plain": [
       "Read 42387282 lines. Lines per second: 313664"
      ]
     },
     "metadata": {},
     "output_type": "display_data"
    },
    {
     "data": {
      "text/html": [
       "<pre>Read 44575202 lines. Lines per second: 313876</pre>"
      ],
      "text/plain": [
       "Read 44575202 lines. Lines per second: 313876"
      ]
     },
     "metadata": {},
     "output_type": "display_data"
    },
    {
     "data": {
      "text/html": [
       "<pre>Read 46759364 lines. Lines per second: 314358</pre>"
      ],
      "text/plain": [
       "Read 46759364 lines. Lines per second: 314358"
      ]
     },
     "metadata": {},
     "output_type": "display_data"
    },
    {
     "data": {
      "text/html": [
       "<pre>Read 48389853 lines. Lines per second: 312255</pre>"
      ],
      "text/plain": [
       "Read 48389853 lines. Lines per second: 312255"
      ]
     },
     "metadata": {},
     "output_type": "display_data"
    },
    {
     "data": {
      "text/html": [
       "<pre>Read 50026411 lines. Lines per second: 312154</pre>"
      ],
      "text/plain": [
       "Read 50026411 lines. Lines per second: 312154"
      ]
     },
     "metadata": {},
     "output_type": "display_data"
    },
    {
     "data": {
      "text/html": [
       "<pre>Read 51664904 lines. Lines per second: 311393</pre>"
      ],
      "text/plain": [
       "Read 51664904 lines. Lines per second: 311393"
      ]
     },
     "metadata": {},
     "output_type": "display_data"
    },
    {
     "data": {
      "text/html": [
       "<pre>Read 53838553 lines. Lines per second: 313070</pre>"
      ],
      "text/plain": [
       "Read 53838553 lines. Lines per second: 313070"
      ]
     },
     "metadata": {},
     "output_type": "display_data"
    },
    {
     "data": {
      "text/html": [
       "<pre>Read 55473493 lines. Lines per second: 310771</pre>"
      ],
      "text/plain": [
       "Read 55473493 lines. Lines per second: 310771"
      ]
     },
     "metadata": {},
     "output_type": "display_data"
    },
    {
     "data": {
      "text/html": [
       "<pre>Read 56564800 lines. Lines per second: 307256</pre>"
      ],
      "text/plain": [
       "Read 56564800 lines. Lines per second: 307256"
      ]
     },
     "metadata": {},
     "output_type": "display_data"
    },
    {
     "data": {
      "text/html": [
       "<pre>Read 58191404 lines. Lines per second: 306689</pre>"
      ],
      "text/plain": [
       "Read 58191404 lines. Lines per second: 306689"
      ]
     },
     "metadata": {},
     "output_type": "display_data"
    },
    {
     "data": {
      "text/html": [
       "<pre>Read 59822855 lines. Lines per second: 304947</pre>"
      ],
      "text/plain": [
       "Read 59822855 lines. Lines per second: 304947"
      ]
     },
     "metadata": {},
     "output_type": "display_data"
    },
    {
     "data": {
      "text/html": [
       "<pre>Read 61460797 lines. Lines per second: 304678</pre>"
      ],
      "text/plain": [
       "Read 61460797 lines. Lines per second: 304678"
      ]
     },
     "metadata": {},
     "output_type": "display_data"
    },
    {
     "data": {
      "text/html": [
       "<pre>Read 63092663 lines. Lines per second: 300958</pre>"
      ],
      "text/plain": [
       "Read 63092663 lines. Lines per second: 300958"
      ]
     },
     "metadata": {},
     "output_type": "display_data"
    },
    {
     "data": {
      "text/html": [
       "<pre>Read 64716688 lines. Lines per second: 300511</pre>"
      ],
      "text/plain": [
       "Read 64716688 lines. Lines per second: 300511"
      ]
     },
     "metadata": {},
     "output_type": "display_data"
    },
    {
     "data": {
      "text/html": [
       "<pre>Read 66347798 lines. Lines per second: 299042</pre>"
      ],
      "text/plain": [
       "Read 66347798 lines. Lines per second: 299042"
      ]
     },
     "metadata": {},
     "output_type": "display_data"
    },
    {
     "data": {
      "text/html": [
       "<pre>Read 67979444 lines. Lines per second: 299078</pre>"
      ],
      "text/plain": [
       "Read 67979444 lines. Lines per second: 299078"
      ]
     },
     "metadata": {},
     "output_type": "display_data"
    },
    {
     "data": {
      "text/html": [
       "<pre>Read 70140914 lines. Lines per second: 301313</pre>"
      ],
      "text/plain": [
       "Read 70140914 lines. Lines per second: 301313"
      ]
     },
     "metadata": {},
     "output_type": "display_data"
    },
    {
     "data": {
      "text/html": [
       "<pre>Read 72314727 lines. Lines per second: 301795</pre>"
      ],
      "text/plain": [
       "Read 72314727 lines. Lines per second: 301795"
      ]
     },
     "metadata": {},
     "output_type": "display_data"
    },
    {
     "data": {
      "text/html": [
       "<pre>Read 73945239 lines. Lines per second: 299908</pre>"
      ],
      "text/plain": [
       "Read 73945239 lines. Lines per second: 299908"
      ]
     },
     "metadata": {},
     "output_type": "display_data"
    },
    {
     "data": {
      "text/html": [
       "<pre>Read 75570243 lines. Lines per second: 298576</pre>"
      ],
      "text/plain": [
       "Read 75570243 lines. Lines per second: 298576"
      ]
     },
     "metadata": {},
     "output_type": "display_data"
    },
    {
     "data": {
      "text/html": [
       "<pre>Read 77191887 lines. Lines per second: 297897</pre>"
      ],
      "text/plain": [
       "Read 77191887 lines. Lines per second: 297897"
      ]
     },
     "metadata": {},
     "output_type": "display_data"
    },
    {
     "data": {
      "text/html": [
       "<pre>Read 78818876 lines. Lines per second: 297815</pre>"
      ],
      "text/plain": [
       "Read 78818876 lines. Lines per second: 297815"
      ]
     },
     "metadata": {},
     "output_type": "display_data"
    },
    {
     "data": {
      "text/html": [
       "<pre>Read 80438119 lines. Lines per second: 297042</pre>"
      ],
      "text/plain": [
       "Read 80438119 lines. Lines per second: 297042"
      ]
     },
     "metadata": {},
     "output_type": "display_data"
    },
    {
     "data": {
      "text/html": [
       "<pre>Read 82055236 lines. Lines per second: 296733</pre>"
      ],
      "text/plain": [
       "Read 82055236 lines. Lines per second: 296733"
      ]
     },
     "metadata": {},
     "output_type": "display_data"
    },
    {
     "data": {
      "text/html": [
       "<pre>Read 83681517 lines. Lines per second: 296508</pre>"
      ],
      "text/plain": [
       "Read 83681517 lines. Lines per second: 296508"
      ]
     },
     "metadata": {},
     "output_type": "display_data"
    },
    {
     "data": {
      "text/html": [
       "<pre>Read 85383035 lines. Lines per second: 297064</pre>"
      ],
      "text/plain": [
       "Read 85383035 lines. Lines per second: 297064"
      ]
     },
     "metadata": {},
     "output_type": "display_data"
    },
    {
     "data": {
      "text/html": [
       "<pre>Read 86517396 lines. Lines per second: 295135</pre>"
      ],
      "text/plain": [
       "Read 86517396 lines. Lines per second: 295135"
      ]
     },
     "metadata": {},
     "output_type": "display_data"
    },
    {
     "data": {
      "text/html": [
       "<pre>Read 88214689 lines. Lines per second: 294218</pre>"
      ],
      "text/plain": [
       "Read 88214689 lines. Lines per second: 294218"
      ]
     },
     "metadata": {},
     "output_type": "display_data"
    },
    {
     "data": {
      "text/html": [
       "<pre>Read 89353845 lines. Lines per second: 292684</pre>"
      ],
      "text/plain": [
       "Read 89353845 lines. Lines per second: 292684"
      ]
     },
     "metadata": {},
     "output_type": "display_data"
    },
    {
     "data": {
      "text/html": [
       "<pre>Read 91063275 lines. Lines per second: 291691</pre>"
      ],
      "text/plain": [
       "Read 91063275 lines. Lines per second: 291691"
      ]
     },
     "metadata": {},
     "output_type": "display_data"
    },
    {
     "data": {
      "text/html": [
       "<pre>Read 92774122 lines. Lines per second: 292124</pre>"
      ],
      "text/plain": [
       "Read 92774122 lines. Lines per second: 292124"
      ]
     },
     "metadata": {},
     "output_type": "display_data"
    },
    {
     "data": {
      "text/html": [
       "<pre>Read 95034995 lines. Lines per second: 293318</pre>"
      ],
      "text/plain": [
       "Read 95034995 lines. Lines per second: 293318"
      ]
     },
     "metadata": {},
     "output_type": "display_data"
    },
    {
     "data": {
      "text/html": [
       "<pre>Read 97314198 lines. Lines per second: 294668</pre>"
      ],
      "text/plain": [
       "Read 97314198 lines. Lines per second: 294668"
      ]
     },
     "metadata": {},
     "output_type": "display_data"
    },
    {
     "data": {
      "text/html": [
       "<pre>Read 99589820 lines. Lines per second: 296992</pre>"
      ],
      "text/plain": [
       "Read 99589820 lines. Lines per second: 296992"
      ]
     },
     "metadata": {},
     "output_type": "display_data"
    },
    {
     "data": {
      "text/html": [
       "<pre>Read 102418299 lines. Lines per second: 300407</pre>"
      ],
      "text/plain": [
       "Read 102418299 lines. Lines per second: 300407"
      ]
     },
     "metadata": {},
     "output_type": "display_data"
    },
    {
     "data": {
      "text/html": [
       "<pre>Read 104124951 lines. Lines per second: 301016</pre>"
      ],
      "text/plain": [
       "Read 104124951 lines. Lines per second: 301016"
      ]
     },
     "metadata": {},
     "output_type": "display_data"
    },
    {
     "data": {
      "text/html": [
       "<pre>Read 106401064 lines. Lines per second: 303079</pre>"
      ],
      "text/plain": [
       "Read 106401064 lines. Lines per second: 303079"
      ]
     },
     "metadata": {},
     "output_type": "display_data"
    },
    {
     "data": {
      "text/html": [
       "<pre>Read 108659983 lines. Lines per second: 304432</pre>"
      ],
      "text/plain": [
       "Read 108659983 lines. Lines per second: 304432"
      ]
     },
     "metadata": {},
     "output_type": "display_data"
    },
    {
     "data": {
      "text/html": [
       "<pre>Read 110928112 lines. Lines per second: 305971</pre>"
      ],
      "text/plain": [
       "Read 110928112 lines. Lines per second: 305971"
      ]
     },
     "metadata": {},
     "output_type": "display_data"
    },
    {
     "data": {
      "text/html": [
       "<pre>Read 112065457 lines. Lines per second: 303553</pre>"
      ],
      "text/plain": [
       "Read 112065457 lines. Lines per second: 303553"
      ]
     },
     "metadata": {},
     "output_type": "display_data"
    },
    {
     "data": {
      "text/html": [
       "<pre>Read 113771376 lines. Lines per second: 304031</pre>"
      ],
      "text/plain": [
       "Read 113771376 lines. Lines per second: 304031"
      ]
     },
     "metadata": {},
     "output_type": "display_data"
    },
    {
     "data": {
      "text/html": [
       "<pre>Read 116029489 lines. Lines per second: 304950</pre>"
      ],
      "text/plain": [
       "Read 116029489 lines. Lines per second: 304950"
      ]
     },
     "metadata": {},
     "output_type": "display_data"
    },
    {
     "data": {
      "text/html": [
       "<pre>Read 117678096 lines. Lines per second: 304577</pre>"
      ],
      "text/plain": [
       "Read 117678096 lines. Lines per second: 304577"
      ]
     },
     "metadata": {},
     "output_type": "display_data"
    },
    {
     "data": {
      "text/html": [
       "<pre>Read 119858906 lines. Lines per second: 305564</pre>"
      ],
      "text/plain": [
       "Read 119858906 lines. Lines per second: 305564"
      ]
     },
     "metadata": {},
     "output_type": "display_data"
    },
    {
     "data": {
      "text/html": [
       "<pre>Read 121492728 lines. Lines per second: 305423</pre>"
      ],
      "text/plain": [
       "Read 121492728 lines. Lines per second: 305423"
      ]
     },
     "metadata": {},
     "output_type": "display_data"
    },
    {
     "data": {
      "text/html": [
       "<pre>Read 122571182 lines. Lines per second: 304018</pre>"
      ],
      "text/plain": [
       "Read 122571182 lines. Lines per second: 304018"
      ]
     },
     "metadata": {},
     "output_type": "display_data"
    },
    {
     "data": {
      "text/html": [
       "<pre>Finished parsing file /Users/darrenho/MSDSairline/AirlineDataAll.csv</pre>"
      ],
      "text/plain": [
       "Finished parsing file /Users/darrenho/MSDSairline/AirlineDataAll.csv"
      ]
     },
     "metadata": {},
     "output_type": "display_data"
    },
    {
     "data": {
      "text/html": [
       "<pre>Parsing completed. Parsed 123534969 lines in 405.303 secs.</pre>"
      ],
      "text/plain": [
       "Parsing completed. Parsed 123534969 lines in 405.303 secs."
      ]
     },
     "metadata": {},
     "output_type": "display_data"
    }
   ],
   "source": [
    "#Here I needed to register (https://turi.com/register) and upgrade my graphlab using a free, academic-use-only product key: \n",
    "\n",
    "# pip install --upgrade --trusted-host pypi.python.org graphlab-create \n",
    "# pip install --upgrade --no-cache-dir --trusted-host get.graphlab.com https://get.graphlab.com/GraphLab-Create/2.1/dhomrighausen@smu.edu/A6C0-BEA7-AEF2-0822-AC94-D968-B66F-5B74/GraphLab-Create-License.tar.gz\n",
    "sf = gl.SFrame('/Users/darrenho/MSDSairline/AirlineDataAll.csv')"
   ]
  },
  {
   "cell_type": "markdown",
   "metadata": {},
   "source": [
    "Wow! That was really fast to read the entire csv structure! On my system, it took about 6 minutes to prepare the SFrame. But--is it really the same length as the data we saw above? How could this be 5 times faster than the R code for loading and parsing the data? Let's check the dimensions."
   ]
  },
  {
   "cell_type": "code",
   "execution_count": 33,
   "metadata": {
    "collapsed": false
   },
   "outputs": [
    {
     "data": {
      "text/plain": [
       "(123534969, 29)"
      ]
     },
     "execution_count": 33,
     "metadata": {},
     "output_type": "execute_result"
    }
   ],
   "source": [
    "sf.shape"
   ]
  },
  {
   "cell_type": "markdown",
   "metadata": {},
   "source": [
    "...Yes. It is the same size! And if we dump this to file, it will be compressed to under 2GB and be written in about a minute to disk (and almost instantaneously when read--just like R). That's a really great advantage when working with large data like this. The space/time tradeoffs have really been optimized for this package. \n",
    "\n",
    "It also means that file access is quicker because the DiskIO has to load fewer bytes. It needs to decompress the bytes, but it does so typically much quicker than it would be to read them from disk. Impressive!\n",
    "\n",
    "If you wanted to save it, you could say:\n",
    "- ```sf.save('/Users/darrenho/MSDSairline/airline_data_sframe_directory') # write out as binary compressed file (very compressed)```\n",
    "- Then to load it back up:\n",
    " - ```gl.load_sframe('/Users/darrenho/MSDSairline/airline_data_sframe_directory')```\n",
    " \n",
    "___\n",
    "\n",
    "## 4.2 Preprocessing the CSV data in Python with Graphlab\n",
    "So great, we can load up the same file as R did. It still took forever to preprocess that file and get it ready. So, we really want to answer this question:\n",
    "**Is there an easier way to preprocess and concatenate all the files into one memory map using SFrames?** \n",
    "\n",
    "SFrames are more forgiving in terms of the data types that they can hold. Moreover, they load much more quickly than the parser used by `pandas`. Maybe we should try to read in each of the original CSV files as SFrames and concatenate them together into one SFrame. Would this be a quicker way to create the memory mapped file than all the preprocessing we did above?\n",
    "\n",
    "The answer is, in fact, **yes**. It is much faster and the code is much easier to understand than what we performed earlier. And because `graphlab` supports more than one data type, we do not need to preprocess any of the data. Plus, when we write out to file, it happens more quickly and in a compressed version (on disk it will be compressed to about 2GB). \n",
    "\n",
    "Here is the code to perform all the concatenation we did earlier. I am also supplying graphlab with the data type for each column to ensure that the data is consistent. However, if I did not, Graphlab would try and guess the data type based on the first 100 lines of the csv file."
   ]
  },
  {
   "cell_type": "code",
   "execution_count": 57,
   "metadata": {
    "collapsed": false,
    "scrolled": false
   },
   "outputs": [
    {
     "name": "stdout",
     "output_type": "stream",
     "text": [
      "read 0 lines, reading next file 1987.csv\n"
     ]
    },
    {
     "data": {
      "text/html": [
       "<pre>Read 540959 lines. Lines per second: 185179</pre>"
      ],
      "text/plain": [
       "Read 540959 lines. Lines per second: 185179"
      ]
     },
     "metadata": {},
     "output_type": "display_data"
    },
    {
     "data": {
      "text/html": [
       "<pre>Finished parsing file /Users/darrenho/MSDSairline/1987.csv</pre>"
      ],
      "text/plain": [
       "Finished parsing file /Users/darrenho/MSDSairline/1987.csv"
      ]
     },
     "metadata": {},
     "output_type": "display_data"
    },
    {
     "data": {
      "text/html": [
       "<pre>Parsing completed. Parsed 1311826 lines in 3.9124 secs.</pre>"
      ],
      "text/plain": [
       "Parsing completed. Parsed 1311826 lines in 3.9124 secs."
      ]
     },
     "metadata": {},
     "output_type": "display_data"
    },
    {
     "name": "stdout",
     "output_type": "stream",
     "text": [
      "read 1311826 lines, reading next file 1988.csv\n"
     ]
    },
    {
     "data": {
      "text/html": [
       "<pre>Read 1092265 lines. Lines per second: 316378</pre>"
      ],
      "text/plain": [
       "Read 1092265 lines. Lines per second: 316378"
      ]
     },
     "metadata": {},
     "output_type": "display_data"
    },
    {
     "data": {
      "text/html": [
       "<pre>Read 3821852 lines. Lines per second: 426174</pre>"
      ],
      "text/plain": [
       "Read 3821852 lines. Lines per second: 426174"
      ]
     },
     "metadata": {},
     "output_type": "display_data"
    },
    {
     "data": {
      "text/html": [
       "<pre>Finished parsing file /Users/darrenho/MSDSairline/1988.csv</pre>"
      ],
      "text/plain": [
       "Finished parsing file /Users/darrenho/MSDSairline/1988.csv"
      ]
     },
     "metadata": {},
     "output_type": "display_data"
    },
    {
     "data": {
      "text/html": [
       "<pre>Parsing completed. Parsed 5202096 lines in 11.0003 secs.</pre>"
      ],
      "text/plain": [
       "Parsing completed. Parsed 5202096 lines in 11.0003 secs."
      ]
     },
     "metadata": {},
     "output_type": "display_data"
    },
    {
     "name": "stdout",
     "output_type": "stream",
     "text": [
      "read 6513922 lines, reading next file 1989.csv\n"
     ]
    },
    {
     "data": {
      "text/html": [
       "<pre>Read 545019 lines. Lines per second: 218754</pre>"
      ],
      "text/plain": [
       "Read 545019 lines. Lines per second: 218754"
      ]
     },
     "metadata": {},
     "output_type": "display_data"
    },
    {
     "data": {
      "text/html": [
       "<pre>Read 3269128 lines. Lines per second: 404855</pre>"
      ],
      "text/plain": [
       "Read 3269128 lines. Lines per second: 404855"
      ]
     },
     "metadata": {},
     "output_type": "display_data"
    },
    {
     "data": {
      "text/html": [
       "<pre>Finished parsing file /Users/darrenho/MSDSairline/1989.csv</pre>"
      ],
      "text/plain": [
       "Finished parsing file /Users/darrenho/MSDSairline/1989.csv"
      ]
     },
     "metadata": {},
     "output_type": "display_data"
    },
    {
     "data": {
      "text/html": [
       "<pre>Parsing completed. Parsed 5041200 lines in 11.0163 secs.</pre>"
      ],
      "text/plain": [
       "Parsing completed. Parsed 5041200 lines in 11.0163 secs."
      ]
     },
     "metadata": {},
     "output_type": "display_data"
    },
    {
     "name": "stdout",
     "output_type": "stream",
     "text": [
      "read 11555122 lines, reading next file 1990.csv\n"
     ]
    },
    {
     "data": {
      "text/html": [
       "<pre>Read 545116 lines. Lines per second: 223787</pre>"
      ],
      "text/plain": [
       "Read 545116 lines. Lines per second: 223787"
      ]
     },
     "metadata": {},
     "output_type": "display_data"
    },
    {
     "data": {
      "text/html": [
       "<pre>Read 2722223 lines. Lines per second: 311895</pre>"
      ],
      "text/plain": [
       "Read 2722223 lines. Lines per second: 311895"
      ]
     },
     "metadata": {},
     "output_type": "display_data"
    },
    {
     "data": {
      "text/html": [
       "<pre>Finished parsing file /Users/darrenho/MSDSairline/1990.csv</pre>"
      ],
      "text/plain": [
       "Finished parsing file /Users/darrenho/MSDSairline/1990.csv"
      ]
     },
     "metadata": {},
     "output_type": "display_data"
    },
    {
     "data": {
      "text/html": [
       "<pre>Parsing completed. Parsed 5270893 lines in 13.4511 secs.</pre>"
      ],
      "text/plain": [
       "Parsing completed. Parsed 5270893 lines in 13.4511 secs."
      ]
     },
     "metadata": {},
     "output_type": "display_data"
    },
    {
     "name": "stdout",
     "output_type": "stream",
     "text": [
      "read 16826015 lines, reading next file 1991.csv\n"
     ]
    },
    {
     "data": {
      "text/html": [
       "<pre>Read 543797 lines. Lines per second: 233811</pre>"
      ],
      "text/plain": [
       "Read 543797 lines. Lines per second: 233811"
      ]
     },
     "metadata": {},
     "output_type": "display_data"
    },
    {
     "data": {
      "text/html": [
       "<pre>Read 3259409 lines. Lines per second: 407319</pre>"
      ],
      "text/plain": [
       "Read 3259409 lines. Lines per second: 407319"
      ]
     },
     "metadata": {},
     "output_type": "display_data"
    },
    {
     "data": {
      "text/html": [
       "<pre>Finished parsing file /Users/darrenho/MSDSairline/1991.csv</pre>"
      ],
      "text/plain": [
       "Finished parsing file /Users/darrenho/MSDSairline/1991.csv"
      ]
     },
     "metadata": {},
     "output_type": "display_data"
    },
    {
     "data": {
      "text/html": [
       "<pre>Parsing completed. Parsed 5076925 lines in 11.3218 secs.</pre>"
      ],
      "text/plain": [
       "Parsing completed. Parsed 5076925 lines in 11.3218 secs."
      ]
     },
     "metadata": {},
     "output_type": "display_data"
    },
    {
     "name": "stdout",
     "output_type": "stream",
     "text": [
      "read 21902940 lines, reading next file 1992.csv\n"
     ]
    },
    {
     "data": {
      "text/html": [
       "<pre>Read 544035 lines. Lines per second: 208953</pre>"
      ],
      "text/plain": [
       "Read 544035 lines. Lines per second: 208953"
      ]
     },
     "metadata": {},
     "output_type": "display_data"
    },
    {
     "data": {
      "text/html": [
       "<pre>Read 3263042 lines. Lines per second: 382220</pre>"
      ],
      "text/plain": [
       "Read 3263042 lines. Lines per second: 382220"
      ]
     },
     "metadata": {},
     "output_type": "display_data"
    },
    {
     "data": {
      "text/html": [
       "<pre>Finished parsing file /Users/darrenho/MSDSairline/1992.csv</pre>"
      ],
      "text/plain": [
       "Finished parsing file /Users/darrenho/MSDSairline/1992.csv"
      ]
     },
     "metadata": {},
     "output_type": "display_data"
    },
    {
     "data": {
      "text/html": [
       "<pre>Parsing completed. Parsed 5092157 lines in 13.1018 secs.</pre>"
      ],
      "text/plain": [
       "Parsing completed. Parsed 5092157 lines in 13.1018 secs."
      ]
     },
     "metadata": {},
     "output_type": "display_data"
    },
    {
     "name": "stdout",
     "output_type": "stream",
     "text": [
      "read 26995097 lines, reading next file 1993.csv\n"
     ]
    },
    {
     "data": {
      "text/html": [
       "<pre>Read 543425 lines. Lines per second: 155788</pre>"
      ],
      "text/plain": [
       "Read 543425 lines. Lines per second: 155788"
      ]
     },
     "metadata": {},
     "output_type": "display_data"
    },
    {
     "data": {
      "text/html": [
       "<pre>Read 3259789 lines. Lines per second: 346250</pre>"
      ],
      "text/plain": [
       "Read 3259789 lines. Lines per second: 346250"
      ]
     },
     "metadata": {},
     "output_type": "display_data"
    },
    {
     "data": {
      "text/html": [
       "<pre>Finished parsing file /Users/darrenho/MSDSairline/1993.csv</pre>"
      ],
      "text/plain": [
       "Finished parsing file /Users/darrenho/MSDSairline/1993.csv"
      ]
     },
     "metadata": {},
     "output_type": "display_data"
    },
    {
     "data": {
      "text/html": [
       "<pre>Parsing completed. Parsed 5070501 lines in 12.4808 secs.</pre>"
      ],
      "text/plain": [
       "Parsing completed. Parsed 5070501 lines in 12.4808 secs."
      ]
     },
     "metadata": {},
     "output_type": "display_data"
    },
    {
     "name": "stdout",
     "output_type": "stream",
     "text": [
      "read 32065598 lines, reading next file 1994.csv\n"
     ]
    },
    {
     "data": {
      "text/html": [
       "<pre>Read 543673 lines. Lines per second: 224750</pre>"
      ],
      "text/plain": [
       "Read 543673 lines. Lines per second: 224750"
      ]
     },
     "metadata": {},
     "output_type": "display_data"
    },
    {
     "data": {
      "text/html": [
       "<pre>Read 3258677 lines. Lines per second: 389653</pre>"
      ],
      "text/plain": [
       "Read 3258677 lines. Lines per second: 389653"
      ]
     },
     "metadata": {},
     "output_type": "display_data"
    },
    {
     "data": {
      "text/html": [
       "<pre>Finished parsing file /Users/darrenho/MSDSairline/1994.csv</pre>"
      ],
      "text/plain": [
       "Finished parsing file /Users/darrenho/MSDSairline/1994.csv"
      ]
     },
     "metadata": {},
     "output_type": "display_data"
    },
    {
     "data": {
      "text/html": [
       "<pre>Parsing completed. Parsed 5180048 lines in 11.7718 secs.</pre>"
      ],
      "text/plain": [
       "Parsing completed. Parsed 5180048 lines in 11.7718 secs."
      ]
     },
     "metadata": {},
     "output_type": "display_data"
    },
    {
     "name": "stdout",
     "output_type": "stream",
     "text": [
      "read 37245646 lines, reading next file 1995.csv\n"
     ]
    },
    {
     "data": {
      "text/html": [
       "<pre>Read 527246 lines. Lines per second: 198910</pre>"
      ],
      "text/plain": [
       "Read 527246 lines. Lines per second: 198910"
      ]
     },
     "metadata": {},
     "output_type": "display_data"
    },
    {
     "data": {
      "text/html": [
       "<pre>Read 3163202 lines. Lines per second: 366871</pre>"
      ],
      "text/plain": [
       "Read 3163202 lines. Lines per second: 366871"
      ]
     },
     "metadata": {},
     "output_type": "display_data"
    },
    {
     "data": {
      "text/html": [
       "<pre>Read 4739268 lines. Lines per second: 325672</pre>"
      ],
      "text/plain": [
       "Read 4739268 lines. Lines per second: 325672"
      ]
     },
     "metadata": {},
     "output_type": "display_data"
    },
    {
     "data": {
      "text/html": [
       "<pre>Finished parsing file /Users/darrenho/MSDSairline/1995.csv</pre>"
      ],
      "text/plain": [
       "Finished parsing file /Users/darrenho/MSDSairline/1995.csv"
      ]
     },
     "metadata": {},
     "output_type": "display_data"
    },
    {
     "data": {
      "text/html": [
       "<pre>Parsing completed. Parsed 5327435 lines in 15.268 secs.</pre>"
      ],
      "text/plain": [
       "Parsing completed. Parsed 5327435 lines in 15.268 secs."
      ]
     },
     "metadata": {},
     "output_type": "display_data"
    },
    {
     "name": "stdout",
     "output_type": "stream",
     "text": [
      "read 42573081 lines, reading next file 1996.csv\n"
     ]
    },
    {
     "data": {
      "text/html": [
       "<pre>Read 1057045 lines. Lines per second: 283606</pre>"
      ],
      "text/plain": [
       "Read 1057045 lines. Lines per second: 283606"
      ]
     },
     "metadata": {},
     "output_type": "display_data"
    },
    {
     "data": {
      "text/html": [
       "<pre>Read 3162757 lines. Lines per second: 353450</pre>"
      ],
      "text/plain": [
       "Read 3162757 lines. Lines per second: 353450"
      ]
     },
     "metadata": {},
     "output_type": "display_data"
    },
    {
     "data": {
      "text/html": [
       "<pre>Finished parsing file /Users/darrenho/MSDSairline/1996.csv</pre>"
      ],
      "text/plain": [
       "Finished parsing file /Users/darrenho/MSDSairline/1996.csv"
      ]
     },
     "metadata": {},
     "output_type": "display_data"
    },
    {
     "data": {
      "text/html": [
       "<pre>Parsing completed. Parsed 5351983 lines in 13.2935 secs.</pre>"
      ],
      "text/plain": [
       "Parsing completed. Parsed 5351983 lines in 13.2935 secs."
      ]
     },
     "metadata": {},
     "output_type": "display_data"
    },
    {
     "name": "stdout",
     "output_type": "stream",
     "text": [
      "read 47925064 lines, reading next file 1997.csv\n"
     ]
    },
    {
     "data": {
      "text/html": [
       "<pre>Read 529207 lines. Lines per second: 238728</pre>"
      ],
      "text/plain": [
       "Read 529207 lines. Lines per second: 238728"
      ]
     },
     "metadata": {},
     "output_type": "display_data"
    },
    {
     "data": {
      "text/html": [
       "<pre>Read 2632920 lines. Lines per second: 357121</pre>"
      ],
      "text/plain": [
       "Read 2632920 lines. Lines per second: 357121"
      ]
     },
     "metadata": {},
     "output_type": "display_data"
    },
    {
     "data": {
      "text/html": [
       "<pre>Read 5251716 lines. Lines per second: 420479</pre>"
      ],
      "text/plain": [
       "Read 5251716 lines. Lines per second: 420479"
      ]
     },
     "metadata": {},
     "output_type": "display_data"
    },
    {
     "data": {
      "text/html": [
       "<pre>Finished parsing file /Users/darrenho/MSDSairline/1997.csv</pre>"
      ],
      "text/plain": [
       "Finished parsing file /Users/darrenho/MSDSairline/1997.csv"
      ]
     },
     "metadata": {},
     "output_type": "display_data"
    },
    {
     "data": {
      "text/html": [
       "<pre>Parsing completed. Parsed 5411843 lines in 12.7172 secs.</pre>"
      ],
      "text/plain": [
       "Parsing completed. Parsed 5411843 lines in 12.7172 secs."
      ]
     },
     "metadata": {},
     "output_type": "display_data"
    },
    {
     "name": "stdout",
     "output_type": "stream",
     "text": [
      "read 53336907 lines, reading next file 1998.csv\n"
     ]
    },
    {
     "data": {
      "text/html": [
       "<pre>Read 1578601 lines. Lines per second: 330983</pre>"
      ],
      "text/plain": [
       "Read 1578601 lines. Lines per second: 330983"
      ]
     },
     "metadata": {},
     "output_type": "display_data"
    },
    {
     "data": {
      "text/html": [
       "<pre>Read 4205006 lines. Lines per second: 395946</pre>"
      ],
      "text/plain": [
       "Read 4205006 lines. Lines per second: 395946"
      ]
     },
     "metadata": {},
     "output_type": "display_data"
    },
    {
     "data": {
      "text/html": [
       "<pre>Finished parsing file /Users/darrenho/MSDSairline/1998.csv</pre>"
      ],
      "text/plain": [
       "Finished parsing file /Users/darrenho/MSDSairline/1998.csv"
      ]
     },
     "metadata": {},
     "output_type": "display_data"
    },
    {
     "data": {
      "text/html": [
       "<pre>Parsing completed. Parsed 5384721 lines in 12.5608 secs.</pre>"
      ],
      "text/plain": [
       "Parsing completed. Parsed 5384721 lines in 12.5608 secs."
      ]
     },
     "metadata": {},
     "output_type": "display_data"
    },
    {
     "name": "stdout",
     "output_type": "stream",
     "text": [
      "read 58721628 lines, reading next file 1999.csv\n"
     ]
    },
    {
     "data": {
      "text/html": [
       "<pre>Read 524911 lines. Lines per second: 212212</pre>"
      ],
      "text/plain": [
       "Read 524911 lines. Lines per second: 212212"
      ]
     },
     "metadata": {},
     "output_type": "display_data"
    },
    {
     "data": {
      "text/html": [
       "<pre>Read 2627946 lines. Lines per second: 312016</pre>"
      ],
      "text/plain": [
       "Read 2627946 lines. Lines per second: 312016"
      ]
     },
     "metadata": {},
     "output_type": "display_data"
    },
    {
     "data": {
      "text/html": [
       "<pre>Read 4723791 lines. Lines per second: 341634</pre>"
      ],
      "text/plain": [
       "Read 4723791 lines. Lines per second: 341634"
      ]
     },
     "metadata": {},
     "output_type": "display_data"
    },
    {
     "data": {
      "text/html": [
       "<pre>Finished parsing file /Users/darrenho/MSDSairline/1999.csv</pre>"
      ],
      "text/plain": [
       "Finished parsing file /Users/darrenho/MSDSairline/1999.csv"
      ]
     },
     "metadata": {},
     "output_type": "display_data"
    },
    {
     "data": {
      "text/html": [
       "<pre>Parsing completed. Parsed 5527884 lines in 15.1107 secs.</pre>"
      ],
      "text/plain": [
       "Parsing completed. Parsed 5527884 lines in 15.1107 secs."
      ]
     },
     "metadata": {},
     "output_type": "display_data"
    },
    {
     "name": "stdout",
     "output_type": "stream",
     "text": [
      "read 64249512 lines, reading next file 2000.csv\n"
     ]
    },
    {
     "data": {
      "text/html": [
       "<pre>Read 524495 lines. Lines per second: 175253</pre>"
      ],
      "text/plain": [
       "Read 524495 lines. Lines per second: 175253"
      ]
     },
     "metadata": {},
     "output_type": "display_data"
    },
    {
     "data": {
      "text/html": [
       "<pre>Read 3143838 lines. Lines per second: 324571</pre>"
      ],
      "text/plain": [
       "Read 3143838 lines. Lines per second: 324571"
      ]
     },
     "metadata": {},
     "output_type": "display_data"
    },
    {
     "data": {
      "text/html": [
       "<pre>Finished parsing file /Users/darrenho/MSDSairline/2000.csv</pre>"
      ],
      "text/plain": [
       "Finished parsing file /Users/darrenho/MSDSairline/2000.csv"
      ]
     },
     "metadata": {},
     "output_type": "display_data"
    },
    {
     "data": {
      "text/html": [
       "<pre>Parsing completed. Parsed 5683047 lines in 14.9341 secs.</pre>"
      ],
      "text/plain": [
       "Parsing completed. Parsed 5683047 lines in 14.9341 secs."
      ]
     },
     "metadata": {},
     "output_type": "display_data"
    },
    {
     "name": "stdout",
     "output_type": "stream",
     "text": [
      "read 69932559 lines, reading next file 2001.csv\n"
     ]
    },
    {
     "data": {
      "text/html": [
       "<pre>Read 522034 lines. Lines per second: 169469</pre>"
      ],
      "text/plain": [
       "Read 522034 lines. Lines per second: 169469"
      ]
     },
     "metadata": {},
     "output_type": "display_data"
    },
    {
     "data": {
      "text/html": [
       "<pre>Read 2610142 lines. Lines per second: 299614</pre>"
      ],
      "text/plain": [
       "Read 2610142 lines. Lines per second: 299614"
      ]
     },
     "metadata": {},
     "output_type": "display_data"
    },
    {
     "data": {
      "text/html": [
       "<pre>Read 4701550 lines. Lines per second: 329202</pre>"
      ],
      "text/plain": [
       "Read 4701550 lines. Lines per second: 329202"
      ]
     },
     "metadata": {},
     "output_type": "display_data"
    },
    {
     "data": {
      "text/html": [
       "<pre>Finished parsing file /Users/darrenho/MSDSairline/2001.csv</pre>"
      ],
      "text/plain": [
       "Finished parsing file /Users/darrenho/MSDSairline/2001.csv"
      ]
     },
     "metadata": {},
     "output_type": "display_data"
    },
    {
     "data": {
      "text/html": [
       "<pre>Parsing completed. Parsed 5967780 lines in 16.3822 secs.</pre>"
      ],
      "text/plain": [
       "Parsing completed. Parsed 5967780 lines in 16.3822 secs."
      ]
     },
     "metadata": {},
     "output_type": "display_data"
    },
    {
     "name": "stdout",
     "output_type": "stream",
     "text": [
      "read 75900339 lines, reading next file 2002.csv\n"
     ]
    },
    {
     "data": {
      "text/html": [
       "<pre>Read 522215 lines. Lines per second: 197532</pre>"
      ],
      "text/plain": [
       "Read 522215 lines. Lines per second: 197532"
      ]
     },
     "metadata": {},
     "output_type": "display_data"
    },
    {
     "data": {
      "text/html": [
       "<pre>Read 3133898 lines. Lines per second: 394011</pre>"
      ],
      "text/plain": [
       "Read 3133898 lines. Lines per second: 394011"
      ]
     },
     "metadata": {},
     "output_type": "display_data"
    },
    {
     "data": {
      "text/html": [
       "<pre>Finished parsing file /Users/darrenho/MSDSairline/2002.csv</pre>"
      ],
      "text/plain": [
       "Finished parsing file /Users/darrenho/MSDSairline/2002.csv"
      ]
     },
     "metadata": {},
     "output_type": "display_data"
    },
    {
     "data": {
      "text/html": [
       "<pre>Parsing completed. Parsed 5271359 lines in 12.0637 secs.</pre>"
      ],
      "text/plain": [
       "Parsing completed. Parsed 5271359 lines in 12.0637 secs."
      ]
     },
     "metadata": {},
     "output_type": "display_data"
    },
    {
     "name": "stdout",
     "output_type": "stream",
     "text": [
      "read 81171698 lines, reading next file 2003.csv\n"
     ]
    },
    {
     "data": {
      "text/html": [
       "<pre>Read 522593 lines. Lines per second: 184252</pre>"
      ],
      "text/plain": [
       "Read 522593 lines. Lines per second: 184252"
      ]
     },
     "metadata": {},
     "output_type": "display_data"
    },
    {
     "data": {
      "text/html": [
       "<pre>Read 3169937 lines. Lines per second: 372257</pre>"
      ],
      "text/plain": [
       "Read 3169937 lines. Lines per second: 372257"
      ]
     },
     "metadata": {},
     "output_type": "display_data"
    },
    {
     "data": {
      "text/html": [
       "<pre>Read 5405315 lines. Lines per second: 400157</pre>"
      ],
      "text/plain": [
       "Read 5405315 lines. Lines per second: 400157"
      ]
     },
     "metadata": {},
     "output_type": "display_data"
    },
    {
     "data": {
      "text/html": [
       "<pre>Finished parsing file /Users/darrenho/MSDSairline/2003.csv</pre>"
      ],
      "text/plain": [
       "Finished parsing file /Users/darrenho/MSDSairline/2003.csv"
      ]
     },
     "metadata": {},
     "output_type": "display_data"
    },
    {
     "data": {
      "text/html": [
       "<pre>Parsing completed. Parsed 6488540 lines in 15.2965 secs.</pre>"
      ],
      "text/plain": [
       "Parsing completed. Parsed 6488540 lines in 15.2965 secs."
      ]
     },
     "metadata": {},
     "output_type": "display_data"
    },
    {
     "name": "stdout",
     "output_type": "stream",
     "text": [
      "read 87660238 lines, reading next file 2004.csv\n"
     ]
    },
    {
     "data": {
      "text/html": [
       "<pre>Read 560245 lines. Lines per second: 134468</pre>"
      ],
      "text/plain": [
       "Read 560245 lines. Lines per second: 134468"
      ]
     },
     "metadata": {},
     "output_type": "display_data"
    },
    {
     "data": {
      "text/html": [
       "<pre>Read 2238808 lines. Lines per second: 234091</pre>"
      ],
      "text/plain": [
       "Read 2238808 lines. Lines per second: 234091"
      ]
     },
     "metadata": {},
     "output_type": "display_data"
    },
    {
     "data": {
      "text/html": [
       "<pre>Read 3917196 lines. Lines per second: 265651</pre>"
      ],
      "text/plain": [
       "Read 3917196 lines. Lines per second: 265651"
      ]
     },
     "metadata": {},
     "output_type": "display_data"
    },
    {
     "data": {
      "text/html": [
       "<pre>Read 5594351 lines. Lines per second: 276274</pre>"
      ],
      "text/plain": [
       "Read 5594351 lines. Lines per second: 276274"
      ]
     },
     "metadata": {},
     "output_type": "display_data"
    },
    {
     "data": {
      "text/html": [
       "<pre>Finished parsing file /Users/darrenho/MSDSairline/2004.csv</pre>"
      ],
      "text/plain": [
       "Finished parsing file /Users/darrenho/MSDSairline/2004.csv"
      ]
     },
     "metadata": {},
     "output_type": "display_data"
    },
    {
     "data": {
      "text/html": [
       "<pre>Parsing completed. Parsed 7129270 lines in 23.5388 secs.</pre>"
      ],
      "text/plain": [
       "Parsing completed. Parsed 7129270 lines in 23.5388 secs."
      ]
     },
     "metadata": {},
     "output_type": "display_data"
    },
    {
     "name": "stdout",
     "output_type": "stream",
     "text": [
      "read 94789508 lines, reading next file 2005.csv\n"
     ]
    },
    {
     "data": {
      "text/html": [
       "<pre>Read 560141 lines. Lines per second: 197169</pre>"
      ],
      "text/plain": [
       "Read 560141 lines. Lines per second: 197169"
      ]
     },
     "metadata": {},
     "output_type": "display_data"
    },
    {
     "data": {
      "text/html": [
       "<pre>Read 2799668 lines. Lines per second: 350006</pre>"
      ],
      "text/plain": [
       "Read 2799668 lines. Lines per second: 350006"
      ]
     },
     "metadata": {},
     "output_type": "display_data"
    },
    {
     "data": {
      "text/html": [
       "<pre>Read 5594330 lines. Lines per second: 400474</pre>"
      ],
      "text/plain": [
       "Read 5594330 lines. Lines per second: 400474"
      ]
     },
     "metadata": {},
     "output_type": "display_data"
    },
    {
     "data": {
      "text/html": [
       "<pre>Finished parsing file /Users/darrenho/MSDSairline/2005.csv</pre>"
      ],
      "text/plain": [
       "Finished parsing file /Users/darrenho/MSDSairline/2005.csv"
      ]
     },
     "metadata": {},
     "output_type": "display_data"
    },
    {
     "data": {
      "text/html": [
       "<pre>Parsing completed. Parsed 7140596 lines in 16.8169 secs.</pre>"
      ],
      "text/plain": [
       "Parsing completed. Parsed 7140596 lines in 16.8169 secs."
      ]
     },
     "metadata": {},
     "output_type": "display_data"
    },
    {
     "name": "stdout",
     "output_type": "stream",
     "text": [
      "read 101930104 lines, reading next file 2006.csv\n"
     ]
    },
    {
     "data": {
      "text/html": [
       "<pre>Read 558959 lines. Lines per second: 219921</pre>"
      ],
      "text/plain": [
       "Read 558959 lines. Lines per second: 219921"
      ]
     },
     "metadata": {},
     "output_type": "display_data"
    },
    {
     "data": {
      "text/html": [
       "<pre>Read 2795140 lines. Lines per second: 327807</pre>"
      ],
      "text/plain": [
       "Read 2795140 lines. Lines per second: 327807"
      ]
     },
     "metadata": {},
     "output_type": "display_data"
    },
    {
     "data": {
      "text/html": [
       "<pre>Read 5030405 lines. Lines per second: 348053</pre>"
      ],
      "text/plain": [
       "Read 5030405 lines. Lines per second: 348053"
      ]
     },
     "metadata": {},
     "output_type": "display_data"
    },
    {
     "data": {
      "text/html": [
       "<pre>Finished parsing file /Users/darrenho/MSDSairline/2006.csv</pre>"
      ],
      "text/plain": [
       "Finished parsing file /Users/darrenho/MSDSairline/2006.csv"
      ]
     },
     "metadata": {},
     "output_type": "display_data"
    },
    {
     "data": {
      "text/html": [
       "<pre>Parsing completed. Parsed 7141922 lines in 19.2628 secs.</pre>"
      ],
      "text/plain": [
       "Parsing completed. Parsed 7141922 lines in 19.2628 secs."
      ]
     },
     "metadata": {},
     "output_type": "display_data"
    },
    {
     "name": "stdout",
     "output_type": "stream",
     "text": [
      "read 109072026 lines, reading next file 2007.csv\n"
     ]
    },
    {
     "data": {
      "text/html": [
       "<pre>Read 559204 lines. Lines per second: 215440</pre>"
      ],
      "text/plain": [
       "Read 559204 lines. Lines per second: 215440"
      ]
     },
     "metadata": {},
     "output_type": "display_data"
    },
    {
     "data": {
      "text/html": [
       "<pre>Read 2790681 lines. Lines per second: 304969</pre>"
      ],
      "text/plain": [
       "Read 2790681 lines. Lines per second: 304969"
      ]
     },
     "metadata": {},
     "output_type": "display_data"
    },
    {
     "data": {
      "text/html": [
       "<pre>Read 5019063 lines. Lines per second: 342287</pre>"
      ],
      "text/plain": [
       "Read 5019063 lines. Lines per second: 342287"
      ]
     },
     "metadata": {},
     "output_type": "display_data"
    },
    {
     "data": {
      "text/html": [
       "<pre>Finished parsing file /Users/darrenho/MSDSairline/2007.csv</pre>"
      ],
      "text/plain": [
       "Finished parsing file /Users/darrenho/MSDSairline/2007.csv"
      ]
     },
     "metadata": {},
     "output_type": "display_data"
    },
    {
     "data": {
      "text/html": [
       "<pre>Parsing completed. Parsed 7453215 lines in 19.4773 secs.</pre>"
      ],
      "text/plain": [
       "Parsing completed. Parsed 7453215 lines in 19.4773 secs."
      ]
     },
     "metadata": {},
     "output_type": "display_data"
    },
    {
     "name": "stdout",
     "output_type": "stream",
     "text": [
      "read 116525241 lines, reading next file 2008.csv\n"
     ]
    },
    {
     "data": {
      "text/html": [
       "<pre>Read 535634 lines. Lines per second: 217235</pre>"
      ],
      "text/plain": [
       "Read 535634 lines. Lines per second: 217235"
      ]
     },
     "metadata": {},
     "output_type": "display_data"
    },
    {
     "data": {
      "text/html": [
       "<pre>Read 3211046 lines. Lines per second: 388724</pre>"
      ],
      "text/plain": [
       "Read 3211046 lines. Lines per second: 388724"
      ]
     },
     "metadata": {},
     "output_type": "display_data"
    },
    {
     "data": {
      "text/html": [
       "<pre>Read 5346855 lines. Lines per second: 396925</pre>"
      ],
      "text/plain": [
       "Read 5346855 lines. Lines per second: 396925"
      ]
     },
     "metadata": {},
     "output_type": "display_data"
    },
    {
     "data": {
      "text/html": [
       "<pre>Finished parsing file /Users/darrenho/MSDSairline/2008.csv</pre>"
      ],
      "text/plain": [
       "Finished parsing file /Users/darrenho/MSDSairline/2008.csv"
      ]
     },
     "metadata": {},
     "output_type": "display_data"
    },
    {
     "data": {
      "text/html": [
       "<pre>Parsing completed. Parsed 7009728 lines in 16.8707 secs.</pre>"
      ],
      "text/plain": [
       "Parsing completed. Parsed 7009728 lines in 16.8707 secs."
      ]
     },
     "metadata": {},
     "output_type": "display_data"
    },
    {
     "name": "stdout",
     "output_type": "stream",
     "text": [
      "It took 329.33 seconds to concatenate the memory mapped file\n",
      "Saving... took 59.47 seconds Shape of SFrame is (123534969, 29)\n"
     ]
    }
   ],
   "source": [
    "del sf # get rid of the old thing\n",
    "# What about just loading up all the data using the SFrame Utility for loading CSV files?\n",
    "# We will need to make sure that the SFrame has consistent datatypes, so we will give the value for each header\n",
    "column_hints=[int,int,int,int,int,int,int,int,str,int,str,int,int,int,int,int,str,str,int,int,int,int,str,int,int,int,int,int,int]\n",
    "\n",
    "t = time.time()\n",
    "# now load the first SFrame\n",
    "sf = gl.SFrame() #.read_csv('Data/1987.csv',column_type_hints=column_hints)\n",
    "\n",
    "# and then append each SFrame in a for loop\n",
    "for year in range(1987,2009):\n",
    "    print 'read %d lines, reading next file %d.csv'%(sf.shape[0],year)\n",
    "    sys.stdout.flush()\n",
    "    sftmp = gl.SFrame.read_csv('/Users/darrenho/MSDSairline/%d.csv'%(year),column_type_hints=column_hints)\n",
    "    sf = sf.append(sftmp)\n",
    "\n",
    "print 'It took %.2f seconds to concatenate the memory mapped file'%(time.time()-t)\n",
    "\n",
    "t = time.time()\n",
    "print 'Saving...',\n",
    "sf.save('/Users/darrenho/MSDSairline/airline_data_sframe_directory') # save a compressed version of this SFrame\n",
    "print 'took %.2f seconds'%(time.time()-t),'Shape of SFrame is',sf.shape"
   ]
  },
  {
   "cell_type": "markdown",
   "metadata": {},
   "source": [
    "So yeah, we concatenated and loaded the file in ~320 seconds and saved a compressed binary version in about 1 minute (on my machine). That's quite a speedup. \n",
    "\n",
    "But can we perform operations upon it? Let's check how versatile these data structures are. Let's first try to replicate the functionality of finding the most popular airports to fly out of, like we did with `bigmemory`. "
   ]
  },
  {
   "cell_type": "code",
   "execution_count": 3,
   "metadata": {
    "collapsed": true
   },
   "outputs": [],
   "source": [
    "# CONVENIENCE BLOCK FOR THOSE LOADING FROM DISK HERE\n",
    "\n",
    "# If you have already run the notebook above and just want to load up the data\n",
    "# then you can reload the SFrame here\n",
    "import graphlab as gl\n",
    "\n",
    "sf = gl.load_sframe('/Users/darrenho/Box Sync/teaching/MSDS7333/Units13and14/data/sframe_directory')"
   ]
  },
  {
   "cell_type": "markdown",
   "metadata": {},
   "source": [
    "## 4.3 Analyzing popular Airports to fly from in Python\n",
    "We now need to perform some operations using the split-apply-combine technique. However, in graphlab this all happens via one syntax (the `groupby` function). Let's see how it works. "
   ]
  },
  {
   "cell_type": "code",
   "execution_count": null,
   "metadata": {
    "collapsed": true
   },
   "outputs": [],
   "source": [
    "# to perform grouping and splitting\n",
    "# we need to specify (1) which column(s) to group the SFrame using, and \n",
    "#                    (2) what function we want to perform on the group\n",
    "# in graphlab, we only have a few options for performing on each of the groups. \n",
    "# Here, lets keep it simple--let's group by the airport origin and then\n",
    "#  use the builtin 'count' function to aggregate the results\n",
    "# The result is another SFrame with the Unique origin names as a column and the\n",
    "#  number of entries in each group in another column\n",
    "%time sf_counts = sf.groupby('Origin', {'num_flights':gl.aggregate.COUNT()})\n",
    "sf_counts"
   ]
  },
  {
   "cell_type": "code",
   "execution_count": 38,
   "metadata": {
    "collapsed": false
   },
   "outputs": [
    {
     "data": {
      "image/png": "[encoded data removed]",
      "text/plain": [
       "<matplotlib.figure.Figure at 0x13a6862d0>"
      ]
     },
     "metadata": {},
     "output_type": "display_data"
    }
   ],
   "source": [
    "from matplotlib import pyplot as plt\n",
    "import numpy as np\n",
    "\n",
    "%matplotlib inline\n",
    "plt.style.use('ggplot')\n",
    "\n",
    "# As seen above, the sf_counts SFrame has the origin of the flight on the left\n",
    "# and the count of flights on the right \n",
    "\n",
    "# let's grab the top 10 entries\n",
    "sf_top = sf_counts.topk('num_flights',10) # this is builtin command in graphlab\n",
    "\n",
    "airports = np.array(sf_top['Origin'])\n",
    "counts = np.array(sf_top['num_flights'])\n",
    "\n",
    "fig = plt.figure(figsize=(8,4))\n",
    "plt.barh(range(len(counts)),counts)\n",
    "\n",
    "# and set them on the plot\n",
    "plt.yticks(range(len(airports)), airports)\n",
    "\n",
    "plt.show()"
   ]
  },
  {
   "cell_type": "markdown",
   "metadata": {},
   "source": [
    "Which is exactly what we got before using the big.matrix package! To me, this was a much simpler implementation, but we still need to see what the limitations are.\n",
    "___\n",
    "\n",
    "## 4.4 Analyzing Depature Delays at Specific Times of the Day in Python\n",
    "Now, let's try to do something a little more interesting, such as trying to perform the same operations that are in the Nolan text. Specifically, let's try to find the percentiles for late flights based upon the hour of the day that they depart. To do this we will:\n",
    "- Create a new column for the hour of the day that a plane departed.\n",
    "- Fix the `hours==24` and `hours==0` to be consistent\n",
    "- Group by the hours of departure \n",
    "- Take percentiles of each group to see which ones are the latest"
   ]
  },
  {
   "cell_type": "code",
   "execution_count": 39,
   "metadata": {
    "collapsed": false
   },
   "outputs": [
    {
     "data": {
      "text/plain": [
       "dtype: int\n",
       "Rows: 123534969\n",
       "[7, 7, 7, 7, 7, 7, 7, 7, 7, 7, 7, 7, 7, 7, 9, 9, 9, 9, 9, 9, 9, 9, 9, 9, 9, 9, 9, 9, 9, 9, 9, 9, 9, 9, 9, 9, 9, 9, 9, 9, 9, 9, 9, 15, 15, 15, 15, 15, 15, 15, 15, 15, 15, 15, 15, 15, 15, 15, 15, 15, 15, 15, 15, 15, 15, 15, 15, 15, 16, 16, 16, 16, 16, 16, 16, 16, 16, 16, 16, 16, 16, 16, 16, 16, 16, 16, 16, 16, 16, 16, 16, 16, 16, 16, 7, 8, 8, 8, 8, 8, ... ]"
      ]
     },
     "execution_count": 39,
     "metadata": {},
     "output_type": "execute_result"
    }
   ],
   "source": [
    "from math import floor\n",
    "# first, let's create a new column in this SFrame that has the departure time floored to the nearest hour\n",
    "sf['DepTimeByHour'] = sf['CRSDepTime'].apply(lambda x: floor(x/100),dtype=int)\n",
    "sf['DepTimeByHour'] # and print a few of them (note: the column has not been evaluated yet)"
   ]
  },
  {
   "cell_type": "code",
   "execution_count": 40,
   "metadata": {
    "collapsed": true
   },
   "outputs": [],
   "source": [
    "# Let's now change the hours of the day that are equal to 24\n",
    "# we need to be careful here becasue each column is not immutable\n",
    "# in pandas this would be:\n",
    "#    df.DepTimeByHour[df.DepTimeByHour==24] = 0\n",
    "# but we cant just change a few values in the column, we need to change them all and replace them\n",
    "# don't worry though, Graphlab does this smartly\n",
    "sf['DepTimeByHour'] = sf['DepTimeByHour'].apply(lambda x: 0 if x==24 else x)\n",
    "# again, this column has not been evaluated yet because that value has not yet been accessed"
   ]
  },
  {
   "cell_type": "code",
   "execution_count": 42,
   "metadata": {
    "collapsed": false
   },
   "outputs": [
    {
     "name": "stdout",
     "output_type": "stream",
     "text": [
      "Took 191.67 seconds to run\n"
     ]
    }
   ],
   "source": [
    "# now lets group the SFrame by the hours and calculate the percentiles of each group\n",
    "# here is where the lazy evaluation actually happens so this takes a little while to compute\n",
    "\n",
    "# the groupby function will partition our SFrame into groups based upon the given column of data\n",
    "# next, we need to tell graphlab what operations to perform on the group and what rows\n",
    "# to do that, we send in a dictionary of names and 'operations' \n",
    "# We did a similar operation above with the 'COUNT' aggregator\n",
    "# there are only a certain number of operators we can choose from, we will choose to use the 'QUANTILE'\n",
    "#   aggregator on the column 'DepDelay'. We want to take the percentiles [0.90,0.99,0.999,0.9999]\n",
    "# We can also perform other operations by adding entries in the dictonary\n",
    "# So we will also take the 'MAX' of each group\n",
    "import time\n",
    "t = time.time()\n",
    "delay_sf = sf.groupby('DepTimeByHour', \n",
    "                            {'delay_quantiles':gl.aggregate.QUANTILE('DepDelay', [0.90,0.99,0.999,0.9999]),\n",
    "                             'delay_max':gl.aggregate.MAX('DepDelay')})\n",
    "# this returns a new SFrame with the specified columns from each aggregation\n",
    "\n",
    "print 'Took %.2f seconds to run'%(time.time()-t)"
   ]
  },
  {
   "cell_type": "code",
   "execution_count": 43,
   "metadata": {
    "collapsed": false
   },
   "outputs": [
    {
     "data": {
      "text/html": [
       "<div style=\"max-height:1000px;max-width:1500px;overflow:auto;\"><table frame=\"box\" rules=\"cols\">\n",
       "    <tr>\n",
       "        <th style=\"padding-left: 1em; padding-right: 1em; text-align: center\">DepTimeByHour</th>\n",
       "        <th style=\"padding-left: 1em; padding-right: 1em; text-align: center\">delay_max</th>\n",
       "        <th style=\"padding-left: 1em; padding-right: 1em; text-align: center\">delay_quantiles</th>\n",
       "    </tr>\n",
       "    <tr>\n",
       "        <td style=\"padding-left: 1em; padding-right: 1em; text-align: center; vertical-align: top\">0</td>\n",
       "        <td style=\"padding-left: 1em; padding-right: 1em; text-align: center; vertical-align: top\">1435</td>\n",
       "        <td style=\"padding-left: 1em; padding-right: 1em; text-align: center; vertical-align: top\">[30.0, 139.0, 1435.0,<br>1435.0] ...</td>\n",
       "    </tr>\n",
       "    <tr>\n",
       "        <td style=\"padding-left: 1em; padding-right: 1em; text-align: center; vertical-align: top\">1</td>\n",
       "        <td style=\"padding-left: 1em; padding-right: 1em; text-align: center; vertical-align: top\">1419</td>\n",
       "        <td style=\"padding-left: 1em; padding-right: 1em; text-align: center; vertical-align: top\">[19.0, 98.0, 201.0,<br>1419.0] ...</td>\n",
       "    </tr>\n",
       "    <tr>\n",
       "        <td style=\"padding-left: 1em; padding-right: 1em; text-align: center; vertical-align: top\">2</td>\n",
       "        <td style=\"padding-left: 1em; padding-right: 1em; text-align: center; vertical-align: top\">1265</td>\n",
       "        <td style=\"padding-left: 1em; padding-right: 1em; text-align: center; vertical-align: top\">[10.0, 81.0, 1265.0,<br>1265.0] ...</td>\n",
       "    </tr>\n",
       "    <tr>\n",
       "        <td style=\"padding-left: 1em; padding-right: 1em; text-align: center; vertical-align: top\">3</td>\n",
       "        <td style=\"padding-left: 1em; padding-right: 1em; text-align: center; vertical-align: top\">976</td>\n",
       "        <td style=\"padding-left: 1em; padding-right: 1em; text-align: center; vertical-align: top\">[8.0, 96.0, 201.0, 976.0]</td>\n",
       "    </tr>\n",
       "    <tr>\n",
       "        <td style=\"padding-left: 1em; padding-right: 1em; text-align: center; vertical-align: top\">4</td>\n",
       "        <td style=\"padding-left: 1em; padding-right: 1em; text-align: center; vertical-align: top\">930</td>\n",
       "        <td style=\"padding-left: 1em; padding-right: 1em; text-align: center; vertical-align: top\">[9.0, 96.0, 930.0, 930.0]</td>\n",
       "    </tr>\n",
       "    <tr>\n",
       "        <td style=\"padding-left: 1em; padding-right: 1em; text-align: center; vertical-align: top\">5</td>\n",
       "        <td style=\"padding-left: 1em; padding-right: 1em; text-align: center; vertical-align: top\">1418</td>\n",
       "        <td style=\"padding-left: 1em; padding-right: 1em; text-align: center; vertical-align: top\">[5.0, 86.0, 1418.0,<br>1418.0] ...</td>\n",
       "    </tr>\n",
       "    <tr>\n",
       "        <td style=\"padding-left: 1em; padding-right: 1em; text-align: center; vertical-align: top\">6</td>\n",
       "        <td style=\"padding-left: 1em; padding-right: 1em; text-align: center; vertical-align: top\">1740</td>\n",
       "        <td style=\"padding-left: 1em; padding-right: 1em; text-align: center; vertical-align: top\">[6.0, 79.0, 1740.0,<br>1740.0] ...</td>\n",
       "    </tr>\n",
       "    <tr>\n",
       "        <td style=\"padding-left: 1em; padding-right: 1em; text-align: center; vertical-align: top\">7</td>\n",
       "        <td style=\"padding-left: 1em; padding-right: 1em; text-align: center; vertical-align: top\">1956</td>\n",
       "        <td style=\"padding-left: 1em; padding-right: 1em; text-align: center; vertical-align: top\">[9.0, 85.0, 1956.0,<br>1956.0] ...</td>\n",
       "    </tr>\n",
       "    <tr>\n",
       "        <td style=\"padding-left: 1em; padding-right: 1em; text-align: center; vertical-align: top\">8</td>\n",
       "        <td style=\"padding-left: 1em; padding-right: 1em; text-align: center; vertical-align: top\">2119</td>\n",
       "        <td style=\"padding-left: 1em; padding-right: 1em; text-align: center; vertical-align: top\">[14.0, 92.0, 2119.0,<br>2119.0] ...</td>\n",
       "    </tr>\n",
       "    <tr>\n",
       "        <td style=\"padding-left: 1em; padding-right: 1em; text-align: center; vertical-align: top\">9</td>\n",
       "        <td style=\"padding-left: 1em; padding-right: 1em; text-align: center; vertical-align: top\">1800</td>\n",
       "        <td style=\"padding-left: 1em; padding-right: 1em; text-align: center; vertical-align: top\">[17.0, 100.0, 1800.0,<br>1800.0] ...</td>\n",
       "    </tr>\n",
       "</table>\n",
       "[24 rows x 3 columns]<br/>Note: Only the head of the SFrame is printed.<br/>You can use print_rows(num_rows=m, num_columns=n) to print more rows and columns.\n",
       "</div>"
      ],
      "text/plain": [
       "Columns:\n",
       "\tDepTimeByHour\tint\n",
       "\tdelay_max\tint\n",
       "\tdelay_quantiles\tarray\n",
       "\n",
       "Rows: 24\n",
       "\n",
       "Data:\n",
       "+---------------+-----------+-------------------------------+\n",
       "| DepTimeByHour | delay_max |        delay_quantiles        |\n",
       "+---------------+-----------+-------------------------------+\n",
       "|       0       |    1435   | [30.0, 139.0, 1435.0, 1435.0] |\n",
       "|       1       |    1419   |  [19.0, 98.0, 201.0, 1419.0]  |\n",
       "|       2       |    1265   |  [10.0, 81.0, 1265.0, 1265.0] |\n",
       "|       3       |    976    |   [8.0, 96.0, 201.0, 976.0]   |\n",
       "|       4       |    930    |   [9.0, 96.0, 930.0, 930.0]   |\n",
       "|       5       |    1418   |  [5.0, 86.0, 1418.0, 1418.0]  |\n",
       "|       6       |    1740   |  [6.0, 79.0, 1740.0, 1740.0]  |\n",
       "|       7       |    1956   |  [9.0, 85.0, 1956.0, 1956.0]  |\n",
       "|       8       |    2119   |  [14.0, 92.0, 2119.0, 2119.0] |\n",
       "|       9       |    1800   | [17.0, 100.0, 1800.0, 1800.0] |\n",
       "+---------------+-----------+-------------------------------+\n",
       "[24 rows x 3 columns]\n",
       "Note: Only the head of the SFrame is printed.\n",
       "You can use print_rows(num_rows=m, num_columns=n) to print more rows and columns."
      ]
     },
     "execution_count": 43,
     "metadata": {},
     "output_type": "execute_result"
    }
   ],
   "source": [
    "# sort it by when departed and display it\n",
    "delay_sf = delay_sf.sort('DepTimeByHour')\n",
    "delay_sf"
   ]
  },
  {
   "cell_type": "code",
   "execution_count": 44,
   "metadata": {
    "collapsed": false
   },
   "outputs": [
    {
     "data": {
      "image/png": "[encoded data removed]",
      "text/plain": [
       "<matplotlib.figure.Figure at 0x13b93e910>"
      ]
     },
     "metadata": {},
     "output_type": "display_data"
    }
   ],
   "source": [
    "# to use matplotlib, we need to convert over to numpy arrays\n",
    "# this is a fine operation because the new aggregated SFrame we are \n",
    "# working (delay_sf) with is quite small\n",
    "x = np.array(delay_sf['DepTimeByHour'])\n",
    "y = np.array(delay_sf['delay_quantiles'])\n",
    "\n",
    "plt.figure(figsize=(10,4))\n",
    "plt.subplot(1,2,1)\n",
    "plt.plot(x,y)\n",
    "plt.ylabel('Minutes Delayed')\n",
    "plt.xlabel('Hour of Day')\n",
    "\n",
    "\n",
    "plt.subplot(1,2,2)\n",
    "plt.plot(x,y)\n",
    "plt.xlabel('Hour of Day')\n",
    "plt.ylim(0,1400) # make the same axes as in the book\n",
    "plt.legend(['0.9','0.99','0.999','0.9999'])\n",
    "\n",
    "plt.show()"
   ]
  },
  {
   "cell_type": "markdown",
   "metadata": {},
   "source": [
    "Oh no! This doesn't look like the graph from the book at all!! Actually, there is a really great reason for that...\n",
    "\n",
    "Let's investigate further. The bottom two lines (percentiles 0.90 and 0.99) look very similar to what your book had, but the other two percentile values (0.999 and 0.9999) seemingly did not evaluate properly. \n",
    "\n",
    "Find out why by looking at the documentation for the quartile aggregator.\n",
    "- https://dato.com/products/create/docs/graphlab.data_structures.aggregation.html#module-graphlab.aggregate\n",
    "- Hint: there is a reason that the quantile calculation was really, really, really fast.\n",
    "___\n",
    "\n",
    "## 4.5 Calculate Plane Age with Dato\n",
    "So let's keep moving and try to calculate the plane's age like we did in R."
   ]
  },
  {
   "cell_type": "code",
   "execution_count": 45,
   "metadata": {
    "collapsed": true
   },
   "outputs": [],
   "source": [
    "# only use years where the tail number was recorded\n",
    "# we can manipulate the SFrame fairly easily in graphlab, so let's do it\n",
    "sf_tmp = sf[['TailNum','Year','Month','DepDelay']][sf['Year']>1994]"
   ]
  },
  {
   "cell_type": "code",
   "execution_count": 46,
   "metadata": {
    "collapsed": false
   },
   "outputs": [
    {
     "name": "stdout",
     "output_type": "stream",
     "text": [
      "Took 102.38 seconds to run\n"
     ]
    }
   ],
   "source": [
    "# lets try to make a function for getting the age of the plane\n",
    "# First lets just save the plane's age in years\n",
    "sf_tmp['FlightAge'] = 12*sf_tmp['Year']+sf_tmp['Month']-1\n",
    "\n",
    "# and take the minimum of that in order to get its first flight\n",
    "t = time.time()\n",
    "sf_min_ages = sf_tmp[['TailNum','FlightAge']].groupby('TailNum',{'FirstFlight':gl.aggregate.MIN('FlightAge')})\n",
    "print 'Took %.2f seconds to run'%(time.time()-t)"
   ]
  },
  {
   "cell_type": "code",
   "execution_count": 47,
   "metadata": {
    "collapsed": false
   },
   "outputs": [
    {
     "name": "stdout",
     "output_type": "stream",
     "text": [
      "CPU times: user 193 ms, sys: 300 ms, total: 494 ms\n",
      "Wall time: 7min 39s\n"
     ]
    }
   ],
   "source": [
    "# Now transform the FirstFlight Column into the original dataframe size\n",
    "# to do that we can just do a join on a few columns of our sf\n",
    "# this will save the flight age and the minimum in a new SFrame\n",
    "%time sf_fewcols = sf_tmp[['TailNum','FlightAge']].join(sf_min_ages,on='TailNum',how='left') # long operation"
   ]
  },
  {
   "cell_type": "code",
   "execution_count": 48,
   "metadata": {
    "collapsed": true
   },
   "outputs": [],
   "source": [
    "# and now we can simply subtract the new calculated quantity and add to the original SFrame\n",
    "sf_tmp['Age'] = sf_fewcols['FlightAge']-sf_fewcols['FirstFlight']"
   ]
  },
  {
   "cell_type": "markdown",
   "metadata": {},
   "source": [
    "## 4.6 Calculate a linear model from massive data with Python\n",
    "Graphlab (much like `biganalytics`) will perform mini-batch linear regression and it will do it fast. Let's see what kind of output we get."
   ]
  },
  {
   "cell_type": "code",
   "execution_count": 49,
   "metadata": {
    "collapsed": false
   },
   "outputs": [
    {
     "name": "stdout",
     "output_type": "stream",
     "text": [
      "PROGRESS: Creating a validation set from 5 percent of training data. This may take a while.\n",
      "          You can set ``validation_set=None`` to disable validation tracking.\n",
      "\n",
      "PROGRESS: Linear regression:\n",
      "PROGRESS: --------------------------------------------------------\n",
      "PROGRESS: Number of examples          : 80183731\n",
      "PROGRESS: Number of features          : 1\n",
      "PROGRESS: Number of unpacked features : 1\n",
      "PROGRESS: Number of coefficients    : 2\n",
      "PROGRESS: Starting Newton Method\n",
      "PROGRESS: --------------------------------------------------------\n",
      "PROGRESS: +-----------+----------+--------------+--------------------+----------------------+---------------+-----------------+\n",
      "PROGRESS: | Iteration | Passes   | Elapsed Time | Training-max_error | Validation-max_error | Training-rmse | Validation-rmse |\n",
      "PROGRESS: +-----------+----------+--------------+--------------------+----------------------+---------------+-----------------+\n",
      "PROGRESS: | 1         | 2        | 9.125101     | 2591.597051        | 1947.347461          | 30.926499     | 30.826641       |\n",
      "PROGRESS: +-----------+----------+--------------+--------------------+----------------------+---------------+-----------------+\n",
      "CPU times: user 271 ms, sys: 128 ms, total: 399 ms\n",
      "Wall time: 2min 20s\n"
     ]
    }
   ],
   "source": [
    "# now look at the age and delay time in terms of regression (like your book)\n",
    "%time lin_model = gl.linear_regression.create(sf_tmp['DepDelay','Age'].dropna(), target='DepDelay', features=['Age'])"
   ]
  },
  {
   "cell_type": "code",
   "execution_count": 50,
   "metadata": {
    "collapsed": false
   },
   "outputs": [
    {
     "data": {
      "text/html": [
       "<div style=\"max-height:1000px;max-width:1500px;overflow:auto;\"><table frame=\"box\" rules=\"cols\">\n",
       "    <tr>\n",
       "        <th style=\"padding-left: 1em; padding-right: 1em; text-align: center\">name</th>\n",
       "        <th style=\"padding-left: 1em; padding-right: 1em; text-align: center\">index</th>\n",
       "        <th style=\"padding-left: 1em; padding-right: 1em; text-align: center\">value</th>\n",
       "    </tr>\n",
       "    <tr>\n",
       "        <td style=\"padding-left: 1em; padding-right: 1em; text-align: center; vertical-align: top\">(intercept)</td>\n",
       "        <td style=\"padding-left: 1em; padding-right: 1em; text-align: center; vertical-align: top\">None</td>\n",
       "        <td style=\"padding-left: 1em; padding-right: 1em; text-align: center; vertical-align: top\">8.59440814545</td>\n",
       "    </tr>\n",
       "    <tr>\n",
       "        <td style=\"padding-left: 1em; padding-right: 1em; text-align: center; vertical-align: top\">Age</td>\n",
       "        <td style=\"padding-left: 1em; padding-right: 1em; text-align: center; vertical-align: top\">None</td>\n",
       "        <td style=\"padding-left: 1em; padding-right: 1em; text-align: center; vertical-align: top\">0.00528458023677</td>\n",
       "    </tr>\n",
       "</table>\n",
       "[2 rows x 3 columns]<br/>\n",
       "</div>"
      ],
      "text/plain": [
       "Columns:\n",
       "\tname\tstr\n",
       "\tindex\tstr\n",
       "\tvalue\tfloat\n",
       "\n",
       "Rows: 2\n",
       "\n",
       "Data:\n",
       "+-------------+-------+------------------+\n",
       "|     name    | index |      value       |\n",
       "+-------------+-------+------------------+\n",
       "| (intercept) |  None |  8.59440814545   |\n",
       "|     Age     |  None | 0.00528458023677 |\n",
       "+-------------+-------+------------------+\n",
       "[2 rows x 3 columns]"
      ]
     },
     "execution_count": 50,
     "metadata": {},
     "output_type": "execute_result"
    }
   ],
   "source": [
    "lin_model['coefficients']"
   ]
  },
  {
   "cell_type": "markdown",
   "metadata": {},
   "source": [
    "Which again, gives us a positive association of Age and departure delay time (but could be very weak because we model nothing else). The value is of the same magnitude as what we found using R. It is slightly different because we need to use gradient descent (not batch methods, which are deterministic). The number of iterations and starting point for gradient methods will slightly (or not so slightly sometimes) affect the final coefficient values. \n",
    "\n",
    "___\n",
    "# 5.0 Conclusions\n",
    "Now that we have seen SFrames and bigmemory, which one should you choose? **As always, it depends.** I would recommend performing preprocessing with SFrames, almost always. They are much easier to work with. But their use of split-apply-combine is still lacking behind the abilities of R's bigmemory. Some operations are optimized, and if you can get away with only using those operations, then try just using SFrames. Since SFrames are great for adding and subtracting columns, that is another way to play around with the data before trying to use R. \n",
    "\n",
    "However, if you need a more flexible solution, bigmemory will need to be what you go with. And it is a really wonderful program... That's especially true when the aggregation function you use needs to do something rather complex. If you are running windows... SFrames are your goto. But, really, why are you running windows? Oh right, for SAS... Time to install a linux partition maybe... Or buy a mac and run bootcamp... You get the idea.\n",
    "\n",
    "Another thing to keep in mind: Graphlab is actively being developed (and most of it is open source, like SFrames). It will one day have an R interface. It will probably get custom aggregation functions one day soon. \n",
    "\n",
    "The solutions I have provided here are just examples. Large datasets can be handled using databases really well (but eventually you run into limitations). \n",
    "\n",
    "And, as always, happy analyzing!\n",
    "\n",
    "___\n",
    "\n",
    "*This Notebook was created by Professor Eric Larson and modified by Darren Homrighausen"
   ]
  },
  {
   "cell_type": "code",
   "execution_count": null,
   "metadata": {
    "collapsed": true
   },
   "outputs": [],
   "source": []
  },
  {
   "cell_type": "code",
   "execution_count": null,
   "metadata": {
    "collapsed": true
   },
   "outputs": [],
   "source": [
    "\n"
   ]
  },
  {
   "cell_type": "code",
   "execution_count": null,
   "metadata": {
    "collapsed": true
   },
   "outputs": [],
   "source": []
  }
 ],
 "metadata": {
  "anaconda-cloud": {},
  "kernelspec": {
   "display_name": "Python (gl=env)",
   "language": "python",
   "name": "gl-env"
  },
  "language_info": {
   "codemirror_mode": {
    "name": "ipython",
    "version": 2
   },
   "file_extension": ".py",
   "mimetype": "text/x-python",
   "name": "python",
   "nbconvert_exporter": "python",
   "pygments_lexer": "ipython2",
   "version": "2.7.11"
  },
  "varInspector": {
   "cols": {
    "lenName": 16,
    "lenType": 16,
    "lenVar": 40
   },
   "kernels_config": {
    "python": {
     "delete_cmd_postfix": "",
     "delete_cmd_prefix": "del ",
     "library": "var_list.py",
     "varRefreshCmd": "print(var_dic_list())"
    },
    "r": {
     "delete_cmd_postfix": ") ",
     "delete_cmd_prefix": "rm(",
     "library": "var_list.r",
     "varRefreshCmd": "cat(var_dic_list()) "
    }
   },
   "types_to_exclude": [
    "module",
    "function",
    "builtin_function_or_method",
    "instance",
    "_Feature"
   ],
   "window_display": false
  }
 },
 "nbformat": 4,
 "nbformat_minor": 1
}
